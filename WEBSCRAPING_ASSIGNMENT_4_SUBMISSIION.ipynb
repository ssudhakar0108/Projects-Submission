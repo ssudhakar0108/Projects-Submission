{
 "cells": [
  {
   "cell_type": "markdown",
   "metadata": {},
   "source": [
    "# 1. Scrape the details of most viewed videos on YouTube from Wikipedia:\n",
    "Url = https://en.wikipedia.org/wiki/List_of_most-viewed_YouTube_videos/\n",
    "You need to find following details:\n",
    "A) Rank\n",
    "B) Name\n",
    "C) Artist\n",
    "D) Upload date\n",
    "E) Views"
   ]
  },
  {
   "cell_type": "code",
   "execution_count": 1,
   "metadata": {},
   "outputs": [],
   "source": [
    "# Importing Libraries\n",
    "import pandas as pd\n",
    "from bs4 import BeautifulSoup\n",
    "import requests\n",
    "import selenium\n",
    "from selenium import webdriver\n",
    "import time\n",
    "from selenium.webdriver.support.ui import WebDriverWait\n",
    "from selenium.webdriver.common.by import By\n",
    "from selenium.webdriver.support.ui import WebDriverWait\n",
    "from selenium.webdriver.support import expected_conditions as EC"
   ]
  },
  {
   "cell_type": "code",
   "execution_count": 3,
   "metadata": {},
   "outputs": [],
   "source": [
    " \n",
    "driver=webdriver.Chrome(r\"/home/sudhakar/Downloads/chromedriver\")\n",
    "time.sleep(5)\n"
   ]
  },
  {
   "cell_type": "code",
   "execution_count": 34,
   "metadata": {},
   "outputs": [],
   "source": [
    "import pandas as pd\n",
    "d=pd.read_html(\"https://en.wikipedia.org/wiki/List_of_most-viewed_YouTube_videos\")"
   ]
  },
  {
   "cell_type": "code",
   "execution_count": 36,
   "metadata": {},
   "outputs": [
    {
     "data": {
      "text/html": [
       "<div>\n",
       "<style scoped>\n",
       "    .dataframe tbody tr th:only-of-type {\n",
       "        vertical-align: middle;\n",
       "    }\n",
       "\n",
       "    .dataframe tbody tr th {\n",
       "        vertical-align: top;\n",
       "    }\n",
       "\n",
       "    .dataframe thead th {\n",
       "        text-align: right;\n",
       "    }\n",
       "</style>\n",
       "<table border=\"1\" class=\"dataframe\">\n",
       "  <thead>\n",
       "    <tr style=\"text-align: right;\">\n",
       "      <th></th>\n",
       "      <th>No.</th>\n",
       "      <th>Video name</th>\n",
       "      <th>Uploader / artist</th>\n",
       "      <th>Views (billions)</th>\n",
       "      <th>Upload date</th>\n",
       "      <th>Note</th>\n",
       "      <th>Unnamed: 6</th>\n",
       "    </tr>\n",
       "  </thead>\n",
       "  <tbody>\n",
       "    <tr>\n",
       "      <th>0</th>\n",
       "      <td>1.</td>\n",
       "      <td>\"Baby Shark Dance\"[28]</td>\n",
       "      <td>Pinkfong Kids' Songs &amp; Stories</td>\n",
       "      <td>7.85</td>\n",
       "      <td>June 17, 2016</td>\n",
       "      <td>[B]</td>\n",
       "      <td>NaN</td>\n",
       "    </tr>\n",
       "    <tr>\n",
       "      <th>1</th>\n",
       "      <td>2.</td>\n",
       "      <td>\"Despacito\"[30]</td>\n",
       "      <td>Luis Fonsi featuring Daddy Yankee</td>\n",
       "      <td>7.19</td>\n",
       "      <td>January 12, 2017</td>\n",
       "      <td>[C]</td>\n",
       "      <td>NaN</td>\n",
       "    </tr>\n",
       "    <tr>\n",
       "      <th>2</th>\n",
       "      <td>3.</td>\n",
       "      <td>\"Shape of You\"[31]</td>\n",
       "      <td>Ed Sheeran</td>\n",
       "      <td>5.18</td>\n",
       "      <td>January 30, 2017</td>\n",
       "      <td>[D]</td>\n",
       "      <td>NaN</td>\n",
       "    </tr>\n",
       "    <tr>\n",
       "      <th>3</th>\n",
       "      <td>4.</td>\n",
       "      <td>\"See You Again\"[32]</td>\n",
       "      <td>Wiz Khalifa featuring Charlie Puth</td>\n",
       "      <td>4.94</td>\n",
       "      <td>April 6, 2015</td>\n",
       "      <td>[E]</td>\n",
       "      <td>NaN</td>\n",
       "    </tr>\n",
       "    <tr>\n",
       "      <th>4</th>\n",
       "      <td>5.</td>\n",
       "      <td>\"Johny Johny Yes Papa\"[35]</td>\n",
       "      <td>LooLoo Kids</td>\n",
       "      <td>4.73</td>\n",
       "      <td>October 8, 2016</td>\n",
       "      <td>[F]</td>\n",
       "      <td>NaN</td>\n",
       "    </tr>\n",
       "    <tr>\n",
       "      <th>5</th>\n",
       "      <td>6.</td>\n",
       "      <td>\"Masha and the Bear – Recipe for Disaster\"[36]</td>\n",
       "      <td>Get Movies</td>\n",
       "      <td>4.41</td>\n",
       "      <td>January 31, 2012</td>\n",
       "      <td>[G]</td>\n",
       "      <td>NaN</td>\n",
       "    </tr>\n",
       "    <tr>\n",
       "      <th>6</th>\n",
       "      <td>7.</td>\n",
       "      <td>\"Uptown Funk\"[37]</td>\n",
       "      <td>Mark Ronson featuring Bruno Mars</td>\n",
       "      <td>4.08</td>\n",
       "      <td>November 19, 2014</td>\n",
       "      <td>[H]</td>\n",
       "      <td>NaN</td>\n",
       "    </tr>\n",
       "    <tr>\n",
       "      <th>7</th>\n",
       "      <td>8.</td>\n",
       "      <td>\"Gangnam Style\"[38]</td>\n",
       "      <td>Psy</td>\n",
       "      <td>3.96</td>\n",
       "      <td>July 15, 2012</td>\n",
       "      <td>[I]</td>\n",
       "      <td>NaN</td>\n",
       "    </tr>\n",
       "    <tr>\n",
       "      <th>8</th>\n",
       "      <td>9.</td>\n",
       "      <td>\"Learning Colors – Colorful Eggs on a Farm\"[40]</td>\n",
       "      <td>Miroshka TV</td>\n",
       "      <td>3.69</td>\n",
       "      <td>February 27, 2018</td>\n",
       "      <td>NaN</td>\n",
       "      <td>NaN</td>\n",
       "    </tr>\n",
       "    <tr>\n",
       "      <th>9</th>\n",
       "      <td>10.</td>\n",
       "      <td>\"Bath Song\"[41]</td>\n",
       "      <td>Cocomelon – Nursery Rhymes</td>\n",
       "      <td>3.61</td>\n",
       "      <td>May 2, 2018</td>\n",
       "      <td>NaN</td>\n",
       "      <td>NaN</td>\n",
       "    </tr>\n",
       "    <tr>\n",
       "      <th>10</th>\n",
       "      <td>11.</td>\n",
       "      <td>\"Phonics Song with Two Words\"[42]</td>\n",
       "      <td>ChuChu TV</td>\n",
       "      <td>3.50</td>\n",
       "      <td>March 6, 2014</td>\n",
       "      <td>NaN</td>\n",
       "      <td>NaN</td>\n",
       "    </tr>\n",
       "    <tr>\n",
       "      <th>11</th>\n",
       "      <td>12.</td>\n",
       "      <td>\"Sorry\"[43]</td>\n",
       "      <td>Justin Bieber</td>\n",
       "      <td>3.40</td>\n",
       "      <td>October 22, 2015</td>\n",
       "      <td>NaN</td>\n",
       "      <td>NaN</td>\n",
       "    </tr>\n",
       "    <tr>\n",
       "      <th>12</th>\n",
       "      <td>13.</td>\n",
       "      <td>\"Sugar\"[44]</td>\n",
       "      <td>Maroon 5</td>\n",
       "      <td>3.39</td>\n",
       "      <td>January 14, 2015</td>\n",
       "      <td>NaN</td>\n",
       "      <td>NaN</td>\n",
       "    </tr>\n",
       "    <tr>\n",
       "      <th>13</th>\n",
       "      <td>14.</td>\n",
       "      <td>\"Roar\"[45]</td>\n",
       "      <td>Katy Perry</td>\n",
       "      <td>3.27</td>\n",
       "      <td>September 5, 2013</td>\n",
       "      <td>NaN</td>\n",
       "      <td>NaN</td>\n",
       "    </tr>\n",
       "    <tr>\n",
       "      <th>14</th>\n",
       "      <td>15.</td>\n",
       "      <td>\"Counting Stars\"[46]</td>\n",
       "      <td>OneRepublic</td>\n",
       "      <td>3.19</td>\n",
       "      <td>May 31, 2013</td>\n",
       "      <td>NaN</td>\n",
       "      <td>NaN</td>\n",
       "    </tr>\n",
       "    <tr>\n",
       "      <th>15</th>\n",
       "      <td>16.</td>\n",
       "      <td>\"Thinking Out Loud\"[47]</td>\n",
       "      <td>Ed Sheeran</td>\n",
       "      <td>3.18</td>\n",
       "      <td>October 7, 2014</td>\n",
       "      <td>NaN</td>\n",
       "      <td>NaN</td>\n",
       "    </tr>\n",
       "    <tr>\n",
       "      <th>16</th>\n",
       "      <td>17.</td>\n",
       "      <td>\"Dame Tu Cosita\"[48]</td>\n",
       "      <td>El Chombo featuring Cutty Ranks</td>\n",
       "      <td>3.10</td>\n",
       "      <td>April 5, 2018</td>\n",
       "      <td>NaN</td>\n",
       "      <td>NaN</td>\n",
       "    </tr>\n",
       "    <tr>\n",
       "      <th>17</th>\n",
       "      <td>18.</td>\n",
       "      <td>\"Shake It Off\"[49]</td>\n",
       "      <td>Taylor Swift</td>\n",
       "      <td>3.02</td>\n",
       "      <td>August 18, 2014</td>\n",
       "      <td>NaN</td>\n",
       "      <td>NaN</td>\n",
       "    </tr>\n",
       "    <tr>\n",
       "      <th>18</th>\n",
       "      <td>19.</td>\n",
       "      <td>\"Faded\"[50]</td>\n",
       "      <td>Alan Walker</td>\n",
       "      <td>2.98</td>\n",
       "      <td>December 3, 2015</td>\n",
       "      <td>NaN</td>\n",
       "      <td>NaN</td>\n",
       "    </tr>\n",
       "    <tr>\n",
       "      <th>19</th>\n",
       "      <td>20.</td>\n",
       "      <td>\"Lean On\"[51]</td>\n",
       "      <td>Major Lazer and DJ Snake featuring MØ</td>\n",
       "      <td>2.97</td>\n",
       "      <td>March 22, 2015</td>\n",
       "      <td>NaN</td>\n",
       "      <td>NaN</td>\n",
       "    </tr>\n",
       "    <tr>\n",
       "      <th>20</th>\n",
       "      <td>21.</td>\n",
       "      <td>\"Bailando\"[52]</td>\n",
       "      <td>Enrique Iglesias featuring Descemer Bueno and ...</td>\n",
       "      <td>2.97</td>\n",
       "      <td>April 11, 2014</td>\n",
       "      <td>NaN</td>\n",
       "      <td>NaN</td>\n",
       "    </tr>\n",
       "    <tr>\n",
       "      <th>21</th>\n",
       "      <td>22.</td>\n",
       "      <td>\"Dark Horse\"[53]</td>\n",
       "      <td>Katy Perry featuring Juicy J</td>\n",
       "      <td>2.96</td>\n",
       "      <td>February 20, 2014</td>\n",
       "      <td>NaN</td>\n",
       "      <td>NaN</td>\n",
       "    </tr>\n",
       "    <tr>\n",
       "      <th>22</th>\n",
       "      <td>23.</td>\n",
       "      <td>\"Girls Like You\"[54]</td>\n",
       "      <td>Maroon 5 featuring Cardi B</td>\n",
       "      <td>2.95</td>\n",
       "      <td>May 31, 2018</td>\n",
       "      <td>NaN</td>\n",
       "      <td>NaN</td>\n",
       "    </tr>\n",
       "    <tr>\n",
       "      <th>23</th>\n",
       "      <td>24.</td>\n",
       "      <td>\"Let Her Go\"[55]</td>\n",
       "      <td>Passenger</td>\n",
       "      <td>2.90</td>\n",
       "      <td>July 25, 2012</td>\n",
       "      <td>NaN</td>\n",
       "      <td>NaN</td>\n",
       "    </tr>\n",
       "    <tr>\n",
       "      <th>24</th>\n",
       "      <td>25.</td>\n",
       "      <td>\"Mi Gente\"[56]</td>\n",
       "      <td>J Balvin and Willy William</td>\n",
       "      <td>2.86</td>\n",
       "      <td>June 29, 2017</td>\n",
       "      <td>NaN</td>\n",
       "      <td>NaN</td>\n",
       "    </tr>\n",
       "    <tr>\n",
       "      <th>25</th>\n",
       "      <td>26.</td>\n",
       "      <td>\"Hello\"[57]</td>\n",
       "      <td>Adele</td>\n",
       "      <td>2.78</td>\n",
       "      <td>October 22, 2015</td>\n",
       "      <td>NaN</td>\n",
       "      <td>NaN</td>\n",
       "    </tr>\n",
       "    <tr>\n",
       "      <th>26</th>\n",
       "      <td>27.</td>\n",
       "      <td>\"Waka Waka (This Time for Africa)\"[58]</td>\n",
       "      <td>Shakira featuring Freshlyground</td>\n",
       "      <td>2.73</td>\n",
       "      <td>June 4, 2010</td>\n",
       "      <td>NaN</td>\n",
       "      <td>NaN</td>\n",
       "    </tr>\n",
       "    <tr>\n",
       "      <th>27</th>\n",
       "      <td>28.</td>\n",
       "      <td>\"Perfect\"[59]</td>\n",
       "      <td>Ed Sheeran</td>\n",
       "      <td>2.73</td>\n",
       "      <td>November 9, 2017</td>\n",
       "      <td>NaN</td>\n",
       "      <td>NaN</td>\n",
       "    </tr>\n",
       "    <tr>\n",
       "      <th>28</th>\n",
       "      <td>29.</td>\n",
       "      <td>\"Blank Space\"[60]</td>\n",
       "      <td>Taylor Swift</td>\n",
       "      <td>2.71</td>\n",
       "      <td>November 10, 2014</td>\n",
       "      <td>NaN</td>\n",
       "      <td>NaN</td>\n",
       "    </tr>\n",
       "    <tr>\n",
       "      <th>29</th>\n",
       "      <td>30.</td>\n",
       "      <td>\"Chantaje\"[61]</td>\n",
       "      <td>Shakira featuring Maluma</td>\n",
       "      <td>2.62</td>\n",
       "      <td>November 18, 2016</td>\n",
       "      <td>NaN</td>\n",
       "      <td>NaN</td>\n",
       "    </tr>\n",
       "    <tr>\n",
       "      <th>30</th>\n",
       "      <td>As of February 4, 2021</td>\n",
       "      <td>As of February 4, 2021</td>\n",
       "      <td>As of February 4, 2021</td>\n",
       "      <td>As of February 4, 2021</td>\n",
       "      <td>As of February 4, 2021</td>\n",
       "      <td>As of February 4, 2021</td>\n",
       "      <td>As of February 4, 2021</td>\n",
       "    </tr>\n",
       "  </tbody>\n",
       "</table>\n",
       "</div>"
      ],
      "text/plain": [
       "                       No.                                       Video name  \\\n",
       "0                       1.                           \"Baby Shark Dance\"[28]   \n",
       "1                       2.                                  \"Despacito\"[30]   \n",
       "2                       3.                               \"Shape of You\"[31]   \n",
       "3                       4.                              \"See You Again\"[32]   \n",
       "4                       5.                       \"Johny Johny Yes Papa\"[35]   \n",
       "5                       6.   \"Masha and the Bear – Recipe for Disaster\"[36]   \n",
       "6                       7.                                \"Uptown Funk\"[37]   \n",
       "7                       8.                              \"Gangnam Style\"[38]   \n",
       "8                       9.  \"Learning Colors – Colorful Eggs on a Farm\"[40]   \n",
       "9                      10.                                  \"Bath Song\"[41]   \n",
       "10                     11.                \"Phonics Song with Two Words\"[42]   \n",
       "11                     12.                                      \"Sorry\"[43]   \n",
       "12                     13.                                      \"Sugar\"[44]   \n",
       "13                     14.                                       \"Roar\"[45]   \n",
       "14                     15.                             \"Counting Stars\"[46]   \n",
       "15                     16.                          \"Thinking Out Loud\"[47]   \n",
       "16                     17.                             \"Dame Tu Cosita\"[48]   \n",
       "17                     18.                               \"Shake It Off\"[49]   \n",
       "18                     19.                                      \"Faded\"[50]   \n",
       "19                     20.                                    \"Lean On\"[51]   \n",
       "20                     21.                                   \"Bailando\"[52]   \n",
       "21                     22.                                 \"Dark Horse\"[53]   \n",
       "22                     23.                             \"Girls Like You\"[54]   \n",
       "23                     24.                                 \"Let Her Go\"[55]   \n",
       "24                     25.                                   \"Mi Gente\"[56]   \n",
       "25                     26.                                      \"Hello\"[57]   \n",
       "26                     27.           \"Waka Waka (This Time for Africa)\"[58]   \n",
       "27                     28.                                    \"Perfect\"[59]   \n",
       "28                     29.                                \"Blank Space\"[60]   \n",
       "29                     30.                                   \"Chantaje\"[61]   \n",
       "30  As of February 4, 2021                           As of February 4, 2021   \n",
       "\n",
       "                                    Uploader / artist        Views (billions)  \\\n",
       "0                      Pinkfong Kids' Songs & Stories                    7.85   \n",
       "1                   Luis Fonsi featuring Daddy Yankee                    7.19   \n",
       "2                                          Ed Sheeran                    5.18   \n",
       "3                  Wiz Khalifa featuring Charlie Puth                    4.94   \n",
       "4                                         LooLoo Kids                    4.73   \n",
       "5                                          Get Movies                    4.41   \n",
       "6                    Mark Ronson featuring Bruno Mars                    4.08   \n",
       "7                                                 Psy                    3.96   \n",
       "8                                         Miroshka TV                    3.69   \n",
       "9                          Cocomelon – Nursery Rhymes                    3.61   \n",
       "10                                          ChuChu TV                    3.50   \n",
       "11                                      Justin Bieber                    3.40   \n",
       "12                                           Maroon 5                    3.39   \n",
       "13                                         Katy Perry                    3.27   \n",
       "14                                        OneRepublic                    3.19   \n",
       "15                                         Ed Sheeran                    3.18   \n",
       "16                    El Chombo featuring Cutty Ranks                    3.10   \n",
       "17                                       Taylor Swift                    3.02   \n",
       "18                                        Alan Walker                    2.98   \n",
       "19              Major Lazer and DJ Snake featuring MØ                    2.97   \n",
       "20  Enrique Iglesias featuring Descemer Bueno and ...                    2.97   \n",
       "21                       Katy Perry featuring Juicy J                    2.96   \n",
       "22                         Maroon 5 featuring Cardi B                    2.95   \n",
       "23                                          Passenger                    2.90   \n",
       "24                         J Balvin and Willy William                    2.86   \n",
       "25                                              Adele                    2.78   \n",
       "26                    Shakira featuring Freshlyground                    2.73   \n",
       "27                                         Ed Sheeran                    2.73   \n",
       "28                                       Taylor Swift                    2.71   \n",
       "29                           Shakira featuring Maluma                    2.62   \n",
       "30                             As of February 4, 2021  As of February 4, 2021   \n",
       "\n",
       "               Upload date                    Note              Unnamed: 6  \n",
       "0            June 17, 2016                     [B]                     NaN  \n",
       "1         January 12, 2017                     [C]                     NaN  \n",
       "2         January 30, 2017                     [D]                     NaN  \n",
       "3            April 6, 2015                     [E]                     NaN  \n",
       "4          October 8, 2016                     [F]                     NaN  \n",
       "5         January 31, 2012                     [G]                     NaN  \n",
       "6        November 19, 2014                     [H]                     NaN  \n",
       "7            July 15, 2012                     [I]                     NaN  \n",
       "8        February 27, 2018                     NaN                     NaN  \n",
       "9              May 2, 2018                     NaN                     NaN  \n",
       "10           March 6, 2014                     NaN                     NaN  \n",
       "11        October 22, 2015                     NaN                     NaN  \n",
       "12        January 14, 2015                     NaN                     NaN  \n",
       "13       September 5, 2013                     NaN                     NaN  \n",
       "14            May 31, 2013                     NaN                     NaN  \n",
       "15         October 7, 2014                     NaN                     NaN  \n",
       "16           April 5, 2018                     NaN                     NaN  \n",
       "17         August 18, 2014                     NaN                     NaN  \n",
       "18        December 3, 2015                     NaN                     NaN  \n",
       "19          March 22, 2015                     NaN                     NaN  \n",
       "20          April 11, 2014                     NaN                     NaN  \n",
       "21       February 20, 2014                     NaN                     NaN  \n",
       "22            May 31, 2018                     NaN                     NaN  \n",
       "23           July 25, 2012                     NaN                     NaN  \n",
       "24           June 29, 2017                     NaN                     NaN  \n",
       "25        October 22, 2015                     NaN                     NaN  \n",
       "26            June 4, 2010                     NaN                     NaN  \n",
       "27        November 9, 2017                     NaN                     NaN  \n",
       "28       November 10, 2014                     NaN                     NaN  \n",
       "29       November 18, 2016                     NaN                     NaN  \n",
       "30  As of February 4, 2021  As of February 4, 2021  As of February 4, 2021  "
      ]
     },
     "execution_count": 36,
     "metadata": {},
     "output_type": "execute_result"
    }
   ],
   "source": [
    "df=d[0]\n",
    "df"
   ]
  },
  {
   "cell_type": "code",
   "execution_count": null,
   "metadata": {},
   "outputs": [],
   "source": []
  },
  {
   "cell_type": "code",
   "execution_count": null,
   "metadata": {},
   "outputs": [],
   "source": []
  },
  {
   "cell_type": "markdown",
   "metadata": {},
   "source": [
    "# 2. Scrape the details team India’s international fixtures from bcci.tv.\n",
    "Url = https://www.bcci.tv/.\n",
    "You need to find following details:\n",
    "A) Match title (I.e. 1 st ODI)\n",
    "B) Series\n",
    "C) Place\n",
    "D) Date\n",
    "E) Time\n",
    "Note: - From bcci.tv home page you have reach to the international fixture page through code."
   ]
  },
  {
   "cell_type": "code",
   "execution_count": 1,
   "metadata": {},
   "outputs": [],
   "source": [
    "# Importing Libraries\n",
    "import pandas as pd\n",
    "from bs4 import BeautifulSoup\n",
    "import requests\n",
    "import selenium\n",
    "from selenium import webdriver\n",
    "import time\n",
    "from selenium.webdriver.support.ui import WebDriverWait\n",
    "from selenium.webdriver.common.by import By\n",
    "from selenium.webdriver.support.ui import WebDriverWait\n",
    "from selenium.webdriver.support import expected_conditions as EC"
   ]
  },
  {
   "cell_type": "code",
   "execution_count": 2,
   "metadata": {},
   "outputs": [],
   "source": [
    "driver=webdriver.Chrome(r\"/home/sudhakar/Downloads/chromedriver\")\n",
    "time.sleep(5)\n"
   ]
  },
  {
   "cell_type": "code",
   "execution_count": 3,
   "metadata": {},
   "outputs": [],
   "source": [
    "driver.get(\"https://www.bcci.tv/\" )\n",
    "time.sleep(5)"
   ]
  },
  {
   "cell_type": "code",
   "execution_count": 10,
   "metadata": {},
   "outputs": [],
   "source": [
    "button1 = WebDriverWait(driver, 10).until(EC.element_to_be_clickable((By.CSS_SELECTOR, \"div[class='navigation__drop-down drop-down drop-down--reveal-on-hover']\"))).click()\n",
    "    \n",
    "   "
   ]
  },
  {
   "cell_type": "code",
   "execution_count": 13,
   "metadata": {},
   "outputs": [],
   "source": [
    "botton2=driver.find_element_by_xpath(\"/html/body/div[3]/div/div[2]/div[2]/nav/ul/li[1]/div[2]/div/ul/li[1]/a\").click()"
   ]
  },
  {
   "cell_type": "code",
   "execution_count": 14,
   "metadata": {},
   "outputs": [],
   "source": [
    "odiopen=driver.find_element_by_xpath(\"/html/body/div[4]/div/div/div[2]/section/div/div/a[9]/div[2]/div[2]/p/strong\")"
   ]
  },
  {
   "cell_type": "code",
   "execution_count": 15,
   "metadata": {},
   "outputs": [],
   "source": [
    "odiopen.click()"
   ]
  },
  {
   "cell_type": "code",
   "execution_count": 16,
   "metadata": {},
   "outputs": [],
   "source": [
    "\n",
    "odi_name=driver.find_element_by_xpath('//span[@class=\"mc-header-info__match-description-match-type mc-theme-color\"]')"
   ]
  },
  {
   "cell_type": "code",
   "execution_count": 17,
   "metadata": {},
   "outputs": [
    {
     "data": {
      "text/plain": [
       "'1ST ODI'"
      ]
     },
     "execution_count": 17,
     "metadata": {},
     "output_type": "execute_result"
    }
   ],
   "source": [
    "odi_name.text"
   ]
  },
  {
   "cell_type": "code",
   "execution_count": 18,
   "metadata": {},
   "outputs": [],
   "source": [
    "date=driver.find_element_by_xpath('/html/body/div[2]/div/header/div/div[3]/div/div[3]/strong')"
   ]
  },
  {
   "cell_type": "code",
   "execution_count": 19,
   "metadata": {},
   "outputs": [
    {
     "data": {
      "text/plain": [
       "'Tuesday 23 March'"
      ]
     },
     "execution_count": 19,
     "metadata": {},
     "output_type": "execute_result"
    }
   ],
   "source": [
    "date.text"
   ]
  },
  {
   "cell_type": "code",
   "execution_count": 20,
   "metadata": {},
   "outputs": [],
   "source": [
    "match=driver.find_element_by_xpath('//h1[@class=\"mc-header-info__title\"]/strong')"
   ]
  },
  {
   "cell_type": "code",
   "execution_count": 21,
   "metadata": {},
   "outputs": [
    {
     "data": {
      "text/plain": [
       "'India v England'"
      ]
     },
     "execution_count": 21,
     "metadata": {},
     "output_type": "execute_result"
    }
   ],
   "source": [
    "match.text"
   ]
  },
  {
   "cell_type": "code",
   "execution_count": 22,
   "metadata": {},
   "outputs": [],
   "source": [
    "time=driver.find_element_by_xpath('/html/body/div[2]/div/header/div/div[3]/div/div[3]/span[1]')"
   ]
  },
  {
   "cell_type": "code",
   "execution_count": 23,
   "metadata": {},
   "outputs": [
    {
     "data": {
      "text/plain": [
       "'13:30 IST'"
      ]
     },
     "execution_count": 23,
     "metadata": {},
     "output_type": "execute_result"
    }
   ],
   "source": [
    "time.text"
   ]
  },
  {
   "cell_type": "code",
   "execution_count": 24,
   "metadata": {},
   "outputs": [],
   "source": [
    "place=driver.find_element_by_xpath('/html/body/div[2]/div/header/div/div[2]/div/h1')"
   ]
  },
  {
   "cell_type": "code",
   "execution_count": 34,
   "metadata": {},
   "outputs": [
    {
     "data": {
      "text/plain": [
       "'India v England Maharashtra Cricket Association Stadium, Pune'"
      ]
     },
     "execution_count": 34,
     "metadata": {},
     "output_type": "execute_result"
    }
   ],
   "source": [
    "PLACE=place.text\n",
    "PLACE"
   ]
  },
  {
   "cell_type": "code",
   "execution_count": 26,
   "metadata": {},
   "outputs": [],
   "source": [
    "#therefore"
   ]
  },
  {
   "cell_type": "code",
   "execution_count": 55,
   "metadata": {},
   "outputs": [],
   "source": [
    "string= \"1ST ODI\""
   ]
  },
  {
   "cell_type": "code",
   "execution_count": 56,
   "metadata": {},
   "outputs": [],
   "source": [
    "ODI = list(string.split(\"-\"))"
   ]
  },
  {
   "cell_type": "code",
   "execution_count": 57,
   "metadata": {},
   "outputs": [],
   "source": [
    "string= \"India v England\""
   ]
  },
  {
   "cell_type": "code",
   "execution_count": 58,
   "metadata": {},
   "outputs": [],
   "source": [
    "MATCH=list(string.split(\"-\"))"
   ]
  },
  {
   "cell_type": "code",
   "execution_count": 59,
   "metadata": {},
   "outputs": [
    {
     "data": {
      "text/plain": [
       "['India v England']"
      ]
     },
     "execution_count": 59,
     "metadata": {},
     "output_type": "execute_result"
    }
   ],
   "source": [
    "MATCH"
   ]
  },
  {
   "cell_type": "code",
   "execution_count": 60,
   "metadata": {},
   "outputs": [],
   "source": [
    "string=\"Tuesday 23 March\""
   ]
  },
  {
   "cell_type": "code",
   "execution_count": 61,
   "metadata": {},
   "outputs": [],
   "source": [
    "DATE=list(string.split(\"-\"))"
   ]
  },
  {
   "cell_type": "code",
   "execution_count": 62,
   "metadata": {},
   "outputs": [],
   "source": [
    "string= \"13:30 IST\""
   ]
  },
  {
   "cell_type": "code",
   "execution_count": 63,
   "metadata": {},
   "outputs": [],
   "source": [
    "TIME=list(string.split(\"-\"))"
   ]
  },
  {
   "cell_type": "code",
   "execution_count": 64,
   "metadata": {},
   "outputs": [],
   "source": [
    "string= \"India v England Maharashtra Cricket Association Stadium, Pune\""
   ]
  },
  {
   "cell_type": "code",
   "execution_count": 65,
   "metadata": {},
   "outputs": [
    {
     "data": {
      "text/plain": [
       "['India v England Maharashtra Cricket Association Stadium, Pune']"
      ]
     },
     "execution_count": 65,
     "metadata": {},
     "output_type": "execute_result"
    }
   ],
   "source": [
    "PLACE=list(string.split(\"-\"))\n",
    "PLACE"
   ]
  },
  {
   "cell_type": "code",
   "execution_count": 66,
   "metadata": {},
   "outputs": [],
   "source": [
    "#therefore we scraped all details of ist odi"
   ]
  },
  {
   "cell_type": "code",
   "execution_count": 67,
   "metadata": {},
   "outputs": [
    {
     "data": {
      "text/html": [
       "<div>\n",
       "<style scoped>\n",
       "    .dataframe tbody tr th:only-of-type {\n",
       "        vertical-align: middle;\n",
       "    }\n",
       "\n",
       "    .dataframe tbody tr th {\n",
       "        vertical-align: top;\n",
       "    }\n",
       "\n",
       "    .dataframe thead th {\n",
       "        text-align: right;\n",
       "    }\n",
       "</style>\n",
       "<table border=\"1\" class=\"dataframe\">\n",
       "  <thead>\n",
       "    <tr style=\"text-align: right;\">\n",
       "      <th></th>\n",
       "      <th>ODI</th>\n",
       "      <th>MATCH</th>\n",
       "      <th>DATE</th>\n",
       "      <th>TIME</th>\n",
       "      <th>PLACE</th>\n",
       "    </tr>\n",
       "  </thead>\n",
       "  <tbody>\n",
       "    <tr>\n",
       "      <th>0</th>\n",
       "      <td>1ST ODI</td>\n",
       "      <td>India v England</td>\n",
       "      <td>Tuesday 23 March</td>\n",
       "      <td>13:30 IST</td>\n",
       "      <td>India v England Maharashtra Cricket Associatio...</td>\n",
       "    </tr>\n",
       "  </tbody>\n",
       "</table>\n",
       "</div>"
      ],
      "text/plain": [
       "       ODI            MATCH              DATE       TIME  \\\n",
       "0  1ST ODI  India v England  Tuesday 23 March  13:30 IST   \n",
       "\n",
       "                                               PLACE  \n",
       "0  India v England Maharashtra Cricket Associatio...  "
      ]
     },
     "execution_count": 67,
     "metadata": {},
     "output_type": "execute_result"
    }
   ],
   "source": [
    "import pandas as pd\n",
    "FIRST_ODI=pd.DataFrame({})\n",
    "FIRST_ODI['ODI']=ODI\n",
    "FIRST_ODI['MATCH']=MATCH\n",
    "FIRST_ODI['DATE']=DATE\n",
    "FIRST_ODI['TIME']=TIME\n",
    "FIRST_ODI['PLACE']=PLACE\n",
    "FIRST_ODI"
   ]
  },
  {
   "cell_type": "code",
   "execution_count": 68,
   "metadata": {},
   "outputs": [],
   "source": [
    "#therefore first odi is scraped"
   ]
  },
  {
   "cell_type": "code",
   "execution_count": null,
   "metadata": {},
   "outputs": [],
   "source": []
  },
  {
   "cell_type": "code",
   "execution_count": null,
   "metadata": {},
   "outputs": [],
   "source": []
  },
  {
   "cell_type": "code",
   "execution_count": null,
   "metadata": {},
   "outputs": [],
   "source": []
  },
  {
   "cell_type": "markdown",
   "metadata": {},
   "source": [
    "# 3. Scrape the details of selenium exception from guru99.com.\n",
    "Url = https://www.guru99.com/\n",
    "You need to find following details:\n",
    "A) Name\n",
    "B) Description\n",
    "Note: - From guru99 home page you have to reach to selenium exception handling page through code.#"
   ]
  },
  {
   "cell_type": "code",
   "execution_count": 1,
   "metadata": {},
   "outputs": [],
   "source": [
    "# Importing Libraries\n",
    "import pandas as pd\n",
    "from bs4 import BeautifulSoup\n",
    "import requests\n",
    "import selenium\n",
    "from selenium import webdriver\n",
    "import time\n",
    "from selenium.webdriver.support.ui import WebDriverWait\n",
    "from selenium.webdriver.common.by import By\n",
    "from selenium.webdriver.support.ui import WebDriverWait\n",
    "from selenium.webdriver.support import expected_conditions as EC"
   ]
  },
  {
   "cell_type": "code",
   "execution_count": 2,
   "metadata": {},
   "outputs": [],
   "source": [
    "driver=webdriver.Chrome(r\"/home/sudhakar/Downloads/chromedriver\")\n",
    "time.sleep(5)\n"
   ]
  },
  {
   "cell_type": "code",
   "execution_count": 3,
   "metadata": {},
   "outputs": [],
   "source": [
    "\n",
    "driver.get(\"https://www.guru99.com/\" )\n",
    "time.sleep(5)"
   ]
  },
  {
   "cell_type": "code",
   "execution_count": 8,
   "metadata": {},
   "outputs": [],
   "source": [
    "selenium=driver.find_element_by_xpath('//*[@id=\"g-footer\"]/div/div[1]/div/div/div/div/div/div[2]/div[2]/div/div/div/a/i')"
   ]
  },
  {
   "cell_type": "code",
   "execution_count": 9,
   "metadata": {},
   "outputs": [],
   "source": [
    "selenium.click()"
   ]
  },
  {
   "cell_type": "code",
   "execution_count": 10,
   "metadata": {},
   "outputs": [],
   "source": [
    "selenium_exception=driver.find_element_by_xpath('//*[@id=\"g-mainbar\"]/div/div/div/div/div/div/div[2]/table[5]/tbody/tr[34]/td[1]/a/strong')"
   ]
  },
  {
   "cell_type": "code",
   "execution_count": 11,
   "metadata": {},
   "outputs": [],
   "source": [
    "selenium_exception.click()"
   ]
  },
  {
   "cell_type": "code",
   "execution_count": 12,
   "metadata": {},
   "outputs": [],
   "source": [
    "e=driver.current_url"
   ]
  },
  {
   "cell_type": "code",
   "execution_count": 13,
   "metadata": {},
   "outputs": [],
   "source": [
    "import pandas as pd\n",
    "d=pd.read_html(e)"
   ]
  },
  {
   "cell_type": "code",
   "execution_count": 15,
   "metadata": {},
   "outputs": [
    {
     "data": {
      "text/html": [
       "<div>\n",
       "<style scoped>\n",
       "    .dataframe tbody tr th:only-of-type {\n",
       "        vertical-align: middle;\n",
       "    }\n",
       "\n",
       "    .dataframe tbody tr th {\n",
       "        vertical-align: top;\n",
       "    }\n",
       "\n",
       "    .dataframe thead th {\n",
       "        text-align: right;\n",
       "    }\n",
       "</style>\n",
       "<table border=\"1\" class=\"dataframe\">\n",
       "  <thead>\n",
       "    <tr style=\"text-align: right;\">\n",
       "      <th></th>\n",
       "      <th>0</th>\n",
       "      <th>1</th>\n",
       "    </tr>\n",
       "  </thead>\n",
       "  <tbody>\n",
       "    <tr>\n",
       "      <th>0</th>\n",
       "      <td>Exception name</td>\n",
       "      <td>Description</td>\n",
       "    </tr>\n",
       "    <tr>\n",
       "      <th>1</th>\n",
       "      <td>ElementNotVisibleException</td>\n",
       "      <td>This type of Selenium exception occurs when an...</td>\n",
       "    </tr>\n",
       "    <tr>\n",
       "      <th>2</th>\n",
       "      <td>ElementNotSelectableException</td>\n",
       "      <td>This Selenium exception occurs when an element...</td>\n",
       "    </tr>\n",
       "    <tr>\n",
       "      <th>3</th>\n",
       "      <td>NoSuchElementException</td>\n",
       "      <td>This Exception occurs if an element could not ...</td>\n",
       "    </tr>\n",
       "    <tr>\n",
       "      <th>4</th>\n",
       "      <td>NoSuchFrameException</td>\n",
       "      <td>This Exception occurs if the frame target to b...</td>\n",
       "    </tr>\n",
       "    <tr>\n",
       "      <th>5</th>\n",
       "      <td>NoAlertPresentException</td>\n",
       "      <td>This Exception occurs when you switch to no pr...</td>\n",
       "    </tr>\n",
       "    <tr>\n",
       "      <th>6</th>\n",
       "      <td>NoSuchWindowException</td>\n",
       "      <td>This Exception occurs if the window target to ...</td>\n",
       "    </tr>\n",
       "    <tr>\n",
       "      <th>7</th>\n",
       "      <td>StaleElementReferenceException</td>\n",
       "      <td>This Selenium exception occurs happens when th...</td>\n",
       "    </tr>\n",
       "    <tr>\n",
       "      <th>8</th>\n",
       "      <td>SessionNotFoundException</td>\n",
       "      <td>The WebDriver is acting after you quit the bro...</td>\n",
       "    </tr>\n",
       "    <tr>\n",
       "      <th>9</th>\n",
       "      <td>TimeoutException</td>\n",
       "      <td>Thrown when there is not enough time for a com...</td>\n",
       "    </tr>\n",
       "    <tr>\n",
       "      <th>10</th>\n",
       "      <td>WebDriverException</td>\n",
       "      <td>This Exception takes place when the WebDriver ...</td>\n",
       "    </tr>\n",
       "    <tr>\n",
       "      <th>11</th>\n",
       "      <td>ConnectionClosedException</td>\n",
       "      <td>This type of Exception takes place when there ...</td>\n",
       "    </tr>\n",
       "    <tr>\n",
       "      <th>12</th>\n",
       "      <td>ElementClickInterceptedException</td>\n",
       "      <td>The command may not be completed as the elemen...</td>\n",
       "    </tr>\n",
       "    <tr>\n",
       "      <th>13</th>\n",
       "      <td>ElementNotInteractableException</td>\n",
       "      <td>This Selenium exception is thrown when any ele...</td>\n",
       "    </tr>\n",
       "    <tr>\n",
       "      <th>14</th>\n",
       "      <td>ErrorInResponseException</td>\n",
       "      <td>This happens while interacting with the Firefo...</td>\n",
       "    </tr>\n",
       "    <tr>\n",
       "      <th>15</th>\n",
       "      <td>ErrorHandler.UnknownServerException</td>\n",
       "      <td>Exception is used as a placeholder in case if ...</td>\n",
       "    </tr>\n",
       "    <tr>\n",
       "      <th>16</th>\n",
       "      <td>ImeActivationFailedException</td>\n",
       "      <td>This expectation will occur when IME engine ac...</td>\n",
       "    </tr>\n",
       "    <tr>\n",
       "      <th>17</th>\n",
       "      <td>ImeNotAvailableException</td>\n",
       "      <td>It takes place when IME support is unavailable.</td>\n",
       "    </tr>\n",
       "    <tr>\n",
       "      <th>18</th>\n",
       "      <td>InsecureCertificateException</td>\n",
       "      <td>Navigation made the user agent to hit a certif...</td>\n",
       "    </tr>\n",
       "    <tr>\n",
       "      <th>19</th>\n",
       "      <td>InvalidArgumentException</td>\n",
       "      <td>It occurs when an argument does not belong to ...</td>\n",
       "    </tr>\n",
       "    <tr>\n",
       "      <th>20</th>\n",
       "      <td>InvalidCookieDomainException</td>\n",
       "      <td>This happens when you try to add a cookie unde...</td>\n",
       "    </tr>\n",
       "    <tr>\n",
       "      <th>21</th>\n",
       "      <td>InvalidCoordinatesException</td>\n",
       "      <td>This type of Exception matches an interacting ...</td>\n",
       "    </tr>\n",
       "    <tr>\n",
       "      <th>22</th>\n",
       "      <td>InvalidElementStateExceptio</td>\n",
       "      <td>It occurs when command can't be finished when ...</td>\n",
       "    </tr>\n",
       "    <tr>\n",
       "      <th>23</th>\n",
       "      <td>InvalidSessionIdException</td>\n",
       "      <td>This Exception took place when the given sessi...</td>\n",
       "    </tr>\n",
       "    <tr>\n",
       "      <th>24</th>\n",
       "      <td>InvalidSwitchToTargetException</td>\n",
       "      <td>This occurs when the frame or window target to...</td>\n",
       "    </tr>\n",
       "    <tr>\n",
       "      <th>25</th>\n",
       "      <td>JavascriptException</td>\n",
       "      <td>This issue occurs while executing JavaScript g...</td>\n",
       "    </tr>\n",
       "    <tr>\n",
       "      <th>26</th>\n",
       "      <td>JsonException</td>\n",
       "      <td>It occurs when you afford to get the session w...</td>\n",
       "    </tr>\n",
       "    <tr>\n",
       "      <th>27</th>\n",
       "      <td>NoSuchAttributeException</td>\n",
       "      <td>This kind of Exception occurs when the attribu...</td>\n",
       "    </tr>\n",
       "    <tr>\n",
       "      <th>28</th>\n",
       "      <td>MoveTargetOutOfBoundsException</td>\n",
       "      <td>It takes place if the target provided to the A...</td>\n",
       "    </tr>\n",
       "    <tr>\n",
       "      <th>29</th>\n",
       "      <td>NoSuchContextException</td>\n",
       "      <td>ContextAware does mobile device testing.</td>\n",
       "    </tr>\n",
       "    <tr>\n",
       "      <th>30</th>\n",
       "      <td>NoSuchCookieException</td>\n",
       "      <td>This Exception occurs when no cookie matching ...</td>\n",
       "    </tr>\n",
       "    <tr>\n",
       "      <th>31</th>\n",
       "      <td>NotFoundException</td>\n",
       "      <td>This Exception is a subclass of WebDriverExcep...</td>\n",
       "    </tr>\n",
       "    <tr>\n",
       "      <th>32</th>\n",
       "      <td>RemoteDriverServerException</td>\n",
       "      <td>This Selenium exception is thrown when the ser...</td>\n",
       "    </tr>\n",
       "    <tr>\n",
       "      <th>33</th>\n",
       "      <td>ScreenshotException</td>\n",
       "      <td>It is not possible to capture a screen.</td>\n",
       "    </tr>\n",
       "    <tr>\n",
       "      <th>34</th>\n",
       "      <td>SessionNotCreatedException</td>\n",
       "      <td>It happens when a new session could not be suc...</td>\n",
       "    </tr>\n",
       "    <tr>\n",
       "      <th>35</th>\n",
       "      <td>UnableToSetCookieException</td>\n",
       "      <td>This occurs if a driver is unable to set a coo...</td>\n",
       "    </tr>\n",
       "    <tr>\n",
       "      <th>36</th>\n",
       "      <td>UnexpectedTagNameException</td>\n",
       "      <td>Happens if a support class did not get a web e...</td>\n",
       "    </tr>\n",
       "    <tr>\n",
       "      <th>37</th>\n",
       "      <td>UnhandledAlertException</td>\n",
       "      <td>This expectation occurs when there is an alert...</td>\n",
       "    </tr>\n",
       "    <tr>\n",
       "      <th>38</th>\n",
       "      <td>UnexpectedAlertPresentException</td>\n",
       "      <td>It occurs when there is the appearance of an u...</td>\n",
       "    </tr>\n",
       "    <tr>\n",
       "      <th>39</th>\n",
       "      <td>UnknownMethodException</td>\n",
       "      <td>This Exception happens when the requested comm...</td>\n",
       "    </tr>\n",
       "    <tr>\n",
       "      <th>40</th>\n",
       "      <td>UnreachableBrowserException</td>\n",
       "      <td>This Exception occurs only when the browser is...</td>\n",
       "    </tr>\n",
       "    <tr>\n",
       "      <th>41</th>\n",
       "      <td>UnsupportedCommandException</td>\n",
       "      <td>This occurs when remote WebDriver does n't sen...</td>\n",
       "    </tr>\n",
       "  </tbody>\n",
       "</table>\n",
       "</div>"
      ],
      "text/plain": [
       "                                      0  \\\n",
       "0                        Exception name   \n",
       "1            ElementNotVisibleException   \n",
       "2         ElementNotSelectableException   \n",
       "3                NoSuchElementException   \n",
       "4                  NoSuchFrameException   \n",
       "5               NoAlertPresentException   \n",
       "6                 NoSuchWindowException   \n",
       "7        StaleElementReferenceException   \n",
       "8              SessionNotFoundException   \n",
       "9                      TimeoutException   \n",
       "10                   WebDriverException   \n",
       "11            ConnectionClosedException   \n",
       "12     ElementClickInterceptedException   \n",
       "13      ElementNotInteractableException   \n",
       "14             ErrorInResponseException   \n",
       "15  ErrorHandler.UnknownServerException   \n",
       "16         ImeActivationFailedException   \n",
       "17             ImeNotAvailableException   \n",
       "18         InsecureCertificateException   \n",
       "19             InvalidArgumentException   \n",
       "20         InvalidCookieDomainException   \n",
       "21          InvalidCoordinatesException   \n",
       "22          InvalidElementStateExceptio   \n",
       "23            InvalidSessionIdException   \n",
       "24       InvalidSwitchToTargetException   \n",
       "25                  JavascriptException   \n",
       "26                        JsonException   \n",
       "27             NoSuchAttributeException   \n",
       "28       MoveTargetOutOfBoundsException   \n",
       "29               NoSuchContextException   \n",
       "30                NoSuchCookieException   \n",
       "31                    NotFoundException   \n",
       "32          RemoteDriverServerException   \n",
       "33                  ScreenshotException   \n",
       "34           SessionNotCreatedException   \n",
       "35           UnableToSetCookieException   \n",
       "36           UnexpectedTagNameException   \n",
       "37              UnhandledAlertException   \n",
       "38      UnexpectedAlertPresentException   \n",
       "39               UnknownMethodException   \n",
       "40          UnreachableBrowserException   \n",
       "41          UnsupportedCommandException   \n",
       "\n",
       "                                                    1  \n",
       "0                                         Description  \n",
       "1   This type of Selenium exception occurs when an...  \n",
       "2   This Selenium exception occurs when an element...  \n",
       "3   This Exception occurs if an element could not ...  \n",
       "4   This Exception occurs if the frame target to b...  \n",
       "5   This Exception occurs when you switch to no pr...  \n",
       "6   This Exception occurs if the window target to ...  \n",
       "7   This Selenium exception occurs happens when th...  \n",
       "8   The WebDriver is acting after you quit the bro...  \n",
       "9   Thrown when there is not enough time for a com...  \n",
       "10  This Exception takes place when the WebDriver ...  \n",
       "11  This type of Exception takes place when there ...  \n",
       "12  The command may not be completed as the elemen...  \n",
       "13  This Selenium exception is thrown when any ele...  \n",
       "14  This happens while interacting with the Firefo...  \n",
       "15  Exception is used as a placeholder in case if ...  \n",
       "16  This expectation will occur when IME engine ac...  \n",
       "17    It takes place when IME support is unavailable.  \n",
       "18  Navigation made the user agent to hit a certif...  \n",
       "19  It occurs when an argument does not belong to ...  \n",
       "20  This happens when you try to add a cookie unde...  \n",
       "21  This type of Exception matches an interacting ...  \n",
       "22  It occurs when command can't be finished when ...  \n",
       "23  This Exception took place when the given sessi...  \n",
       "24  This occurs when the frame or window target to...  \n",
       "25  This issue occurs while executing JavaScript g...  \n",
       "26  It occurs when you afford to get the session w...  \n",
       "27  This kind of Exception occurs when the attribu...  \n",
       "28  It takes place if the target provided to the A...  \n",
       "29           ContextAware does mobile device testing.  \n",
       "30  This Exception occurs when no cookie matching ...  \n",
       "31  This Exception is a subclass of WebDriverExcep...  \n",
       "32  This Selenium exception is thrown when the ser...  \n",
       "33            It is not possible to capture a screen.  \n",
       "34  It happens when a new session could not be suc...  \n",
       "35  This occurs if a driver is unable to set a coo...  \n",
       "36  Happens if a support class did not get a web e...  \n",
       "37  This expectation occurs when there is an alert...  \n",
       "38  It occurs when there is the appearance of an u...  \n",
       "39  This Exception happens when the requested comm...  \n",
       "40  This Exception occurs only when the browser is...  \n",
       "41  This occurs when remote WebDriver does n't sen...  "
      ]
     },
     "execution_count": 15,
     "metadata": {},
     "output_type": "execute_result"
    }
   ],
   "source": [
    "df=d[0]\n",
    "df"
   ]
  },
  {
   "cell_type": "code",
   "execution_count": null,
   "metadata": {},
   "outputs": [],
   "source": []
  },
  {
   "cell_type": "markdown",
   "metadata": {},
   "source": [
    "# 4. Scrape the details of State-wise GDP of India from statisticstime.com.\n",
    "Url = http://statisticstimes.com/\n",
    "You have to find following details:\n",
    "A) Rank\n",
    "B) State\n",
    "C) GSDP(18-19)\n",
    "D) GSDP(17-18)\n",
    "E) Share(2017)\n",
    "F) GDP($ billion)\n",
    "Note: - From statisticstimes home page you have to reach to economy page through code."
   ]
  },
  {
   "cell_type": "code",
   "execution_count": 1,
   "metadata": {},
   "outputs": [],
   "source": [
    "# Importing Libraries\n",
    "import pandas as pd\n",
    "from bs4 import BeautifulSoup\n",
    "import requests\n",
    "import selenium\n",
    "from selenium import webdriver\n",
    "import time\n",
    "from selenium.webdriver.support.ui import WebDriverWait\n",
    "from selenium.webdriver.common.by import By\n",
    "from selenium.webdriver.support.ui import WebDriverWait\n",
    "from selenium.webdriver.support import expected_conditions as EC"
   ]
  },
  {
   "cell_type": "code",
   "execution_count": 2,
   "metadata": {},
   "outputs": [],
   "source": [
    "driver=webdriver.Chrome(r\"/home/sudhakar/Downloads/chromedriver\")\n",
    "time.sleep(5)\n"
   ]
  },
  {
   "cell_type": "code",
   "execution_count": 3,
   "metadata": {},
   "outputs": [],
   "source": [
    "\n",
    "driver.get(\"http://statisticstimes.com/\" )\n",
    "time.sleep(5)"
   ]
  },
  {
   "cell_type": "code",
   "execution_count": 4,
   "metadata": {},
   "outputs": [],
   "source": [
    "economyclick=driver.find_element_by_xpath('//*[@id=\"top\"]/div[2]/div[2]/button').click()"
   ]
  },
  {
   "cell_type": "code",
   "execution_count": 5,
   "metadata": {},
   "outputs": [],
   "source": [
    "indiaclick=driver.find_element_by_xpath('//*[@id=\"top\"]/div[2]/div[2]/div/a[3]').click()"
   ]
  },
  {
   "cell_type": "code",
   "execution_count": 10,
   "metadata": {},
   "outputs": [],
   "source": [
    "indiagdpclick=driver.find_element_by_xpath('/html/body/div[2]/div[2]/div[2]/ul/li[1]/a').click()"
   ]
  },
  {
   "cell_type": "code",
   "execution_count": 11,
   "metadata": {},
   "outputs": [],
   "source": [
    "current_url=driver.current_url"
   ]
  },
  {
   "cell_type": "code",
   "execution_count": 13,
   "metadata": {},
   "outputs": [],
   "source": [
    "import pandas as pd\n",
    "d=pd.read_html(current_url)"
   ]
  },
  {
   "cell_type": "code",
   "execution_count": 14,
   "metadata": {},
   "outputs": [
    {
     "data": {
      "text/html": [
       "<div>\n",
       "<style scoped>\n",
       "    .dataframe tbody tr th:only-of-type {\n",
       "        vertical-align: middle;\n",
       "    }\n",
       "\n",
       "    .dataframe tbody tr th {\n",
       "        vertical-align: top;\n",
       "    }\n",
       "\n",
       "    .dataframe thead tr th {\n",
       "        text-align: left;\n",
       "    }\n",
       "</style>\n",
       "<table border=\"1\" class=\"dataframe\">\n",
       "  <thead>\n",
       "    <tr>\n",
       "      <th></th>\n",
       "      <th>Rank</th>\n",
       "      <th>State</th>\n",
       "      <th colspan=\"2\" halign=\"left\">GSDP (Cr INR at Current prices)</th>\n",
       "      <th>Share</th>\n",
       "      <th>GDP ($billion)</th>\n",
       "      <th colspan=\"2\" halign=\"left\">GSDP (Cr INR at 2011-12 prices)</th>\n",
       "    </tr>\n",
       "    <tr>\n",
       "      <th></th>\n",
       "      <th>Rank</th>\n",
       "      <th>State</th>\n",
       "      <th>19-20</th>\n",
       "      <th>18-19</th>\n",
       "      <th>18-19</th>\n",
       "      <th>2019</th>\n",
       "      <th>19-20</th>\n",
       "      <th>18-19</th>\n",
       "    </tr>\n",
       "  </thead>\n",
       "  <tbody>\n",
       "    <tr>\n",
       "      <th>0</th>\n",
       "      <td>1.0</td>\n",
       "      <td>Maharashtra</td>\n",
       "      <td>-</td>\n",
       "      <td>2632792</td>\n",
       "      <td>13.88%</td>\n",
       "      <td>398.145</td>\n",
       "      <td>-</td>\n",
       "      <td>2039074</td>\n",
       "    </tr>\n",
       "    <tr>\n",
       "      <th>1</th>\n",
       "      <td>2.0</td>\n",
       "      <td>Uttar Pradesh</td>\n",
       "      <td>1794508</td>\n",
       "      <td>1668229</td>\n",
       "      <td>8.79%</td>\n",
       "      <td>252.278</td>\n",
       "      <td>1187277</td>\n",
       "      <td>1137469</td>\n",
       "    </tr>\n",
       "    <tr>\n",
       "      <th>2</th>\n",
       "      <td>3.0</td>\n",
       "      <td>Tamil Nadu</td>\n",
       "      <td>1845853</td>\n",
       "      <td>1630208</td>\n",
       "      <td>8.59%</td>\n",
       "      <td>246.529</td>\n",
       "      <td>1312929</td>\n",
       "      <td>1215307</td>\n",
       "    </tr>\n",
       "    <tr>\n",
       "      <th>3</th>\n",
       "      <td>4.0</td>\n",
       "      <td>Karnataka</td>\n",
       "      <td>1699115</td>\n",
       "      <td>1544399</td>\n",
       "      <td>8.14%</td>\n",
       "      <td>233.552</td>\n",
       "      <td>1201031</td>\n",
       "      <td>1124423</td>\n",
       "    </tr>\n",
       "    <tr>\n",
       "      <th>4</th>\n",
       "      <td>5.0</td>\n",
       "      <td>Gujarat</td>\n",
       "      <td>-</td>\n",
       "      <td>1502899</td>\n",
       "      <td>7.92%</td>\n",
       "      <td>227.276</td>\n",
       "      <td>-</td>\n",
       "      <td>1186379</td>\n",
       "    </tr>\n",
       "    <tr>\n",
       "      <th>5</th>\n",
       "      <td>6.0</td>\n",
       "      <td>West Bengal</td>\n",
       "      <td>1253832</td>\n",
       "      <td>1089898</td>\n",
       "      <td>5.75%</td>\n",
       "      <td>164.820</td>\n",
       "      <td>793223</td>\n",
       "      <td>739525</td>\n",
       "    </tr>\n",
       "    <tr>\n",
       "      <th>6</th>\n",
       "      <td>7.0</td>\n",
       "      <td>Rajasthan</td>\n",
       "      <td>1020989</td>\n",
       "      <td>942586</td>\n",
       "      <td>4.97%</td>\n",
       "      <td>142.543</td>\n",
       "      <td>711627</td>\n",
       "      <td>677428</td>\n",
       "    </tr>\n",
       "    <tr>\n",
       "      <th>7</th>\n",
       "      <td>8.0</td>\n",
       "      <td>Andhra Pradesh</td>\n",
       "      <td>972782</td>\n",
       "      <td>862957</td>\n",
       "      <td>4.55%</td>\n",
       "      <td>130.501</td>\n",
       "      <td>672018</td>\n",
       "      <td>621301</td>\n",
       "    </tr>\n",
       "    <tr>\n",
       "      <th>8</th>\n",
       "      <td>9.0</td>\n",
       "      <td>Telangana</td>\n",
       "      <td>969604</td>\n",
       "      <td>861031</td>\n",
       "      <td>4.54%</td>\n",
       "      <td>130.210</td>\n",
       "      <td>663258</td>\n",
       "      <td>612828</td>\n",
       "    </tr>\n",
       "    <tr>\n",
       "      <th>9</th>\n",
       "      <td>10.0</td>\n",
       "      <td>Madhya Pradesh</td>\n",
       "      <td>906672</td>\n",
       "      <td>809592</td>\n",
       "      <td>4.27%</td>\n",
       "      <td>122.431</td>\n",
       "      <td>561801</td>\n",
       "      <td>522009</td>\n",
       "    </tr>\n",
       "    <tr>\n",
       "      <th>10</th>\n",
       "      <td>11.0</td>\n",
       "      <td>Kerala</td>\n",
       "      <td>-</td>\n",
       "      <td>781653</td>\n",
       "      <td>4.12%</td>\n",
       "      <td>118.206</td>\n",
       "      <td>-</td>\n",
       "      <td>559412</td>\n",
       "    </tr>\n",
       "    <tr>\n",
       "      <th>11</th>\n",
       "      <td>12.0</td>\n",
       "      <td>Delhi</td>\n",
       "      <td>856112</td>\n",
       "      <td>774870</td>\n",
       "      <td>4.08%</td>\n",
       "      <td>117.180</td>\n",
       "      <td>634408</td>\n",
       "      <td>590569</td>\n",
       "    </tr>\n",
       "    <tr>\n",
       "      <th>12</th>\n",
       "      <td>13.0</td>\n",
       "      <td>Haryana</td>\n",
       "      <td>831610</td>\n",
       "      <td>734163</td>\n",
       "      <td>3.87%</td>\n",
       "      <td>111.024</td>\n",
       "      <td>572240</td>\n",
       "      <td>531085</td>\n",
       "    </tr>\n",
       "    <tr>\n",
       "      <th>13</th>\n",
       "      <td>14.0</td>\n",
       "      <td>Bihar</td>\n",
       "      <td>611804</td>\n",
       "      <td>530363</td>\n",
       "      <td>2.80%</td>\n",
       "      <td>80.204</td>\n",
       "      <td>414977</td>\n",
       "      <td>375651</td>\n",
       "    </tr>\n",
       "    <tr>\n",
       "      <th>14</th>\n",
       "      <td>15.0</td>\n",
       "      <td>Punjab</td>\n",
       "      <td>574760</td>\n",
       "      <td>526376</td>\n",
       "      <td>2.77%</td>\n",
       "      <td>79.601</td>\n",
       "      <td>418868</td>\n",
       "      <td>397669</td>\n",
       "    </tr>\n",
       "    <tr>\n",
       "      <th>15</th>\n",
       "      <td>16.0</td>\n",
       "      <td>Odisha</td>\n",
       "      <td>531374</td>\n",
       "      <td>492229</td>\n",
       "      <td>2.59%</td>\n",
       "      <td>74.437</td>\n",
       "      <td>402383</td>\n",
       "      <td>382218</td>\n",
       "    </tr>\n",
       "    <tr>\n",
       "      <th>16</th>\n",
       "      <td>17.0</td>\n",
       "      <td>Assam</td>\n",
       "      <td>-</td>\n",
       "      <td>315881</td>\n",
       "      <td>1.67%</td>\n",
       "      <td>47.769</td>\n",
       "      <td>-</td>\n",
       "      <td>234048</td>\n",
       "    </tr>\n",
       "    <tr>\n",
       "      <th>17</th>\n",
       "      <td>18.0</td>\n",
       "      <td>Chhattisgarh</td>\n",
       "      <td>329180</td>\n",
       "      <td>304063</td>\n",
       "      <td>1.60%</td>\n",
       "      <td>45.982</td>\n",
       "      <td>243477</td>\n",
       "      <td>231182</td>\n",
       "    </tr>\n",
       "    <tr>\n",
       "      <th>18</th>\n",
       "      <td>19.0</td>\n",
       "      <td>Jharkhand</td>\n",
       "      <td>328598</td>\n",
       "      <td>297204</td>\n",
       "      <td>1.57%</td>\n",
       "      <td>44.945</td>\n",
       "      <td>240036</td>\n",
       "      <td>224986</td>\n",
       "    </tr>\n",
       "    <tr>\n",
       "      <th>19</th>\n",
       "      <td>20.0</td>\n",
       "      <td>Uttarakhand</td>\n",
       "      <td>-</td>\n",
       "      <td>245895</td>\n",
       "      <td>1.30%</td>\n",
       "      <td>37.186</td>\n",
       "      <td>-</td>\n",
       "      <td>193273</td>\n",
       "    </tr>\n",
       "    <tr>\n",
       "      <th>20</th>\n",
       "      <td>21.0</td>\n",
       "      <td>Jammu &amp; Kashmir</td>\n",
       "      <td>-</td>\n",
       "      <td>155956</td>\n",
       "      <td>0.82%</td>\n",
       "      <td>23.584</td>\n",
       "      <td>-</td>\n",
       "      <td>112755</td>\n",
       "    </tr>\n",
       "    <tr>\n",
       "      <th>21</th>\n",
       "      <td>22.0</td>\n",
       "      <td>Himachal Pradesh</td>\n",
       "      <td>165472</td>\n",
       "      <td>153845</td>\n",
       "      <td>0.81%</td>\n",
       "      <td>23.265</td>\n",
       "      <td>124403</td>\n",
       "      <td>117851</td>\n",
       "    </tr>\n",
       "    <tr>\n",
       "      <th>22</th>\n",
       "      <td>23.0</td>\n",
       "      <td>Goa</td>\n",
       "      <td>-</td>\n",
       "      <td>73170</td>\n",
       "      <td>0.39%</td>\n",
       "      <td>11.065</td>\n",
       "      <td>-</td>\n",
       "      <td>62539</td>\n",
       "    </tr>\n",
       "    <tr>\n",
       "      <th>23</th>\n",
       "      <td>24.0</td>\n",
       "      <td>Tripura</td>\n",
       "      <td>55358</td>\n",
       "      <td>49845</td>\n",
       "      <td>0.26%</td>\n",
       "      <td>7.538</td>\n",
       "      <td>40527</td>\n",
       "      <td>36963</td>\n",
       "    </tr>\n",
       "    <tr>\n",
       "      <th>24</th>\n",
       "      <td>25.0</td>\n",
       "      <td>Chandigarh</td>\n",
       "      <td>-</td>\n",
       "      <td>42114</td>\n",
       "      <td>0.22%</td>\n",
       "      <td>6.369</td>\n",
       "      <td>-</td>\n",
       "      <td>31192</td>\n",
       "    </tr>\n",
       "    <tr>\n",
       "      <th>25</th>\n",
       "      <td>26.0</td>\n",
       "      <td>Puducherry</td>\n",
       "      <td>40802</td>\n",
       "      <td>36656</td>\n",
       "      <td>0.19%</td>\n",
       "      <td>5.543</td>\n",
       "      <td>26526</td>\n",
       "      <td>24442</td>\n",
       "    </tr>\n",
       "    <tr>\n",
       "      <th>26</th>\n",
       "      <td>27.0</td>\n",
       "      <td>Meghalaya</td>\n",
       "      <td>36572</td>\n",
       "      <td>33481</td>\n",
       "      <td>0.18%</td>\n",
       "      <td>5.063</td>\n",
       "      <td>26695</td>\n",
       "      <td>24682</td>\n",
       "    </tr>\n",
       "    <tr>\n",
       "      <th>27</th>\n",
       "      <td>28.0</td>\n",
       "      <td>Sikkim</td>\n",
       "      <td>32496</td>\n",
       "      <td>28723</td>\n",
       "      <td>0.15%</td>\n",
       "      <td>4.344</td>\n",
       "      <td>20017</td>\n",
       "      <td>18722</td>\n",
       "    </tr>\n",
       "    <tr>\n",
       "      <th>28</th>\n",
       "      <td>29.0</td>\n",
       "      <td>Manipur</td>\n",
       "      <td>-</td>\n",
       "      <td>27869</td>\n",
       "      <td>0.15%</td>\n",
       "      <td>4.214</td>\n",
       "      <td>-</td>\n",
       "      <td>19300</td>\n",
       "    </tr>\n",
       "    <tr>\n",
       "      <th>29</th>\n",
       "      <td>30.0</td>\n",
       "      <td>Nagaland</td>\n",
       "      <td>-</td>\n",
       "      <td>27283</td>\n",
       "      <td>0.14%</td>\n",
       "      <td>4.126</td>\n",
       "      <td>-</td>\n",
       "      <td>17647</td>\n",
       "    </tr>\n",
       "    <tr>\n",
       "      <th>30</th>\n",
       "      <td>31.0</td>\n",
       "      <td>Arunachal Pradesh</td>\n",
       "      <td>-</td>\n",
       "      <td>24603</td>\n",
       "      <td>0.13%</td>\n",
       "      <td>3.721</td>\n",
       "      <td>-</td>\n",
       "      <td>16676</td>\n",
       "    </tr>\n",
       "    <tr>\n",
       "      <th>31</th>\n",
       "      <td>32.0</td>\n",
       "      <td>Mizoram</td>\n",
       "      <td>-</td>\n",
       "      <td>19520</td>\n",
       "      <td>0.10%</td>\n",
       "      <td>2.952</td>\n",
       "      <td>-</td>\n",
       "      <td>14524</td>\n",
       "    </tr>\n",
       "    <tr>\n",
       "      <th>32</th>\n",
       "      <td>33.0</td>\n",
       "      <td>Andaman &amp; Nicobar Islands</td>\n",
       "      <td>-</td>\n",
       "      <td>-</td>\n",
       "      <td>-</td>\n",
       "      <td>-</td>\n",
       "      <td>-</td>\n",
       "      <td>-</td>\n",
       "    </tr>\n",
       "    <tr>\n",
       "      <th>33</th>\n",
       "      <td>NaN</td>\n",
       "      <td>India</td>\n",
       "      <td>20339849</td>\n",
       "      <td>18971237</td>\n",
       "      <td>NaN</td>\n",
       "      <td>2869</td>\n",
       "      <td>14565951</td>\n",
       "      <td>13981426</td>\n",
       "    </tr>\n",
       "  </tbody>\n",
       "</table>\n",
       "</div>"
      ],
      "text/plain": [
       "    Rank                      State GSDP (Cr INR at Current prices)            \\\n",
       "    Rank                      State                           19-20     18-19   \n",
       "0    1.0                Maharashtra                               -   2632792   \n",
       "1    2.0              Uttar Pradesh                         1794508   1668229   \n",
       "2    3.0                 Tamil Nadu                         1845853   1630208   \n",
       "3    4.0                  Karnataka                         1699115   1544399   \n",
       "4    5.0                    Gujarat                               -   1502899   \n",
       "5    6.0                West Bengal                         1253832   1089898   \n",
       "6    7.0                  Rajasthan                         1020989    942586   \n",
       "7    8.0             Andhra Pradesh                          972782    862957   \n",
       "8    9.0                  Telangana                          969604    861031   \n",
       "9   10.0             Madhya Pradesh                          906672    809592   \n",
       "10  11.0                     Kerala                               -    781653   \n",
       "11  12.0                      Delhi                          856112    774870   \n",
       "12  13.0                    Haryana                          831610    734163   \n",
       "13  14.0                      Bihar                          611804    530363   \n",
       "14  15.0                     Punjab                          574760    526376   \n",
       "15  16.0                     Odisha                          531374    492229   \n",
       "16  17.0                      Assam                               -    315881   \n",
       "17  18.0               Chhattisgarh                          329180    304063   \n",
       "18  19.0                  Jharkhand                          328598    297204   \n",
       "19  20.0                Uttarakhand                               -    245895   \n",
       "20  21.0            Jammu & Kashmir                               -    155956   \n",
       "21  22.0           Himachal Pradesh                          165472    153845   \n",
       "22  23.0                        Goa                               -     73170   \n",
       "23  24.0                    Tripura                           55358     49845   \n",
       "24  25.0                 Chandigarh                               -     42114   \n",
       "25  26.0                 Puducherry                           40802     36656   \n",
       "26  27.0                  Meghalaya                           36572     33481   \n",
       "27  28.0                     Sikkim                           32496     28723   \n",
       "28  29.0                    Manipur                               -     27869   \n",
       "29  30.0                   Nagaland                               -     27283   \n",
       "30  31.0          Arunachal Pradesh                               -     24603   \n",
       "31  32.0                    Mizoram                               -     19520   \n",
       "32  33.0  Andaman & Nicobar Islands                               -         -   \n",
       "33   NaN                      India                        20339849  18971237   \n",
       "\n",
       "     Share GDP ($billion) GSDP (Cr INR at 2011-12 prices)            \n",
       "     18-19           2019                           19-20     18-19  \n",
       "0   13.88%        398.145                               -   2039074  \n",
       "1    8.79%        252.278                         1187277   1137469  \n",
       "2    8.59%        246.529                         1312929   1215307  \n",
       "3    8.14%        233.552                         1201031   1124423  \n",
       "4    7.92%        227.276                               -   1186379  \n",
       "5    5.75%        164.820                          793223    739525  \n",
       "6    4.97%        142.543                          711627    677428  \n",
       "7    4.55%        130.501                          672018    621301  \n",
       "8    4.54%        130.210                          663258    612828  \n",
       "9    4.27%        122.431                          561801    522009  \n",
       "10   4.12%        118.206                               -    559412  \n",
       "11   4.08%        117.180                          634408    590569  \n",
       "12   3.87%        111.024                          572240    531085  \n",
       "13   2.80%         80.204                          414977    375651  \n",
       "14   2.77%         79.601                          418868    397669  \n",
       "15   2.59%         74.437                          402383    382218  \n",
       "16   1.67%         47.769                               -    234048  \n",
       "17   1.60%         45.982                          243477    231182  \n",
       "18   1.57%         44.945                          240036    224986  \n",
       "19   1.30%         37.186                               -    193273  \n",
       "20   0.82%         23.584                               -    112755  \n",
       "21   0.81%         23.265                          124403    117851  \n",
       "22   0.39%         11.065                               -     62539  \n",
       "23   0.26%          7.538                           40527     36963  \n",
       "24   0.22%          6.369                               -     31192  \n",
       "25   0.19%          5.543                           26526     24442  \n",
       "26   0.18%          5.063                           26695     24682  \n",
       "27   0.15%          4.344                           20017     18722  \n",
       "28   0.15%          4.214                               -     19300  \n",
       "29   0.14%          4.126                               -     17647  \n",
       "30   0.13%          3.721                               -     16676  \n",
       "31   0.10%          2.952                               -     14524  \n",
       "32       -              -                               -         -  \n",
       "33     NaN           2869                        14565951  13981426  "
      ]
     },
     "execution_count": 14,
     "metadata": {},
     "output_type": "execute_result"
    }
   ],
   "source": [
    "df=d[1]\n",
    "df"
   ]
  },
  {
   "cell_type": "code",
   "execution_count": 18,
   "metadata": {},
   "outputs": [],
   "source": []
  },
  {
   "cell_type": "code",
   "execution_count": null,
   "metadata": {},
   "outputs": [],
   "source": []
  },
  {
   "cell_type": "code",
   "execution_count": null,
   "metadata": {},
   "outputs": [],
   "source": []
  },
  {
   "cell_type": "markdown",
   "metadata": {},
   "source": [
    "# Scrape the details of trending repositories on Github.com.\n",
    "Url = https://github.com/\n",
    "You have to find the following details:\n",
    "A) Repository title\n",
    "B) Repository description\n",
    "C) Contributors count\n",
    "D) Language used"
   ]
  },
  {
   "cell_type": "code",
   "execution_count": 75,
   "metadata": {},
   "outputs": [],
   "source": [
    "# Importing Libraries\n",
    "import pandas as pd\n",
    "from bs4 import BeautifulSoup\n",
    "import requests\n",
    "import selenium\n",
    "from selenium import webdriver\n",
    "import time\n",
    "from selenium.webdriver.support.ui import WebDriverWait\n",
    "from selenium.webdriver.common.by import By\n",
    "from selenium.webdriver.support.ui import WebDriverWait\n",
    "from selenium.webdriver.support import expected_conditions as EC"
   ]
  },
  {
   "cell_type": "code",
   "execution_count": 76,
   "metadata": {},
   "outputs": [],
   "source": [
    "driver=webdriver.Chrome(r\"/home/sudhakar/Downloads/chromedriver\")\n",
    "time.sleep(5)\n"
   ]
  },
  {
   "cell_type": "code",
   "execution_count": 77,
   "metadata": {},
   "outputs": [],
   "source": [
    "\n",
    "driver.get(\"https://github.com/\" )\n",
    "time.sleep(5)"
   ]
  },
  {
   "cell_type": "code",
   "execution_count": 78,
   "metadata": {},
   "outputs": [],
   "source": [
    "exploreclick=driver.find_element_by_xpath('/html/body/div[1]/header/div/div[2]/nav/ul/li[4]/details/summary').click()"
   ]
  },
  {
   "cell_type": "code",
   "execution_count": 79,
   "metadata": {},
   "outputs": [],
   "source": [
    "trendingclick=driver.find_element_by_xpath('/html/body/div[1]/header/div/div[2]/nav/ul/li[4]/details/div/ul[2]/li[3]/a').click()"
   ]
  },
  {
   "cell_type": "code",
   "execution_count": 80,
   "metadata": {},
   "outputs": [],
   "source": [
    "repositories=driver.find_elements_by_xpath('//h1[@class=\"h3 lh-condensed\"]/a')"
   ]
  },
  {
   "cell_type": "code",
   "execution_count": 81,
   "metadata": {},
   "outputs": [],
   "source": [
    "url_repo=[]\n",
    "for i in repositories:\n",
    "    url_repo.append(i.get_attribute(\"href\"))"
   ]
  },
  {
   "cell_type": "code",
   "execution_count": 82,
   "metadata": {},
   "outputs": [
    {
     "data": {
      "text/plain": [
       "['https://github.com/JonnyBurger/remotion-trailer',\n",
       " 'https://github.com/iam-abbas/Reddit-Stock-Trends',\n",
       " 'https://github.com/hashicorp/vault',\n",
       " 'https://github.com/conwnet/github1s',\n",
       " 'https://github.com/Azure/azure-quickstart-templates',\n",
       " 'https://github.com/Kaiyiwing/qwerty-learner',\n",
       " 'https://github.com/JonnyBurger/remotion',\n",
       " 'https://github.com/nemanjarogic/DesignPatternsLibrary',\n",
       " 'https://github.com/tgbot-collection/YYeTsBot',\n",
       " 'https://github.com/aws/amazon-sagemaker-examples',\n",
       " 'https://github.com/jomjol/AI-on-the-edge-device',\n",
       " 'https://github.com/goldbergyoni/nodebestpractices',\n",
       " 'https://github.com/streamich/react-use',\n",
       " 'https://github.com/ryanmcdermott/clean-code-javascript',\n",
       " 'https://github.com/charliegerard/gaze-detection',\n",
       " 'https://github.com/mozilla-mobile/firefox-ios',\n",
       " 'https://github.com/dkhamsing/open-source-ios-apps',\n",
       " 'https://github.com/justjavac/1s',\n",
       " 'https://github.com/nandorojo/moti',\n",
       " 'https://github.com/sveltejs/svelte',\n",
       " 'https://github.com/googlesamples/mlkit',\n",
       " 'https://github.com/ansible/awx',\n",
       " 'https://github.com/reed-hong/awesome-libra',\n",
       " 'https://github.com/abuanwar072/Flutter-responsive-email-ui---Mobile-Tablet-and-Web',\n",
       " 'https://github.com/Lolliedieb/lolMiner-releases']"
      ]
     },
     "execution_count": 82,
     "metadata": {},
     "output_type": "execute_result"
    }
   ],
   "source": [
    "url_repo"
   ]
  },
  {
   "cell_type": "code",
   "execution_count": 83,
   "metadata": {},
   "outputs": [],
   "source": [
    "NAMES=[]\n",
    "LANGUAGES=[]\n",
    "CONTRIBUITION=[]\n",
    "DISCRIPTION=[]"
   ]
  },
  {
   "cell_type": "code",
   "execution_count": 84,
   "metadata": {},
   "outputs": [],
   "source": [
    "from selenium.common.exceptions import InvalidArgumentException\n",
    "from selenium.common.exceptions import ElementNotInteractableException\n",
    "from selenium.common.exceptions import ElementClickInterceptedException\n",
    "from selenium.common.exceptions import NoSuchElementException"
   ]
  },
  {
   "cell_type": "code",
   "execution_count": 85,
   "metadata": {},
   "outputs": [],
   "source": [
    "for url in url_repo:\n",
    "    driver.get(url)\n",
    "    try:\n",
    "        names=driver.find_element_by_xpath(\"//span[@class='author flex-self-stretch']/a\")\n",
    "        time.sleep(2)\n",
    "        NAMES.append(names.text)\n",
    "        \n",
    "    except NoSuchElementException   as e:\n",
    "        NAMES.append(\"NO names\")\n",
    "    except ElementNotInteractableException:\n",
    "        NAMES.append(\"NO names\")\n",
    "    except ElementClickInterceptedException:\n",
    "        NAMES.append(\"NO names\")\n",
    "\n",
    "    try:\n",
    "        \n",
    "        contribution=driver.find_element_by_xpath(\"//a[@class='link-gray-dark no-underline ']/span\")   \n",
    "        time.sleep(2)\n",
    "        CONTRIBUITION.append(contribution.text)\n",
    "        \n",
    "    except NoSuchElementException   as e:\n",
    "        CONTRIBUITION.append(\"NO contribution\")\n",
    "    except ElementNotInteractableException:\n",
    "        CONTRIBUITION.append(\"NO contribution\")\n",
    "    except ElementClickInterceptedException:\n",
    "        CONTRIBUITION.append(\"NO contribution\")\n",
    "         \n",
    "    try:\n",
    "        \n",
    "        languages=driver.find_element_by_xpath(\"//li[@class='d-inline']\")\n",
    "        time.sleep(2)\n",
    "        LANGUAGES.append(languages.text)\n",
    "        \n",
    "    except NoSuchElementException   as e:\n",
    "        LANGUAGES.append(\"NO language\")\n",
    "    except ElementNotInteractableException:\n",
    "        LANGUAGES.append(\"NO language\")\n",
    "    except ElementClickInterceptedException:\n",
    "        LANGUAGES.append(\"NO language\")\n",
    "    \n",
    "    try:\n",
    "        \n",
    "        discription=driver.find_element_by_xpath(\"//p[@class='f4 mt-3']\")\n",
    "        time.sleep(2)\n",
    "        DISCRIPTION.append(discription.text)\n",
    "        \n",
    "    except NoSuchElementException   as e:\n",
    "        DISCRIPTION.append(\"NO discription\")\n",
    "    except ElementNotInteractableException:\n",
    "        DISCRIPTION.append(\"NO discription\")\n",
    "    except ElementClickInterceptedException:\n",
    "        DISCRIPTION.append(\"NO discription\")\n",
    "            "
   ]
  },
  {
   "cell_type": "code",
   "execution_count": 86,
   "metadata": {},
   "outputs": [
    {
     "data": {
      "text/plain": [
       "25"
      ]
     },
     "execution_count": 86,
     "metadata": {},
     "output_type": "execute_result"
    }
   ],
   "source": [
    "len(NAMES)"
   ]
  },
  {
   "cell_type": "code",
   "execution_count": 87,
   "metadata": {},
   "outputs": [
    {
     "data": {
      "text/plain": [
       "25"
      ]
     },
     "execution_count": 87,
     "metadata": {},
     "output_type": "execute_result"
    }
   ],
   "source": [
    "len(LANGUAGES)"
   ]
  },
  {
   "cell_type": "code",
   "execution_count": 88,
   "metadata": {},
   "outputs": [
    {
     "data": {
      "text/plain": [
       "25"
      ]
     },
     "execution_count": 88,
     "metadata": {},
     "output_type": "execute_result"
    }
   ],
   "source": [
    "len(CONTRIBUITION)"
   ]
  },
  {
   "cell_type": "code",
   "execution_count": 89,
   "metadata": {},
   "outputs": [
    {
     "data": {
      "text/plain": [
       "25"
      ]
     },
     "execution_count": 89,
     "metadata": {},
     "output_type": "execute_result"
    }
   ],
   "source": [
    "len(DISCRIPTION)"
   ]
  },
  {
   "cell_type": "code",
   "execution_count": 90,
   "metadata": {},
   "outputs": [],
   "source": [
    "import pandas as pd\n",
    "TRENDING_GITHUB=pd.DataFrame({})\n",
    "TRENDING_GITHUB['NAMES']=NAMES\n",
    "TRENDING_GITHUB['LANGUAGES']=LANGUAGES\n",
    "TRENDING_GITHUB['CONTRIBUITION']=CONTRIBUITION\n",
    "TRENDING_GITHUB['DISCRIPTION']=DISCRIPTION"
   ]
  },
  {
   "cell_type": "code",
   "execution_count": 91,
   "metadata": {},
   "outputs": [
    {
     "data": {
      "text/html": [
       "<div>\n",
       "<style scoped>\n",
       "    .dataframe tbody tr th:only-of-type {\n",
       "        vertical-align: middle;\n",
       "    }\n",
       "\n",
       "    .dataframe tbody tr th {\n",
       "        vertical-align: top;\n",
       "    }\n",
       "\n",
       "    .dataframe thead th {\n",
       "        text-align: right;\n",
       "    }\n",
       "</style>\n",
       "<table border=\"1\" class=\"dataframe\">\n",
       "  <thead>\n",
       "    <tr style=\"text-align: right;\">\n",
       "      <th></th>\n",
       "      <th>NAMES</th>\n",
       "      <th>LANGUAGES</th>\n",
       "      <th>CONTRIBUITION</th>\n",
       "      <th>DISCRIPTION</th>\n",
       "    </tr>\n",
       "  </thead>\n",
       "  <tbody>\n",
       "    <tr>\n",
       "      <th>0</th>\n",
       "      <td>JonnyBurger</td>\n",
       "      <td>TypeScript\\n93.6%</td>\n",
       "      <td>NO contribution</td>\n",
       "      <td>A video written in React</td>\n",
       "    </tr>\n",
       "    <tr>\n",
       "      <th>1</th>\n",
       "      <td>iam-abbas</td>\n",
       "      <td>Python\\n58.7%</td>\n",
       "      <td></td>\n",
       "      <td>Fetch currently trending stocks on Reddit</td>\n",
       "    </tr>\n",
       "    <tr>\n",
       "      <th>2</th>\n",
       "      <td>hashicorp</td>\n",
       "      <td>Go\\n80.1%</td>\n",
       "      <td>137</td>\n",
       "      <td>A tool for secrets management, encryption as a...</td>\n",
       "    </tr>\n",
       "    <tr>\n",
       "      <th>3</th>\n",
       "      <td>conwnet</td>\n",
       "      <td>TypeScript\\n89.3%</td>\n",
       "      <td></td>\n",
       "      <td>One second to read GitHub code with VS Code.</td>\n",
       "    </tr>\n",
       "    <tr>\n",
       "      <th>4</th>\n",
       "      <td>Azure</td>\n",
       "      <td>PowerShell\\n36.2%</td>\n",
       "      <td>3</td>\n",
       "      <td>Azure Quickstart Templates</td>\n",
       "    </tr>\n",
       "    <tr>\n",
       "      <th>5</th>\n",
       "      <td>Kaiyiwing</td>\n",
       "      <td>TypeScript\\n87.4%</td>\n",
       "      <td></td>\n",
       "      <td>为键盘工作者设计的单词记忆与英语肌肉记忆锻炼软件</td>\n",
       "    </tr>\n",
       "    <tr>\n",
       "      <th>6</th>\n",
       "      <td>JonnyBurger</td>\n",
       "      <td>TypeScript\\n92.5%</td>\n",
       "      <td>122</td>\n",
       "      <td>Create videos programmatically in React</td>\n",
       "    </tr>\n",
       "    <tr>\n",
       "      <th>7</th>\n",
       "      <td>nemanjarogic</td>\n",
       "      <td>C#\\n100.0%</td>\n",
       "      <td></td>\n",
       "      <td>A comprehensive design patterns library implem...</td>\n",
       "    </tr>\n",
       "    <tr>\n",
       "      <th>8</th>\n",
       "      <td>tgbot-collection</td>\n",
       "      <td>Python\\n76.5%</td>\n",
       "      <td>2</td>\n",
       "      <td>人人影视bot，完全对接人人影视全部无删减资源</td>\n",
       "    </tr>\n",
       "    <tr>\n",
       "      <th>9</th>\n",
       "      <td>aws</td>\n",
       "      <td>Jupyter Notebook\\n78.7%</td>\n",
       "      <td>1</td>\n",
       "      <td>Example notebooks that show how to apply machi...</td>\n",
       "    </tr>\n",
       "    <tr>\n",
       "      <th>10</th>\n",
       "      <td>jomjol</td>\n",
       "      <td>C++\\n65.4%</td>\n",
       "      <td>10</td>\n",
       "      <td>NO discription</td>\n",
       "    </tr>\n",
       "    <tr>\n",
       "      <th>11</th>\n",
       "      <td>goldbergyoni</td>\n",
       "      <td>JavaScript\\n66.5%</td>\n",
       "      <td>172</td>\n",
       "      <td>The Node.js best practices list (February 2021)</td>\n",
       "    </tr>\n",
       "    <tr>\n",
       "      <th>12</th>\n",
       "      <td>streamich</td>\n",
       "      <td>TypeScript\\n99.4%</td>\n",
       "      <td>247</td>\n",
       "      <td>React Hooks —</td>\n",
       "    </tr>\n",
       "    <tr>\n",
       "      <th>13</th>\n",
       "      <td>ryanmcdermott</td>\n",
       "      <td>JavaScript\\n100.0%</td>\n",
       "      <td></td>\n",
       "      <td>Clean Code concepts adapted for JavaScript</td>\n",
       "    </tr>\n",
       "    <tr>\n",
       "      <th>14</th>\n",
       "      <td>charliegerard</td>\n",
       "      <td>JavaScript\\n100.0%</td>\n",
       "      <td></td>\n",
       "      <td>Use machine learning in JavaScript to detect e...</td>\n",
       "    </tr>\n",
       "    <tr>\n",
       "      <th>15</th>\n",
       "      <td>mozilla-mobile</td>\n",
       "      <td>Swift\\n91.6%</td>\n",
       "      <td>122</td>\n",
       "      <td>Firefox for iOS</td>\n",
       "    </tr>\n",
       "    <tr>\n",
       "      <th>16</th>\n",
       "      <td>dkhamsing</td>\n",
       "      <td>Swift\\n35.6%</td>\n",
       "      <td>274</td>\n",
       "      <td>Collaborative List of Open-Source iOS Apps</td>\n",
       "    </tr>\n",
       "    <tr>\n",
       "      <th>17</th>\n",
       "      <td>justjavac</td>\n",
       "      <td>NO language</td>\n",
       "      <td>3</td>\n",
       "      <td>天若有情天亦老，我为网站加一秒</td>\n",
       "    </tr>\n",
       "    <tr>\n",
       "      <th>18</th>\n",
       "      <td>nandorojo</td>\n",
       "      <td>TypeScript\\n99.4%</td>\n",
       "      <td>17</td>\n",
       "      <td>The universal React Native animation library, ...</td>\n",
       "    </tr>\n",
       "    <tr>\n",
       "      <th>19</th>\n",
       "      <td>sveltejs</td>\n",
       "      <td>TypeScript\\n54.5%</td>\n",
       "      <td></td>\n",
       "      <td>Cybernetically enhanced web apps</td>\n",
       "    </tr>\n",
       "    <tr>\n",
       "      <th>20</th>\n",
       "      <td>googlesamples</td>\n",
       "      <td>Java\\n29.5%</td>\n",
       "      <td></td>\n",
       "      <td>A collection of sample apps to demonstrate how...</td>\n",
       "    </tr>\n",
       "    <tr>\n",
       "      <th>21</th>\n",
       "      <td>ansible</td>\n",
       "      <td>Python\\n56.1%</td>\n",
       "      <td>41</td>\n",
       "      <td>AWX Project</td>\n",
       "    </tr>\n",
       "    <tr>\n",
       "      <th>22</th>\n",
       "      <td>reed-hong</td>\n",
       "      <td>NO language</td>\n",
       "      <td></td>\n",
       "      <td>A Curated List of Awesome Facebook Libra Resou...</td>\n",
       "    </tr>\n",
       "    <tr>\n",
       "      <th>23</th>\n",
       "      <td>abuanwar072</td>\n",
       "      <td>Dart\\n91.7%</td>\n",
       "      <td></td>\n",
       "      <td>We redesign the outlook app also make it respo...</td>\n",
       "    </tr>\n",
       "    <tr>\n",
       "      <th>24</th>\n",
       "      <td>Lolliedieb</td>\n",
       "      <td>NO language</td>\n",
       "      <td>47</td>\n",
       "      <td>NO discription</td>\n",
       "    </tr>\n",
       "  </tbody>\n",
       "</table>\n",
       "</div>"
      ],
      "text/plain": [
       "               NAMES                LANGUAGES    CONTRIBUITION  \\\n",
       "0        JonnyBurger        TypeScript\\n93.6%  NO contribution   \n",
       "1          iam-abbas            Python\\n58.7%                    \n",
       "2          hashicorp                Go\\n80.1%              137   \n",
       "3            conwnet        TypeScript\\n89.3%                    \n",
       "4              Azure        PowerShell\\n36.2%                3   \n",
       "5          Kaiyiwing        TypeScript\\n87.4%                    \n",
       "6        JonnyBurger        TypeScript\\n92.5%              122   \n",
       "7       nemanjarogic               C#\\n100.0%                    \n",
       "8   tgbot-collection            Python\\n76.5%                2   \n",
       "9                aws  Jupyter Notebook\\n78.7%                1   \n",
       "10            jomjol               C++\\n65.4%               10   \n",
       "11      goldbergyoni        JavaScript\\n66.5%              172   \n",
       "12         streamich        TypeScript\\n99.4%              247   \n",
       "13     ryanmcdermott       JavaScript\\n100.0%                    \n",
       "14     charliegerard       JavaScript\\n100.0%                    \n",
       "15    mozilla-mobile             Swift\\n91.6%              122   \n",
       "16         dkhamsing             Swift\\n35.6%              274   \n",
       "17         justjavac              NO language                3   \n",
       "18         nandorojo        TypeScript\\n99.4%               17   \n",
       "19          sveltejs        TypeScript\\n54.5%                    \n",
       "20     googlesamples              Java\\n29.5%                    \n",
       "21           ansible            Python\\n56.1%               41   \n",
       "22         reed-hong              NO language                    \n",
       "23       abuanwar072              Dart\\n91.7%                    \n",
       "24        Lolliedieb              NO language               47   \n",
       "\n",
       "                                          DISCRIPTION  \n",
       "0                            A video written in React  \n",
       "1           Fetch currently trending stocks on Reddit  \n",
       "2   A tool for secrets management, encryption as a...  \n",
       "3        One second to read GitHub code with VS Code.  \n",
       "4                          Azure Quickstart Templates  \n",
       "5                            为键盘工作者设计的单词记忆与英语肌肉记忆锻炼软件  \n",
       "6             Create videos programmatically in React  \n",
       "7   A comprehensive design patterns library implem...  \n",
       "8                             人人影视bot，完全对接人人影视全部无删减资源  \n",
       "9   Example notebooks that show how to apply machi...  \n",
       "10                                     NO discription  \n",
       "11    The Node.js best practices list (February 2021)  \n",
       "12                                      React Hooks —  \n",
       "13         Clean Code concepts adapted for JavaScript  \n",
       "14  Use machine learning in JavaScript to detect e...  \n",
       "15                                    Firefox for iOS  \n",
       "16         Collaborative List of Open-Source iOS Apps  \n",
       "17                                    天若有情天亦老，我为网站加一秒  \n",
       "18  The universal React Native animation library, ...  \n",
       "19                   Cybernetically enhanced web apps  \n",
       "20  A collection of sample apps to demonstrate how...  \n",
       "21                                        AWX Project  \n",
       "22  A Curated List of Awesome Facebook Libra Resou...  \n",
       "23  We redesign the outlook app also make it respo...  \n",
       "24                                     NO discription  "
      ]
     },
     "execution_count": 91,
     "metadata": {},
     "output_type": "execute_result"
    }
   ],
   "source": [
    "TRENDING_GITHUB"
   ]
  },
  {
   "cell_type": "code",
   "execution_count": null,
   "metadata": {},
   "outputs": [],
   "source": []
  },
  {
   "cell_type": "markdown",
   "metadata": {},
   "source": [
    "# 6. Scrape the details of top 100 songs on billiboard.com.\n",
    "Url = https://www.billiboard.com/\n",
    "You have to find the following details:\n",
    "A) Song name\n",
    "B) Artist name\n",
    "C) Last week rank\n",
    "D) Peak rank\n",
    "E) Weeks on board\n",
    "Note: - From the home page you have to click on the charts option then hot 100-page link through code."
   ]
  },
  {
   "cell_type": "code",
   "execution_count": 1,
   "metadata": {},
   "outputs": [],
   "source": [
    "# Importing Libraries\n",
    "import pandas as pd\n",
    "from bs4 import BeautifulSoup\n",
    "import requests\n",
    "import selenium\n",
    "from selenium import webdriver\n",
    "import time\n",
    "from selenium.webdriver.support.ui import WebDriverWait\n",
    "from selenium.webdriver.common.by import By\n",
    "from selenium.webdriver.support.ui import WebDriverWait\n",
    "from selenium.webdriver.support import expected_conditions as EC"
   ]
  },
  {
   "cell_type": "code",
   "execution_count": 2,
   "metadata": {},
   "outputs": [],
   "source": [
    "driver=webdriver.Chrome(r\"/home/sudhakar/Downloads/chromedriver\")\n",
    "time.sleep(5)"
   ]
  },
  {
   "cell_type": "code",
   "execution_count": 3,
   "metadata": {},
   "outputs": [],
   "source": [
    "\n",
    "driver.get(\"https://www.billboard.com/\" )\n",
    "time.sleep(5)"
   ]
  },
  {
   "cell_type": "code",
   "execution_count": 4,
   "metadata": {},
   "outputs": [],
   "source": [
    "topsongsclick=driver.find_element_by_xpath('//*[@id=\"main-content\"]/div[2]/div/div/div[2]/div[2]/a/span[1]').click()"
   ]
  },
  {
   "cell_type": "code",
   "execution_count": 5,
   "metadata": {},
   "outputs": [],
   "source": [
    "names=driver.find_elements_by_xpath(\"//span[@class='chart-element__information__song text--truncate color--primary']\")"
   ]
  },
  {
   "cell_type": "code",
   "execution_count": 6,
   "metadata": {},
   "outputs": [],
   "source": [
    "artist=driver.find_elements_by_xpath(\"//span[@class='chart-element__information__artist text--truncate color--secondary']\")"
   ]
  },
  {
   "cell_type": "code",
   "execution_count": 25,
   "metadata": {},
   "outputs": [],
   "source": [
    "lastweek=driver.find_element_by_xpath(\"//div[@class='chart-element__metas chart-element__metas--large display--flex flex--y-center']\")"
   ]
  },
  {
   "cell_type": "code",
   "execution_count": 26,
   "metadata": {},
   "outputs": [],
   "source": [
    "lastweek2=lastweek.find_elements_by_xpath(\"//div[@class='chart-element__meta text--center color--secondary text--last']\")"
   ]
  },
  {
   "cell_type": "code",
   "execution_count": 28,
   "metadata": {},
   "outputs": [
    {
     "data": {
      "text/plain": [
       "[<selenium.webdriver.remote.webelement.WebElement (session=\"aa018f6985edd9603d88d561384cfa09\", element=\"252d19c4-c58a-4740-b8be-15dc8dde0c01\")>,\n",
       " <selenium.webdriver.remote.webelement.WebElement (session=\"aa018f6985edd9603d88d561384cfa09\", element=\"ab202549-d39c-4f17-9c9d-6cc1450b0c83\")>,\n",
       " <selenium.webdriver.remote.webelement.WebElement (session=\"aa018f6985edd9603d88d561384cfa09\", element=\"3164cb42-5273-421b-89d8-6fd180b7048d\")>,\n",
       " <selenium.webdriver.remote.webelement.WebElement (session=\"aa018f6985edd9603d88d561384cfa09\", element=\"19f7b9c8-09b5-4d6a-9864-41edf014c516\")>,\n",
       " <selenium.webdriver.remote.webelement.WebElement (session=\"aa018f6985edd9603d88d561384cfa09\", element=\"97292738-edb1-45f9-9b6b-ba8292491590\")>,\n",
       " <selenium.webdriver.remote.webelement.WebElement (session=\"aa018f6985edd9603d88d561384cfa09\", element=\"a06079de-b4d9-4278-a9f2-e32592458f94\")>,\n",
       " <selenium.webdriver.remote.webelement.WebElement (session=\"aa018f6985edd9603d88d561384cfa09\", element=\"0036db26-cdab-4d23-9ef0-6b8493c28dd8\")>,\n",
       " <selenium.webdriver.remote.webelement.WebElement (session=\"aa018f6985edd9603d88d561384cfa09\", element=\"6859c30d-6e3a-47bf-a05a-32a44879ef78\")>,\n",
       " <selenium.webdriver.remote.webelement.WebElement (session=\"aa018f6985edd9603d88d561384cfa09\", element=\"a5cc5e40-95dd-4f2b-8fb3-e1485bd01463\")>,\n",
       " <selenium.webdriver.remote.webelement.WebElement (session=\"aa018f6985edd9603d88d561384cfa09\", element=\"b875c4da-acb5-4c61-a917-0abf53d46be0\")>,\n",
       " <selenium.webdriver.remote.webelement.WebElement (session=\"aa018f6985edd9603d88d561384cfa09\", element=\"227763cd-388d-449b-917c-814a2867803b\")>,\n",
       " <selenium.webdriver.remote.webelement.WebElement (session=\"aa018f6985edd9603d88d561384cfa09\", element=\"e73efb41-628e-4961-a439-86b27b29bd57\")>,\n",
       " <selenium.webdriver.remote.webelement.WebElement (session=\"aa018f6985edd9603d88d561384cfa09\", element=\"c77bfcda-c6fd-42c9-9f84-7c66617ec783\")>,\n",
       " <selenium.webdriver.remote.webelement.WebElement (session=\"aa018f6985edd9603d88d561384cfa09\", element=\"441f23bd-0ff7-4e8c-ab27-578cf3f4fd89\")>,\n",
       " <selenium.webdriver.remote.webelement.WebElement (session=\"aa018f6985edd9603d88d561384cfa09\", element=\"dafd8a70-fcac-4874-9ff4-0f64a8d00496\")>,\n",
       " <selenium.webdriver.remote.webelement.WebElement (session=\"aa018f6985edd9603d88d561384cfa09\", element=\"37321531-5787-4729-973d-22f3f56833d5\")>,\n",
       " <selenium.webdriver.remote.webelement.WebElement (session=\"aa018f6985edd9603d88d561384cfa09\", element=\"f5004dbc-d26d-4826-954a-447f7233c159\")>,\n",
       " <selenium.webdriver.remote.webelement.WebElement (session=\"aa018f6985edd9603d88d561384cfa09\", element=\"de67c2c4-7eec-4f53-9764-9c69ca4a978e\")>,\n",
       " <selenium.webdriver.remote.webelement.WebElement (session=\"aa018f6985edd9603d88d561384cfa09\", element=\"9774f165-a8cc-401a-9fd9-13653dc79ca0\")>,\n",
       " <selenium.webdriver.remote.webelement.WebElement (session=\"aa018f6985edd9603d88d561384cfa09\", element=\"cdb9851e-948d-4f13-b265-15a6b2942ed6\")>,\n",
       " <selenium.webdriver.remote.webelement.WebElement (session=\"aa018f6985edd9603d88d561384cfa09\", element=\"45948dee-a34a-47ab-a58c-f444aeb19a57\")>,\n",
       " <selenium.webdriver.remote.webelement.WebElement (session=\"aa018f6985edd9603d88d561384cfa09\", element=\"d1eeb62d-f436-4da8-b1eb-431a5e4ad187\")>,\n",
       " <selenium.webdriver.remote.webelement.WebElement (session=\"aa018f6985edd9603d88d561384cfa09\", element=\"812d35aa-9fcc-4e00-b9d7-c6e238ad4488\")>,\n",
       " <selenium.webdriver.remote.webelement.WebElement (session=\"aa018f6985edd9603d88d561384cfa09\", element=\"c223e590-1f30-4c6a-b893-fa8003bf3abd\")>,\n",
       " <selenium.webdriver.remote.webelement.WebElement (session=\"aa018f6985edd9603d88d561384cfa09\", element=\"b116414a-adcb-4936-a4b9-634ec6bb8e58\")>,\n",
       " <selenium.webdriver.remote.webelement.WebElement (session=\"aa018f6985edd9603d88d561384cfa09\", element=\"9d8939df-9afc-4ac8-8642-7250a4f183f8\")>,\n",
       " <selenium.webdriver.remote.webelement.WebElement (session=\"aa018f6985edd9603d88d561384cfa09\", element=\"e5c720c8-5686-4ac4-95a7-ada5386e6559\")>,\n",
       " <selenium.webdriver.remote.webelement.WebElement (session=\"aa018f6985edd9603d88d561384cfa09\", element=\"125e48e3-6148-4f6d-af8d-4ec273d23a2f\")>,\n",
       " <selenium.webdriver.remote.webelement.WebElement (session=\"aa018f6985edd9603d88d561384cfa09\", element=\"df110265-e1cd-461a-ba8d-554fd8931f57\")>,\n",
       " <selenium.webdriver.remote.webelement.WebElement (session=\"aa018f6985edd9603d88d561384cfa09\", element=\"78cbf499-7972-4049-b6cc-412184ce1ea4\")>,\n",
       " <selenium.webdriver.remote.webelement.WebElement (session=\"aa018f6985edd9603d88d561384cfa09\", element=\"db14c652-c99b-4a01-b322-f2e6b1128329\")>,\n",
       " <selenium.webdriver.remote.webelement.WebElement (session=\"aa018f6985edd9603d88d561384cfa09\", element=\"178e70b2-79af-4214-92a5-3b62e3db111f\")>,\n",
       " <selenium.webdriver.remote.webelement.WebElement (session=\"aa018f6985edd9603d88d561384cfa09\", element=\"c1ff12cc-81a4-45db-b1d9-c29153bc1075\")>,\n",
       " <selenium.webdriver.remote.webelement.WebElement (session=\"aa018f6985edd9603d88d561384cfa09\", element=\"8185b990-f133-4db7-aac2-4f551bfc15fc\")>,\n",
       " <selenium.webdriver.remote.webelement.WebElement (session=\"aa018f6985edd9603d88d561384cfa09\", element=\"6a2da53b-84cd-4912-8c66-0725c4011a99\")>,\n",
       " <selenium.webdriver.remote.webelement.WebElement (session=\"aa018f6985edd9603d88d561384cfa09\", element=\"0d9b0dc7-da78-4a01-acb2-1bf16805629f\")>,\n",
       " <selenium.webdriver.remote.webelement.WebElement (session=\"aa018f6985edd9603d88d561384cfa09\", element=\"fa703ff2-074d-4c9d-b186-0d7043bbf4f9\")>,\n",
       " <selenium.webdriver.remote.webelement.WebElement (session=\"aa018f6985edd9603d88d561384cfa09\", element=\"4dbe86ed-74cf-4082-b891-449ee87eff14\")>,\n",
       " <selenium.webdriver.remote.webelement.WebElement (session=\"aa018f6985edd9603d88d561384cfa09\", element=\"c1277192-4df1-4ad2-af34-1f25913aaf3d\")>,\n",
       " <selenium.webdriver.remote.webelement.WebElement (session=\"aa018f6985edd9603d88d561384cfa09\", element=\"04677930-d4d5-462d-bdc2-3711d0d77a8f\")>,\n",
       " <selenium.webdriver.remote.webelement.WebElement (session=\"aa018f6985edd9603d88d561384cfa09\", element=\"7ee9f79e-7d89-4aae-bcd1-964036ec53ca\")>,\n",
       " <selenium.webdriver.remote.webelement.WebElement (session=\"aa018f6985edd9603d88d561384cfa09\", element=\"3cb0e5f4-3ff0-4be2-9568-33b02590d289\")>,\n",
       " <selenium.webdriver.remote.webelement.WebElement (session=\"aa018f6985edd9603d88d561384cfa09\", element=\"16c81680-b57c-45b1-95dc-8c52e477da70\")>,\n",
       " <selenium.webdriver.remote.webelement.WebElement (session=\"aa018f6985edd9603d88d561384cfa09\", element=\"ce466365-bc65-4ac3-854a-90bf2f59db82\")>,\n",
       " <selenium.webdriver.remote.webelement.WebElement (session=\"aa018f6985edd9603d88d561384cfa09\", element=\"d868830a-ae7b-4547-a8b4-9abc989d8e5c\")>,\n",
       " <selenium.webdriver.remote.webelement.WebElement (session=\"aa018f6985edd9603d88d561384cfa09\", element=\"1fc93f59-9777-4ce1-a4e1-416537cab963\")>,\n",
       " <selenium.webdriver.remote.webelement.WebElement (session=\"aa018f6985edd9603d88d561384cfa09\", element=\"994872c5-5efc-43f4-873b-4292be478490\")>,\n",
       " <selenium.webdriver.remote.webelement.WebElement (session=\"aa018f6985edd9603d88d561384cfa09\", element=\"9cb10cd9-239b-48dd-993e-a4ef66a8bf93\")>,\n",
       " <selenium.webdriver.remote.webelement.WebElement (session=\"aa018f6985edd9603d88d561384cfa09\", element=\"198d906c-ed74-4918-bf90-81466919cdcb\")>,\n",
       " <selenium.webdriver.remote.webelement.WebElement (session=\"aa018f6985edd9603d88d561384cfa09\", element=\"b3c2eb8e-f172-4545-8be3-31b31631f426\")>,\n",
       " <selenium.webdriver.remote.webelement.WebElement (session=\"aa018f6985edd9603d88d561384cfa09\", element=\"8aed1ac3-00d9-4105-9720-0fd061350a79\")>,\n",
       " <selenium.webdriver.remote.webelement.WebElement (session=\"aa018f6985edd9603d88d561384cfa09\", element=\"da5ce0c9-472b-4acc-9b2a-1e693b6074b5\")>,\n",
       " <selenium.webdriver.remote.webelement.WebElement (session=\"aa018f6985edd9603d88d561384cfa09\", element=\"16ac5a03-ee98-416c-9499-7323a45eece6\")>,\n",
       " <selenium.webdriver.remote.webelement.WebElement (session=\"aa018f6985edd9603d88d561384cfa09\", element=\"0b1d22a1-b7a3-4c66-b3a7-c76a6758c1ac\")>,\n",
       " <selenium.webdriver.remote.webelement.WebElement (session=\"aa018f6985edd9603d88d561384cfa09\", element=\"e8fac592-625c-422b-adb0-735163ab2b1a\")>,\n",
       " <selenium.webdriver.remote.webelement.WebElement (session=\"aa018f6985edd9603d88d561384cfa09\", element=\"04cd3eb9-8a9a-4506-a24d-ed1b6dcc6537\")>,\n",
       " <selenium.webdriver.remote.webelement.WebElement (session=\"aa018f6985edd9603d88d561384cfa09\", element=\"e2246db8-9b4a-4bc6-b31c-d2bfbde93e9c\")>,\n",
       " <selenium.webdriver.remote.webelement.WebElement (session=\"aa018f6985edd9603d88d561384cfa09\", element=\"8d8a2c9a-a5bd-4ed4-ad83-9dec030f977b\")>,\n",
       " <selenium.webdriver.remote.webelement.WebElement (session=\"aa018f6985edd9603d88d561384cfa09\", element=\"0dfaf64a-7827-4279-8726-c6ed2c6b3aae\")>,\n",
       " <selenium.webdriver.remote.webelement.WebElement (session=\"aa018f6985edd9603d88d561384cfa09\", element=\"d16fd4e7-9b0f-4c87-b8a9-1fa4b15165e6\")>,\n",
       " <selenium.webdriver.remote.webelement.WebElement (session=\"aa018f6985edd9603d88d561384cfa09\", element=\"10bb6567-d5ae-486a-9f52-54f21297a9da\")>,\n",
       " <selenium.webdriver.remote.webelement.WebElement (session=\"aa018f6985edd9603d88d561384cfa09\", element=\"5dc68c47-e193-45d3-bd08-3d80d819fe00\")>,\n",
       " <selenium.webdriver.remote.webelement.WebElement (session=\"aa018f6985edd9603d88d561384cfa09\", element=\"811bf0a5-9d8d-4fa3-83c3-b5cdf8779802\")>,\n",
       " <selenium.webdriver.remote.webelement.WebElement (session=\"aa018f6985edd9603d88d561384cfa09\", element=\"dc983a0b-4a97-4ff3-941d-4db12f6d1f98\")>,\n",
       " <selenium.webdriver.remote.webelement.WebElement (session=\"aa018f6985edd9603d88d561384cfa09\", element=\"749eed26-37c1-4e0b-9b04-44dd23c01818\")>,\n",
       " <selenium.webdriver.remote.webelement.WebElement (session=\"aa018f6985edd9603d88d561384cfa09\", element=\"74237a88-5b3a-4d43-a504-01a1ead3a27c\")>,\n",
       " <selenium.webdriver.remote.webelement.WebElement (session=\"aa018f6985edd9603d88d561384cfa09\", element=\"cae56619-30c5-4589-b065-e0225887d80c\")>,\n",
       " <selenium.webdriver.remote.webelement.WebElement (session=\"aa018f6985edd9603d88d561384cfa09\", element=\"6ff0bc16-82dd-47f0-9c6a-9346f15b7b33\")>,\n",
       " <selenium.webdriver.remote.webelement.WebElement (session=\"aa018f6985edd9603d88d561384cfa09\", element=\"dcb87085-dfce-4c66-ac51-5f19bfb94e23\")>,\n",
       " <selenium.webdriver.remote.webelement.WebElement (session=\"aa018f6985edd9603d88d561384cfa09\", element=\"3d592472-24c6-4a82-aac4-32d5de62c71f\")>,\n",
       " <selenium.webdriver.remote.webelement.WebElement (session=\"aa018f6985edd9603d88d561384cfa09\", element=\"4bbe7090-d33b-4141-affe-533a5060fd7b\")>,\n",
       " <selenium.webdriver.remote.webelement.WebElement (session=\"aa018f6985edd9603d88d561384cfa09\", element=\"717960ff-1bbb-4e7a-93b5-a856a8335b8b\")>,\n",
       " <selenium.webdriver.remote.webelement.WebElement (session=\"aa018f6985edd9603d88d561384cfa09\", element=\"8834b1b1-23b0-4df4-bcb9-eba89c3dce71\")>,\n",
       " <selenium.webdriver.remote.webelement.WebElement (session=\"aa018f6985edd9603d88d561384cfa09\", element=\"cbb91b32-29e5-4ec2-b249-12db0812b605\")>,\n",
       " <selenium.webdriver.remote.webelement.WebElement (session=\"aa018f6985edd9603d88d561384cfa09\", element=\"694d4bfe-d32b-4281-bfca-cd1321de0a2d\")>,\n",
       " <selenium.webdriver.remote.webelement.WebElement (session=\"aa018f6985edd9603d88d561384cfa09\", element=\"aa71ea91-b0e2-42a7-86bf-4e6e0ebcf7eb\")>,\n",
       " <selenium.webdriver.remote.webelement.WebElement (session=\"aa018f6985edd9603d88d561384cfa09\", element=\"bff5370f-91af-494a-b6cc-8fc601983702\")>,\n",
       " <selenium.webdriver.remote.webelement.WebElement (session=\"aa018f6985edd9603d88d561384cfa09\", element=\"820a9fb1-1632-4fed-aa27-f69ca7e446b5\")>,\n",
       " <selenium.webdriver.remote.webelement.WebElement (session=\"aa018f6985edd9603d88d561384cfa09\", element=\"e080530f-b266-4385-b2ee-624b1a56f754\")>,\n",
       " <selenium.webdriver.remote.webelement.WebElement (session=\"aa018f6985edd9603d88d561384cfa09\", element=\"a2b592b9-41b1-4126-a619-60de446a8b2e\")>,\n",
       " <selenium.webdriver.remote.webelement.WebElement (session=\"aa018f6985edd9603d88d561384cfa09\", element=\"491a8dcf-18e0-48dc-af80-a46d7f9772ec\")>,\n",
       " <selenium.webdriver.remote.webelement.WebElement (session=\"aa018f6985edd9603d88d561384cfa09\", element=\"05461a19-d3a1-432e-9027-277c71dece8f\")>,\n",
       " <selenium.webdriver.remote.webelement.WebElement (session=\"aa018f6985edd9603d88d561384cfa09\", element=\"b20a1ae4-483a-4d75-bbe4-689400190f87\")>,\n",
       " <selenium.webdriver.remote.webelement.WebElement (session=\"aa018f6985edd9603d88d561384cfa09\", element=\"94196823-15ac-48a8-aa01-c912d6683a99\")>,\n",
       " <selenium.webdriver.remote.webelement.WebElement (session=\"aa018f6985edd9603d88d561384cfa09\", element=\"6b640d4a-49cf-46fe-907d-d897e4d69c90\")>,\n",
       " <selenium.webdriver.remote.webelement.WebElement (session=\"aa018f6985edd9603d88d561384cfa09\", element=\"68b41c89-1619-4023-88ec-7d5664daa394\")>,\n",
       " <selenium.webdriver.remote.webelement.WebElement (session=\"aa018f6985edd9603d88d561384cfa09\", element=\"ebed13cb-3d8d-4700-8960-b6a05041db50\")>,\n",
       " <selenium.webdriver.remote.webelement.WebElement (session=\"aa018f6985edd9603d88d561384cfa09\", element=\"55f38503-5b15-4694-954f-2b31859fb107\")>,\n",
       " <selenium.webdriver.remote.webelement.WebElement (session=\"aa018f6985edd9603d88d561384cfa09\", element=\"6a19b816-91f5-4577-8aaa-02a4a90d8373\")>,\n",
       " <selenium.webdriver.remote.webelement.WebElement (session=\"aa018f6985edd9603d88d561384cfa09\", element=\"3a23f0f5-352a-423d-bf00-658e8265a92f\")>,\n",
       " <selenium.webdriver.remote.webelement.WebElement (session=\"aa018f6985edd9603d88d561384cfa09\", element=\"f3ea2ae8-6e63-4e34-a897-540f8a88bc61\")>,\n",
       " <selenium.webdriver.remote.webelement.WebElement (session=\"aa018f6985edd9603d88d561384cfa09\", element=\"a38800b2-0ee7-4649-854f-2ec0ea9ceb0a\")>,\n",
       " <selenium.webdriver.remote.webelement.WebElement (session=\"aa018f6985edd9603d88d561384cfa09\", element=\"a40e9262-1b60-4374-be40-5a17728947ba\")>,\n",
       " <selenium.webdriver.remote.webelement.WebElement (session=\"aa018f6985edd9603d88d561384cfa09\", element=\"e866a6a0-a369-431a-8f20-b21fd0a55aae\")>,\n",
       " <selenium.webdriver.remote.webelement.WebElement (session=\"aa018f6985edd9603d88d561384cfa09\", element=\"fb3ca86f-ff04-4a8c-a479-d7c8d98064d6\")>,\n",
       " <selenium.webdriver.remote.webelement.WebElement (session=\"aa018f6985edd9603d88d561384cfa09\", element=\"860c5d2c-5721-4179-8cbf-5419d3b3c51e\")>,\n",
       " <selenium.webdriver.remote.webelement.WebElement (session=\"aa018f6985edd9603d88d561384cfa09\", element=\"e0faf518-46c9-4a11-a0d8-88364ff8aeda\")>,\n",
       " <selenium.webdriver.remote.webelement.WebElement (session=\"aa018f6985edd9603d88d561384cfa09\", element=\"c3acb2b2-8ade-49ff-a1b3-e4585fde348c\")>,\n",
       " <selenium.webdriver.remote.webelement.WebElement (session=\"aa018f6985edd9603d88d561384cfa09\", element=\"0c514a69-e527-43f0-b66f-83b634e06330\")>,\n",
       " <selenium.webdriver.remote.webelement.WebElement (session=\"aa018f6985edd9603d88d561384cfa09\", element=\"13c09c9c-418d-4a40-b536-f81606e2edba\")>]"
      ]
     },
     "execution_count": 28,
     "metadata": {},
     "output_type": "execute_result"
    }
   ],
   "source": [
    "lastweek2"
   ]
  },
  {
   "cell_type": "code",
   "execution_count": 32,
   "metadata": {},
   "outputs": [],
   "source": [
    "peak=lastweek.find_elements_by_xpath(\"//div[@class='chart-element__meta text--center color--secondary text--peak']\")"
   ]
  },
  {
   "cell_type": "code",
   "execution_count": 35,
   "metadata": {},
   "outputs": [],
   "source": [
    "weaks=lastweek.find_elements_by_xpath(\"//div[@class='chart-element__meta text--center color--secondary text--week']\")"
   ]
  },
  {
   "cell_type": "code",
   "execution_count": 29,
   "metadata": {},
   "outputs": [],
   "source": [
    "NAMES=[]\n",
    "ARTIST=[]\n",
    "LASTWEEK=[]\n",
    "PEAK=[]\n",
    "WEAKS=[]"
   ]
  },
  {
   "cell_type": "code",
   "execution_count": 30,
   "metadata": {},
   "outputs": [],
   "source": [
    "for i in lastweek2:\n",
    "    LASTWEEK.append(i.text)"
   ]
  },
  {
   "cell_type": "code",
   "execution_count": 38,
   "metadata": {},
   "outputs": [
    {
     "data": {
      "text/plain": [
       "100"
      ]
     },
     "execution_count": 38,
     "metadata": {},
     "output_type": "execute_result"
    }
   ],
   "source": [
    "len(LASTWEEK)"
   ]
  },
  {
   "cell_type": "code",
   "execution_count": 33,
   "metadata": {},
   "outputs": [],
   "source": [
    "for i in peak:\n",
    "    PEAK.append(i.text)"
   ]
  },
  {
   "cell_type": "code",
   "execution_count": 39,
   "metadata": {},
   "outputs": [
    {
     "data": {
      "text/plain": [
       "100"
      ]
     },
     "execution_count": 39,
     "metadata": {},
     "output_type": "execute_result"
    }
   ],
   "source": [
    "len(PEAK)"
   ]
  },
  {
   "cell_type": "code",
   "execution_count": 36,
   "metadata": {},
   "outputs": [],
   "source": [
    "for i in weaks:\n",
    "    WEAKS.append(i.text)"
   ]
  },
  {
   "cell_type": "code",
   "execution_count": 40,
   "metadata": {},
   "outputs": [
    {
     "data": {
      "text/plain": [
       "100"
      ]
     },
     "execution_count": 40,
     "metadata": {},
     "output_type": "execute_result"
    }
   ],
   "source": [
    "len(WEAKS)"
   ]
  },
  {
   "cell_type": "code",
   "execution_count": 41,
   "metadata": {},
   "outputs": [],
   "source": [
    "for i in names:\n",
    "    NAMES.append(i.text)"
   ]
  },
  {
   "cell_type": "code",
   "execution_count": 42,
   "metadata": {},
   "outputs": [
    {
     "data": {
      "text/plain": [
       "100"
      ]
     },
     "execution_count": 42,
     "metadata": {},
     "output_type": "execute_result"
    }
   ],
   "source": [
    "len(NAMES)"
   ]
  },
  {
   "cell_type": "code",
   "execution_count": 43,
   "metadata": {},
   "outputs": [],
   "source": [
    "for i in artist:\n",
    "    ARTIST.append(i.text)"
   ]
  },
  {
   "cell_type": "code",
   "execution_count": 44,
   "metadata": {},
   "outputs": [
    {
     "data": {
      "text/plain": [
       "100"
      ]
     },
     "execution_count": 44,
     "metadata": {},
     "output_type": "execute_result"
    }
   ],
   "source": [
    "len(ARTIST)"
   ]
  },
  {
   "cell_type": "code",
   "execution_count": 45,
   "metadata": {},
   "outputs": [],
   "source": [
    "import pandas as pd\n",
    "billboard=pd.DataFrame({})\n",
    "billboard['NAMES']=NAMES\n",
    "billboard['ARTIST']=ARTIST\n",
    "billboard['LASTWEEK']=LASTWEEK\n",
    "billboard['PEAK']=PEAK\n",
    "billboard['WEAKS']=WEAKS\n"
   ]
  },
  {
   "cell_type": "code",
   "execution_count": 47,
   "metadata": {},
   "outputs": [
    {
     "data": {
      "text/html": [
       "<div>\n",
       "<style scoped>\n",
       "    .dataframe tbody tr th:only-of-type {\n",
       "        vertical-align: middle;\n",
       "    }\n",
       "\n",
       "    .dataframe tbody tr th {\n",
       "        vertical-align: top;\n",
       "    }\n",
       "\n",
       "    .dataframe thead th {\n",
       "        text-align: right;\n",
       "    }\n",
       "</style>\n",
       "<table border=\"1\" class=\"dataframe\">\n",
       "  <thead>\n",
       "    <tr style=\"text-align: right;\">\n",
       "      <th></th>\n",
       "      <th>NAMES</th>\n",
       "      <th>ARTIST</th>\n",
       "      <th>LASTWEEK</th>\n",
       "      <th>PEAK</th>\n",
       "      <th>WEAKS</th>\n",
       "    </tr>\n",
       "  </thead>\n",
       "  <tbody>\n",
       "    <tr>\n",
       "      <th>0</th>\n",
       "      <td></td>\n",
       "      <td></td>\n",
       "      <td></td>\n",
       "      <td></td>\n",
       "      <td></td>\n",
       "    </tr>\n",
       "    <tr>\n",
       "      <th>1</th>\n",
       "      <td>Mood</td>\n",
       "      <td>24kGoldn Featuring iann dior</td>\n",
       "      <td>2</td>\n",
       "      <td>1</td>\n",
       "      <td>26</td>\n",
       "    </tr>\n",
       "    <tr>\n",
       "      <th>2</th>\n",
       "      <td>Blinding Lights</td>\n",
       "      <td>The Weeknd</td>\n",
       "      <td>3</td>\n",
       "      <td>1</td>\n",
       "      <td>61</td>\n",
       "    </tr>\n",
       "    <tr>\n",
       "      <th>3</th>\n",
       "      <td>34+35</td>\n",
       "      <td>Ariana Grande</td>\n",
       "      <td>4</td>\n",
       "      <td>2</td>\n",
       "      <td>14</td>\n",
       "    </tr>\n",
       "    <tr>\n",
       "      <th>4</th>\n",
       "      <td>Levitating</td>\n",
       "      <td>Dua Lipa Featuring DaBaby</td>\n",
       "      <td>5</td>\n",
       "      <td>5</td>\n",
       "      <td>18</td>\n",
       "    </tr>\n",
       "    <tr>\n",
       "      <th>...</th>\n",
       "      <td>...</td>\n",
       "      <td>...</td>\n",
       "      <td>...</td>\n",
       "      <td>...</td>\n",
       "      <td>...</td>\n",
       "    </tr>\n",
       "    <tr>\n",
       "      <th>95</th>\n",
       "      <td>Fake Woke</td>\n",
       "      <td>Tom MacDonald</td>\n",
       "      <td>-</td>\n",
       "      <td>96</td>\n",
       "      <td>1</td>\n",
       "    </tr>\n",
       "    <tr>\n",
       "      <th>96</th>\n",
       "      <td>Prisoner</td>\n",
       "      <td>Miley Cyrus Featuring Dua Lipa</td>\n",
       "      <td>81</td>\n",
       "      <td>54</td>\n",
       "      <td>11</td>\n",
       "    </tr>\n",
       "    <tr>\n",
       "      <th>97</th>\n",
       "      <td>Dangerous</td>\n",
       "      <td>Morgan Wallen</td>\n",
       "      <td>-</td>\n",
       "      <td>62</td>\n",
       "      <td>3</td>\n",
       "    </tr>\n",
       "    <tr>\n",
       "      <th>98</th>\n",
       "      <td>Almost Maybes</td>\n",
       "      <td>Jordan Davis</td>\n",
       "      <td>-</td>\n",
       "      <td>95</td>\n",
       "      <td>2</td>\n",
       "    </tr>\n",
       "    <tr>\n",
       "      <th>99</th>\n",
       "      <td>Mr. Right Now</td>\n",
       "      <td>21 Savage &amp; Metro Boomin Featuring Drake</td>\n",
       "      <td>80</td>\n",
       "      <td>10</td>\n",
       "      <td>18</td>\n",
       "    </tr>\n",
       "  </tbody>\n",
       "</table>\n",
       "<p>100 rows × 5 columns</p>\n",
       "</div>"
      ],
      "text/plain": [
       "              NAMES                                    ARTIST LASTWEEK PEAK  \\\n",
       "0                                                                             \n",
       "1              Mood              24kGoldn Featuring iann dior        2    1   \n",
       "2   Blinding Lights                                The Weeknd        3    1   \n",
       "3             34+35                             Ariana Grande        4    2   \n",
       "4        Levitating                 Dua Lipa Featuring DaBaby        5    5   \n",
       "..              ...                                       ...      ...  ...   \n",
       "95        Fake Woke                             Tom MacDonald        -   96   \n",
       "96         Prisoner            Miley Cyrus Featuring Dua Lipa       81   54   \n",
       "97        Dangerous                             Morgan Wallen        -   62   \n",
       "98    Almost Maybes                              Jordan Davis        -   95   \n",
       "99    Mr. Right Now  21 Savage & Metro Boomin Featuring Drake       80   10   \n",
       "\n",
       "   WEAKS  \n",
       "0         \n",
       "1     26  \n",
       "2     61  \n",
       "3     14  \n",
       "4     18  \n",
       "..   ...  \n",
       "95     1  \n",
       "96    11  \n",
       "97     3  \n",
       "98     2  \n",
       "99    18  \n",
       "\n",
       "[100 rows x 5 columns]"
      ]
     },
     "execution_count": 47,
     "metadata": {},
     "output_type": "execute_result"
    }
   ],
   "source": [
    "billboard"
   ]
  },
  {
   "cell_type": "code",
   "execution_count": null,
   "metadata": {},
   "outputs": [],
   "source": []
  },
  {
   "cell_type": "code",
   "execution_count": null,
   "metadata": {},
   "outputs": [],
   "source": []
  },
  {
   "cell_type": "markdown",
   "metadata": {},
   "source": [
    "# 7. Scrape the details of Data science recruiters from naukri.com.\n",
    "Url = https://www.naukri.com/\n",
    "You have to find the following details:\n",
    "A) Name\n",
    "B) Designation\n",
    "C) Company\n",
    "D) Skills they hire for\n",
    "E) Location\n",
    "Note: - From naukri.com homepage click on the recruiters option and the on the search pane type Data science and\n",
    "click on search. All this should be done through code"
   ]
  },
  {
   "cell_type": "code",
   "execution_count": 1,
   "metadata": {},
   "outputs": [],
   "source": [
    "# Importing Libraries\n",
    "import pandas as pd\n",
    "from bs4 import BeautifulSoup\n",
    "import requests\n",
    "import selenium\n",
    "from selenium import webdriver\n",
    "import time\n",
    "from selenium.webdriver.support.ui import WebDriverWait\n",
    "from selenium.webdriver.common.by import By\n",
    "from selenium.webdriver.support.ui import WebDriverWait\n",
    "from selenium.webdriver.support import expected_conditions as EC"
   ]
  },
  {
   "cell_type": "code",
   "execution_count": 4,
   "metadata": {},
   "outputs": [],
   "source": [
    "driver=webdriver.Chrome(r\"/home/sudhakar/Downloads/chromedriver\")\n",
    "time.sleep(5)"
   ]
  },
  {
   "cell_type": "code",
   "execution_count": 5,
   "metadata": {},
   "outputs": [],
   "source": [
    "driver.get(\"https://www.naukri.com\" )\n",
    "time.sleep(5)"
   ]
  },
  {
   "cell_type": "code",
   "execution_count": 6,
   "metadata": {},
   "outputs": [],
   "source": [
    "search = WebDriverWait(driver, 10).until(EC.element_to_be_clickable((By.CSS_SELECTOR, \"input[name='keyword']\")))"
   ]
  },
  {
   "cell_type": "code",
   "execution_count": 7,
   "metadata": {},
   "outputs": [],
   "source": [
    "search.click()\n",
    "search.send_keys(\"Data Science\")"
   ]
  },
  {
   "cell_type": "code",
   "execution_count": 8,
   "metadata": {},
   "outputs": [],
   "source": [
    "button = WebDriverWait(driver, 2).until(EC.element_to_be_clickable((By.CSS_SELECTOR, \"button[class='btn']\"))).click()\n"
   ]
  },
  {
   "cell_type": "code",
   "execution_count": 26,
   "metadata": {},
   "outputs": [],
   "source": [
    "name_tags=driver.find_elements_by_xpath(\"//div[@class='info fleft']/a[1]\")\n",
    "time.sleep(5)"
   ]
  },
  {
   "cell_type": "code",
   "execution_count": 10,
   "metadata": {},
   "outputs": [],
   "source": [
    "company_tags=driver.find_elements_by_xpath(\"//div[@class='mt-7 companyInfo subheading lh16']\")"
   ]
  },
  {
   "cell_type": "code",
   "execution_count": 42,
   "metadata": {},
   "outputs": [],
   "source": [
    "city_tags=driver.find_element_by_tag_name('i').find_elements_by_xpath(\"//span[@class='ellipsis fleft fs12 lh16']\")"
   ]
  },
  {
   "cell_type": "code",
   "execution_count": 58,
   "metadata": {},
   "outputs": [],
   "source": [
    "skill_tags=driver.find_elements_by_xpath(\"//ul[@class='tags has-description']\")"
   ]
  },
  {
   "cell_type": "code",
   "execution_count": 59,
   "metadata": {},
   "outputs": [],
   "source": [
    "SKILLS=[]\n",
    "for i in skill_tags:\n",
    "    SKILLS.append(i.text)"
   ]
  },
  {
   "cell_type": "code",
   "execution_count": 45,
   "metadata": {},
   "outputs": [],
   "source": [
    "NAMES=[]\n",
    "for i in name_tags:\n",
    "    NAMES.append(i.text)\n",
    "    "
   ]
  },
  {
   "cell_type": "code",
   "execution_count": 46,
   "metadata": {},
   "outputs": [],
   "source": [
    "COMPANY=[]\n",
    "for i in company_tags:\n",
    "    COMPANY.append(i.text)"
   ]
  },
  {
   "cell_type": "code",
   "execution_count": 47,
   "metadata": {},
   "outputs": [],
   "source": [
    "CITY=[]\n",
    "for i in city_tags:\n",
    "    CITY.append(i.text)"
   ]
  },
  {
   "cell_type": "code",
   "execution_count": 60,
   "metadata": {},
   "outputs": [
    {
     "data": {
      "text/plain": [
       "20"
      ]
     },
     "execution_count": 60,
     "metadata": {},
     "output_type": "execute_result"
    }
   ],
   "source": [
    "len(SKILLS)"
   ]
  },
  {
   "cell_type": "code",
   "execution_count": 61,
   "metadata": {},
   "outputs": [
    {
     "data": {
      "text/plain": [
       "['Data Science Team Lead\\nSpotfire\\nMultivariate Analysis\\nFactor Analysis\\nData Science\\nTableau\\nLinear Modeling\\nAlteryx',\n",
       " 'IT Skills\\nPython\\nCloud\\nAWS\\nTableau\\nPower BI\\nAzure\\nComputer science',\n",
       " 'IT Skills\\nJava\\nPython\\nCloud\\nCSS\\nBig Data\\nAWS\\nAzure',\n",
       " 'IT Skills\\nPython\\nData Science\\nData Science\\nNLP\\nNatural Language Processing\\nText Mining\\nMachine Learning',\n",
       " 'IT Skills\\nJava\\nPython\\nData Science\\nMachine Learning\\nCloud\\nOracle\\nBig Data',\n",
       " 'Data Science\\nNLP\\nData Scientist\\nNeural Networks\\nClinical Data Management\\nData Modeling\\nChatbot Deployment\\nData Analytics',\n",
       " 'Data Science\\nBusiness Intelligence\\nR\\nBig Data\\nTableau\\nMachine Learning\\nStatistics\\nAnalytics',\n",
       " 'IT Skills\\nBig Data\\nAWS\\nNLP\\ndata science\\ndata Engineer\\nstatistical modelling\\nmachine learning',\n",
       " 'Data Science\\nAzure\\nData Scientist\\nData Architect\\nData Management\\nStatistical Modeling\\nMachine Learning\\nPython',\n",
       " 'IT Skills\\nJava\\nPython\\nTesting\\nMachine Learning\\nAWS\\nJava\\nR',\n",
       " 'Data Science\\npython\\nAlgorithms\\nArtificial Intelligence\\nNatural Language Processing\\nMachine Learning\\nDeep Learning',\n",
       " 'IT Skills\\nJava\\nPython\\nMachine Learning\\nArtificial Intelligence\\nAzure\\nData Science\\nNLP',\n",
       " 'IT Skills\\nPython\\nMachine Learning\\nData Science\\nData Scientist\\nBig Data\\nData Modeling\\nSolution Design',\n",
       " 'Tensorflow\\nData Science\\nR\\nHadoop\\nSpark\\nSeaborn\\nMachine Learning\\nDeep Learning',\n",
       " 'deep learning\\nArchitect\\nAcademic Research\\ndata science\\nArtificial Intelligence\\nMachine learning\\nNatural language processing\\nMATLAB',\n",
       " 'IT Skills\\nMachine Learning\\nBig Data\\nProduct Development\\nOpen Source\\nData Scientist\\nArtificial Intelligence\\nBig Data',\n",
       " 'IT Skills\\nPython\\nMachine Learning\\nArtificial Intelligence\\nData Science\\nPredictive Modeling\\nData Scientist\\nArtificial Intelligence',\n",
       " 'Logistic regression\\ndata science\\nGCP\\nBusiness analytics\\nMachine learning\\nlinear regression\\nData mining\\nSQL',\n",
       " 'IT Skills\\nJava\\nPython\\nSoftware Development\\nMachine Learning\\nCloud\\nArtificial Intelligence\\nNatural Language Processing',\n",
       " 'Multivariate Analysis\\nData Science\\nR\\nFactor Analysis\\nBI\\nMarket Basket Analysis\\nTime Series\\nData Analytics']"
      ]
     },
     "execution_count": 61,
     "metadata": {},
     "output_type": "execute_result"
    }
   ],
   "source": [
    "SKILLS"
   ]
  },
  {
   "cell_type": "code",
   "execution_count": 49,
   "metadata": {},
   "outputs": [
    {
     "data": {
      "text/plain": [
       "20"
      ]
     },
     "execution_count": 49,
     "metadata": {},
     "output_type": "execute_result"
    }
   ],
   "source": [
    "len(NAMES)"
   ]
  },
  {
   "cell_type": "code",
   "execution_count": 50,
   "metadata": {},
   "outputs": [
    {
     "data": {
      "text/plain": [
       "20"
      ]
     },
     "execution_count": 50,
     "metadata": {},
     "output_type": "execute_result"
    }
   ],
   "source": [
    "len(COMPANY)"
   ]
  },
  {
   "cell_type": "code",
   "execution_count": 51,
   "metadata": {},
   "outputs": [
    {
     "data": {
      "text/plain": [
       "60"
      ]
     },
     "execution_count": 51,
     "metadata": {},
     "output_type": "execute_result"
    }
   ],
   "source": [
    "len(CITY)"
   ]
  },
  {
   "cell_type": "code",
   "execution_count": 52,
   "metadata": {},
   "outputs": [
    {
     "data": {
      "text/plain": [
       "['8-10 Yrs',\n",
       " 'Not disclosed',\n",
       " 'Chennai',\n",
       " '2-5 Yrs',\n",
       " 'Not disclosed',\n",
       " 'Bengaluru',\n",
       " '8-10 Yrs',\n",
       " 'Not disclosed',\n",
       " 'Hyderabad',\n",
       " '3-8 Yrs',\n",
       " '13,00,000 - 23,00,000 PA.',\n",
       " 'Chennai, Bengaluru',\n",
       " '3-5 Yrs',\n",
       " 'Not disclosed',\n",
       " 'Bengaluru',\n",
       " '3-7 Yrs',\n",
       " 'Not disclosed',\n",
       " 'Gurgaon Gurugram',\n",
       " '14-20 Yrs',\n",
       " 'Not disclosed',\n",
       " 'Bengaluru',\n",
       " '3-6 Yrs',\n",
       " 'Not disclosed',\n",
       " 'Chennai, Mumbai',\n",
       " '5-8 Yrs',\n",
       " 'Not disclosed',\n",
       " 'Delhi/NCR Delhi NCR',\n",
       " '6-8 Yrs',\n",
       " 'Not disclosed',\n",
       " 'Bengaluru',\n",
       " '5-10 Yrs',\n",
       " '3,00,000 - 5,00,000 PA.',\n",
       " 'Hyderabad',\n",
       " '10-18 Yrs',\n",
       " 'Not disclosed',\n",
       " 'Chennai',\n",
       " '7-11 Yrs',\n",
       " 'Not disclosed',\n",
       " 'Mumbai',\n",
       " '2-7 Yrs',\n",
       " 'Not disclosed',\n",
       " 'Bengaluru',\n",
       " '2-4 Yrs',\n",
       " 'Not disclosed',\n",
       " 'India',\n",
       " '4-8 Yrs',\n",
       " 'Not disclosed',\n",
       " 'Gurgaon Gurugram',\n",
       " '7-12 Yrs',\n",
       " 'Not disclosed',\n",
       " 'India',\n",
       " '1-5 Yrs',\n",
       " 'Not disclosed',\n",
       " 'Mumbai',\n",
       " '2-4 Yrs',\n",
       " 'Not disclosed',\n",
       " 'Bengaluru',\n",
       " '8-10 Yrs',\n",
       " 'Not disclosed',\n",
       " 'Bengaluru']"
      ]
     },
     "execution_count": 52,
     "metadata": {},
     "output_type": "execute_result"
    }
   ],
   "source": [
    "CITY"
   ]
  },
  {
   "cell_type": "code",
   "execution_count": 62,
   "metadata": {},
   "outputs": [
    {
     "name": "stdout",
     "output_type": "stream",
     "text": [
      "[['8-10 Yrs', 'Not disclosed', 'Chennai'], ['2-5 Yrs', 'Not disclosed', 'Bengaluru'], ['8-10 Yrs', 'Not disclosed', 'Hyderabad'], ['3-8 Yrs', '13,00,000 - 23,00,000 PA.', 'Chennai, Bengaluru'], ['3-5 Yrs', 'Not disclosed', 'Bengaluru'], ['3-7 Yrs', 'Not disclosed', 'Gurgaon Gurugram'], ['14-20 Yrs', 'Not disclosed', 'Bengaluru'], ['3-6 Yrs', 'Not disclosed', 'Chennai, Mumbai'], ['5-8 Yrs', 'Not disclosed', 'Delhi/NCR Delhi NCR'], ['6-8 Yrs', 'Not disclosed', 'Bengaluru'], ['5-10 Yrs', '3,00,000 - 5,00,000 PA.', 'Hyderabad'], ['10-18 Yrs', 'Not disclosed', 'Chennai'], ['7-11 Yrs', 'Not disclosed', 'Mumbai'], ['2-7 Yrs', 'Not disclosed', 'Bengaluru'], ['2-4 Yrs', 'Not disclosed', 'India'], ['4-8 Yrs', 'Not disclosed', 'Gurgaon Gurugram'], ['7-12 Yrs', 'Not disclosed', 'India'], ['1-5 Yrs', 'Not disclosed', 'Mumbai'], ['2-4 Yrs', 'Not disclosed', 'Bengaluru'], ['8-10 Yrs', 'Not disclosed', 'Bengaluru']]\n"
     ]
    }
   ],
   "source": [
    "n=3\n",
    "CITY2 = [CITY[i * n:(i + 1) * n] for i in range((len(CITY) + n - 1) // n )]  \n",
    "print (CITY2) "
   ]
  },
  {
   "cell_type": "code",
   "execution_count": 63,
   "metadata": {},
   "outputs": [
    {
     "data": {
      "text/plain": [
       "20"
      ]
     },
     "execution_count": 63,
     "metadata": {},
     "output_type": "execute_result"
    }
   ],
   "source": [
    "len(CITY2)"
   ]
  },
  {
   "cell_type": "code",
   "execution_count": 64,
   "metadata": {},
   "outputs": [
    {
     "data": {
      "text/html": [
       "<div>\n",
       "<style scoped>\n",
       "    .dataframe tbody tr th:only-of-type {\n",
       "        vertical-align: middle;\n",
       "    }\n",
       "\n",
       "    .dataframe tbody tr th {\n",
       "        vertical-align: top;\n",
       "    }\n",
       "\n",
       "    .dataframe thead th {\n",
       "        text-align: right;\n",
       "    }\n",
       "</style>\n",
       "<table border=\"1\" class=\"dataframe\">\n",
       "  <thead>\n",
       "    <tr style=\"text-align: right;\">\n",
       "      <th></th>\n",
       "      <th>NAMES</th>\n",
       "      <th>COMPANY</th>\n",
       "      <th>CITY2</th>\n",
       "      <th>SKILLS</th>\n",
       "    </tr>\n",
       "  </thead>\n",
       "  <tbody>\n",
       "    <tr>\n",
       "      <th>0</th>\n",
       "      <td>Data Science Team Lead</td>\n",
       "      <td>Shell India Markets Private Limited\\n4.2\\n(523...</td>\n",
       "      <td>[8-10 Yrs, Not disclosed, Chennai]</td>\n",
       "      <td>Data Science Team Lead\\nSpotfire\\nMultivariate...</td>\n",
       "    </tr>\n",
       "    <tr>\n",
       "      <th>1</th>\n",
       "      <td>Data Science Senior Analyst</td>\n",
       "      <td>Accenture Solutions Pvt Ltd\\n3.9\\n(15865 Reviews)</td>\n",
       "      <td>[2-5 Yrs, Not disclosed, Bengaluru]</td>\n",
       "      <td>IT Skills\\nPython\\nCloud\\nAWS\\nTableau\\nPower ...</td>\n",
       "    </tr>\n",
       "    <tr>\n",
       "      <th>2</th>\n",
       "      <td>Data Science Architect</td>\n",
       "      <td>AlgonoX Technologies</td>\n",
       "      <td>[8-10 Yrs, Not disclosed, Hyderabad]</td>\n",
       "      <td>IT Skills\\nJava\\nPython\\nCloud\\nCSS\\nBig Data\\...</td>\n",
       "    </tr>\n",
       "    <tr>\n",
       "      <th>3</th>\n",
       "      <td>Business Research Analyst – II</td>\n",
       "      <td>Amazon Development Centre (India) Pvt. Ltd.\\n4...</td>\n",
       "      <td>[3-8 Yrs, 13,00,000 - 23,00,000 PA., Chennai, ...</td>\n",
       "      <td>IT Skills\\nPython\\nData Science\\nData Science\\...</td>\n",
       "    </tr>\n",
       "    <tr>\n",
       "      <th>4</th>\n",
       "      <td>Data Science Professional</td>\n",
       "      <td>Bion</td>\n",
       "      <td>[3-5 Yrs, Not disclosed, Bengaluru]</td>\n",
       "      <td>IT Skills\\nJava\\nPython\\nData Science\\nMachine...</td>\n",
       "    </tr>\n",
       "    <tr>\n",
       "      <th>5</th>\n",
       "      <td>Founding Member &amp; Principal Data Scientist</td>\n",
       "      <td>Benovymed Healthcare</td>\n",
       "      <td>[3-7 Yrs, Not disclosed, Gurgaon Gurugram]</td>\n",
       "      <td>Data Science\\nNLP\\nData Scientist\\nNeural Netw...</td>\n",
       "    </tr>\n",
       "    <tr>\n",
       "      <th>6</th>\n",
       "      <td>VP / Sr. VP Data Science</td>\n",
       "      <td>Lendingkart Technologies Pvt. Ltd.</td>\n",
       "      <td>[14-20 Yrs, Not disclosed, Bengaluru]</td>\n",
       "      <td>Data Science\\nBusiness Intelligence\\nR\\nBig Da...</td>\n",
       "    </tr>\n",
       "    <tr>\n",
       "      <th>7</th>\n",
       "      <td>Data Science Professional</td>\n",
       "      <td>DISPRZ\\n4.8\\n(4 Reviews)</td>\n",
       "      <td>[3-6 Yrs, Not disclosed, Chennai, Mumbai]</td>\n",
       "      <td>IT Skills\\nBig Data\\nAWS\\nNLP\\ndata science\\nd...</td>\n",
       "    </tr>\n",
       "    <tr>\n",
       "      <th>8</th>\n",
       "      <td>Data Scientist - Machine Learning/Statistical ...</td>\n",
       "      <td>Lericon Informatics Pvt. Ltd.</td>\n",
       "      <td>[5-8 Yrs, Not disclosed, Delhi/NCR Delhi NCR]</td>\n",
       "      <td>Data Science\\nAzure\\nData Scientist\\nData Arch...</td>\n",
       "    </tr>\n",
       "    <tr>\n",
       "      <th>9</th>\n",
       "      <td>Data Scientist</td>\n",
       "      <td>IBM India Pvt. Limited\\n4.1\\n(8802 Reviews)</td>\n",
       "      <td>[6-8 Yrs, Not disclosed, Bengaluru]</td>\n",
       "      <td>IT Skills\\nJava\\nPython\\nTesting\\nMachine Lear...</td>\n",
       "    </tr>\n",
       "    <tr>\n",
       "      <th>10</th>\n",
       "      <td>Data Science Trainer</td>\n",
       "      <td>Naresh i Technologies\\n3.7\\n(23 Reviews)</td>\n",
       "      <td>[5-10 Yrs, 3,00,000 - 5,00,000 PA., Hyderabad]</td>\n",
       "      <td>Data Science\\npython\\nAlgorithms\\nArtificial I...</td>\n",
       "    </tr>\n",
       "    <tr>\n",
       "      <th>11</th>\n",
       "      <td>Immediate Opening - Data Science Lead [ Exp 10...</td>\n",
       "      <td>TECHMINDS GROUP INDIA PRIVATE LIMITED</td>\n",
       "      <td>[10-18 Yrs, Not disclosed, Chennai]</td>\n",
       "      <td>IT Skills\\nJava\\nPython\\nMachine Learning\\nArt...</td>\n",
       "    </tr>\n",
       "    <tr>\n",
       "      <th>12</th>\n",
       "      <td>Team Lead/Manager/Assistant Manager - Data Sci...</td>\n",
       "      <td>Neufvasi Digital Solutions Private Limited</td>\n",
       "      <td>[7-11 Yrs, Not disclosed, Mumbai]</td>\n",
       "      <td>IT Skills\\nPython\\nMachine Learning\\nData Scie...</td>\n",
       "    </tr>\n",
       "    <tr>\n",
       "      <th>13</th>\n",
       "      <td>Data Science Trainer</td>\n",
       "      <td>NIIT Ltd.\\n3.7\\n(503 Reviews)</td>\n",
       "      <td>[2-7 Yrs, Not disclosed, Bengaluru]</td>\n",
       "      <td>Tensorflow\\nData Science\\nR\\nHadoop\\nSpark\\nSe...</td>\n",
       "    </tr>\n",
       "    <tr>\n",
       "      <th>14</th>\n",
       "      <td>Architect Data Science</td>\n",
       "      <td>GenInvo</td>\n",
       "      <td>[2-4 Yrs, Not disclosed, India]</td>\n",
       "      <td>deep learning\\nArchitect\\nAcademic Research\\nd...</td>\n",
       "    </tr>\n",
       "    <tr>\n",
       "      <th>15</th>\n",
       "      <td>Data Scientist</td>\n",
       "      <td>IBM India Pvt. Limited\\n4.1\\n(8802 Reviews)</td>\n",
       "      <td>[4-8 Yrs, Not disclosed, Gurgaon Gurugram]</td>\n",
       "      <td>IT Skills\\nMachine Learning\\nBig Data\\nProduct...</td>\n",
       "    </tr>\n",
       "    <tr>\n",
       "      <th>16</th>\n",
       "      <td>Data Science Engineer - Statistical Modeling/ ...</td>\n",
       "      <td>Lera Technologies Pvt. Ltd</td>\n",
       "      <td>[7-12 Yrs, Not disclosed, India]</td>\n",
       "      <td>IT Skills\\nPython\\nMachine Learning\\nArtificia...</td>\n",
       "    </tr>\n",
       "    <tr>\n",
       "      <th>17</th>\n",
       "      <td>Specialist Data science</td>\n",
       "      <td>Angel Broking Limited\\n3.8\\n(639 Reviews)</td>\n",
       "      <td>[1-5 Yrs, Not disclosed, Mumbai]</td>\n",
       "      <td>Logistic regression\\ndata science\\nGCP\\nBusine...</td>\n",
       "    </tr>\n",
       "    <tr>\n",
       "      <th>18</th>\n",
       "      <td>Data scientist</td>\n",
       "      <td>IBM India Pvt. Limited\\n4.1\\n(8802 Reviews)</td>\n",
       "      <td>[2-4 Yrs, Not disclosed, Bengaluru]</td>\n",
       "      <td>IT Skills\\nJava\\nPython\\nSoftware Development\\...</td>\n",
       "    </tr>\n",
       "    <tr>\n",
       "      <th>19</th>\n",
       "      <td>Data Science Team Lead - Retail</td>\n",
       "      <td>Shell India Markets Private Limited\\n4.2\\n(523...</td>\n",
       "      <td>[8-10 Yrs, Not disclosed, Bengaluru]</td>\n",
       "      <td>Multivariate Analysis\\nData Science\\nR\\nFactor...</td>\n",
       "    </tr>\n",
       "  </tbody>\n",
       "</table>\n",
       "</div>"
      ],
      "text/plain": [
       "                                                NAMES  \\\n",
       "0                              Data Science Team Lead   \n",
       "1                         Data Science Senior Analyst   \n",
       "2                              Data Science Architect   \n",
       "3                      Business Research Analyst – II   \n",
       "4                           Data Science Professional   \n",
       "5          Founding Member & Principal Data Scientist   \n",
       "6                            VP / Sr. VP Data Science   \n",
       "7                           Data Science Professional   \n",
       "8   Data Scientist - Machine Learning/Statistical ...   \n",
       "9                                      Data Scientist   \n",
       "10                               Data Science Trainer   \n",
       "11  Immediate Opening - Data Science Lead [ Exp 10...   \n",
       "12  Team Lead/Manager/Assistant Manager - Data Sci...   \n",
       "13                               Data Science Trainer   \n",
       "14                             Architect Data Science   \n",
       "15                                     Data Scientist   \n",
       "16  Data Science Engineer - Statistical Modeling/ ...   \n",
       "17                            Specialist Data science   \n",
       "18                                     Data scientist   \n",
       "19                    Data Science Team Lead - Retail   \n",
       "\n",
       "                                              COMPANY  \\\n",
       "0   Shell India Markets Private Limited\\n4.2\\n(523...   \n",
       "1   Accenture Solutions Pvt Ltd\\n3.9\\n(15865 Reviews)   \n",
       "2                                AlgonoX Technologies   \n",
       "3   Amazon Development Centre (India) Pvt. Ltd.\\n4...   \n",
       "4                                                Bion   \n",
       "5                                Benovymed Healthcare   \n",
       "6                  Lendingkart Technologies Pvt. Ltd.   \n",
       "7                            DISPRZ\\n4.8\\n(4 Reviews)   \n",
       "8                       Lericon Informatics Pvt. Ltd.   \n",
       "9         IBM India Pvt. Limited\\n4.1\\n(8802 Reviews)   \n",
       "10           Naresh i Technologies\\n3.7\\n(23 Reviews)   \n",
       "11              TECHMINDS GROUP INDIA PRIVATE LIMITED   \n",
       "12         Neufvasi Digital Solutions Private Limited   \n",
       "13                      NIIT Ltd.\\n3.7\\n(503 Reviews)   \n",
       "14                                            GenInvo   \n",
       "15        IBM India Pvt. Limited\\n4.1\\n(8802 Reviews)   \n",
       "16                         Lera Technologies Pvt. Ltd   \n",
       "17          Angel Broking Limited\\n3.8\\n(639 Reviews)   \n",
       "18        IBM India Pvt. Limited\\n4.1\\n(8802 Reviews)   \n",
       "19  Shell India Markets Private Limited\\n4.2\\n(523...   \n",
       "\n",
       "                                                CITY2  \\\n",
       "0                  [8-10 Yrs, Not disclosed, Chennai]   \n",
       "1                 [2-5 Yrs, Not disclosed, Bengaluru]   \n",
       "2                [8-10 Yrs, Not disclosed, Hyderabad]   \n",
       "3   [3-8 Yrs, 13,00,000 - 23,00,000 PA., Chennai, ...   \n",
       "4                 [3-5 Yrs, Not disclosed, Bengaluru]   \n",
       "5          [3-7 Yrs, Not disclosed, Gurgaon Gurugram]   \n",
       "6               [14-20 Yrs, Not disclosed, Bengaluru]   \n",
       "7           [3-6 Yrs, Not disclosed, Chennai, Mumbai]   \n",
       "8       [5-8 Yrs, Not disclosed, Delhi/NCR Delhi NCR]   \n",
       "9                 [6-8 Yrs, Not disclosed, Bengaluru]   \n",
       "10     [5-10 Yrs, 3,00,000 - 5,00,000 PA., Hyderabad]   \n",
       "11                [10-18 Yrs, Not disclosed, Chennai]   \n",
       "12                  [7-11 Yrs, Not disclosed, Mumbai]   \n",
       "13                [2-7 Yrs, Not disclosed, Bengaluru]   \n",
       "14                    [2-4 Yrs, Not disclosed, India]   \n",
       "15         [4-8 Yrs, Not disclosed, Gurgaon Gurugram]   \n",
       "16                   [7-12 Yrs, Not disclosed, India]   \n",
       "17                   [1-5 Yrs, Not disclosed, Mumbai]   \n",
       "18                [2-4 Yrs, Not disclosed, Bengaluru]   \n",
       "19               [8-10 Yrs, Not disclosed, Bengaluru]   \n",
       "\n",
       "                                               SKILLS  \n",
       "0   Data Science Team Lead\\nSpotfire\\nMultivariate...  \n",
       "1   IT Skills\\nPython\\nCloud\\nAWS\\nTableau\\nPower ...  \n",
       "2   IT Skills\\nJava\\nPython\\nCloud\\nCSS\\nBig Data\\...  \n",
       "3   IT Skills\\nPython\\nData Science\\nData Science\\...  \n",
       "4   IT Skills\\nJava\\nPython\\nData Science\\nMachine...  \n",
       "5   Data Science\\nNLP\\nData Scientist\\nNeural Netw...  \n",
       "6   Data Science\\nBusiness Intelligence\\nR\\nBig Da...  \n",
       "7   IT Skills\\nBig Data\\nAWS\\nNLP\\ndata science\\nd...  \n",
       "8   Data Science\\nAzure\\nData Scientist\\nData Arch...  \n",
       "9   IT Skills\\nJava\\nPython\\nTesting\\nMachine Lear...  \n",
       "10  Data Science\\npython\\nAlgorithms\\nArtificial I...  \n",
       "11  IT Skills\\nJava\\nPython\\nMachine Learning\\nArt...  \n",
       "12  IT Skills\\nPython\\nMachine Learning\\nData Scie...  \n",
       "13  Tensorflow\\nData Science\\nR\\nHadoop\\nSpark\\nSe...  \n",
       "14  deep learning\\nArchitect\\nAcademic Research\\nd...  \n",
       "15  IT Skills\\nMachine Learning\\nBig Data\\nProduct...  \n",
       "16  IT Skills\\nPython\\nMachine Learning\\nArtificia...  \n",
       "17  Logistic regression\\ndata science\\nGCP\\nBusine...  \n",
       "18  IT Skills\\nJava\\nPython\\nSoftware Development\\...  \n",
       "19  Multivariate Analysis\\nData Science\\nR\\nFactor...  "
      ]
     },
     "execution_count": 64,
     "metadata": {},
     "output_type": "execute_result"
    }
   ],
   "source": [
    "import pandas as pd\n",
    "DATASCIENCE=pd.DataFrame({})\n",
    "DATASCIENCE['NAMES']=NAMES\n",
    "DATASCIENCE['COMPANY']=COMPANY\n",
    "DATASCIENCE['CITY2']=CITY2\n",
    "DATASCIENCE['SKILLS']=SKILLS\n",
    "DATASCIENCE\n",
    "\n"
   ]
  },
  {
   "cell_type": "code",
   "execution_count": null,
   "metadata": {},
   "outputs": [],
   "source": []
  },
  {
   "cell_type": "markdown",
   "metadata": {},
   "source": [
    "# 8. Scrape the details of Highest selling novels.\n",
    "Url = https://www.theguardian.com/news/datablog/2012/aug/09/best-selling-books-all-time-fifty-shades-grey-\n",
    "compare/\n",
    "You have to find the following details:\n",
    "A) Book name\n",
    "B) Author name\n",
    "C) Volumes sold\n",
    "D) Publisher\n",
    "E) Genre"
   ]
  },
  {
   "cell_type": "code",
   "execution_count": 1,
   "metadata": {},
   "outputs": [],
   "source": [
    "# Importing Libraries\n",
    "import pandas as pd\n",
    "from bs4 import BeautifulSoup\n",
    "import requests\n",
    "import selenium\n",
    "from selenium import webdriver\n",
    "import time\n",
    "from selenium.webdriver.support.ui import WebDriverWait\n",
    "from selenium.webdriver.common.by import By\n",
    "from selenium.webdriver.support.ui import WebDriverWait\n",
    "from selenium.webdriver.support import expected_conditions as EC"
   ]
  },
  {
   "cell_type": "code",
   "execution_count": 2,
   "metadata": {},
   "outputs": [],
   "source": [
    " \n",
    "driver=webdriver.Chrome(r\"/home/sudhakar/Downloads/chromedriver\")\n",
    "time.sleep(5)\n"
   ]
  },
  {
   "cell_type": "code",
   "execution_count": 3,
   "metadata": {},
   "outputs": [],
   "source": [
    "import pandas as pd\n",
    "d=pd.read_html(\"https://www.theguardian.com/news/datablog/2012/aug/09/best-selling-books-all-time-fifty-shades-grey-compare\")"
   ]
  },
  {
   "cell_type": "code",
   "execution_count": 4,
   "metadata": {},
   "outputs": [
    {
     "data": {
      "text/html": [
       "<div>\n",
       "<style scoped>\n",
       "    .dataframe tbody tr th:only-of-type {\n",
       "        vertical-align: middle;\n",
       "    }\n",
       "\n",
       "    .dataframe tbody tr th {\n",
       "        vertical-align: top;\n",
       "    }\n",
       "\n",
       "    .dataframe thead th {\n",
       "        text-align: right;\n",
       "    }\n",
       "</style>\n",
       "<table border=\"1\" class=\"dataframe\">\n",
       "  <thead>\n",
       "    <tr style=\"text-align: right;\">\n",
       "      <th></th>\n",
       "      <th>Rank</th>\n",
       "      <th>Title</th>\n",
       "      <th>Author</th>\n",
       "      <th>Volume Sales</th>\n",
       "      <th>Publisher</th>\n",
       "      <th>Genre</th>\n",
       "    </tr>\n",
       "  </thead>\n",
       "  <tbody>\n",
       "    <tr>\n",
       "      <th>0</th>\n",
       "      <td>1</td>\n",
       "      <td>Da Vinci Code,The</td>\n",
       "      <td>Brown, Dan</td>\n",
       "      <td>5094805</td>\n",
       "      <td>Transworld</td>\n",
       "      <td>Crime, Thriller &amp; Adventure</td>\n",
       "    </tr>\n",
       "    <tr>\n",
       "      <th>1</th>\n",
       "      <td>2</td>\n",
       "      <td>Harry Potter and the Deathly Hallows</td>\n",
       "      <td>Rowling, J.K.</td>\n",
       "      <td>4475152</td>\n",
       "      <td>Bloomsbury</td>\n",
       "      <td>Children's Fiction</td>\n",
       "    </tr>\n",
       "    <tr>\n",
       "      <th>2</th>\n",
       "      <td>3</td>\n",
       "      <td>Harry Potter and the Philosopher's Stone</td>\n",
       "      <td>Rowling, J.K.</td>\n",
       "      <td>4200654</td>\n",
       "      <td>Bloomsbury</td>\n",
       "      <td>Children's Fiction</td>\n",
       "    </tr>\n",
       "    <tr>\n",
       "      <th>3</th>\n",
       "      <td>4</td>\n",
       "      <td>Harry Potter and the Order of the Phoenix</td>\n",
       "      <td>Rowling, J.K.</td>\n",
       "      <td>4179479</td>\n",
       "      <td>Bloomsbury</td>\n",
       "      <td>Children's Fiction</td>\n",
       "    </tr>\n",
       "    <tr>\n",
       "      <th>4</th>\n",
       "      <td>5</td>\n",
       "      <td>Fifty Shades of Grey</td>\n",
       "      <td>James, E. L.</td>\n",
       "      <td>3758936</td>\n",
       "      <td>Random House</td>\n",
       "      <td>Romance &amp; Sagas</td>\n",
       "    </tr>\n",
       "    <tr>\n",
       "      <th>...</th>\n",
       "      <td>...</td>\n",
       "      <td>...</td>\n",
       "      <td>...</td>\n",
       "      <td>...</td>\n",
       "      <td>...</td>\n",
       "      <td>...</td>\n",
       "    </tr>\n",
       "    <tr>\n",
       "      <th>96</th>\n",
       "      <td>97</td>\n",
       "      <td>Happy Days with the Naked Chef</td>\n",
       "      <td>Oliver, Jamie</td>\n",
       "      <td>794201</td>\n",
       "      <td>Penguin</td>\n",
       "      <td>Food &amp; Drink: General</td>\n",
       "    </tr>\n",
       "    <tr>\n",
       "      <th>97</th>\n",
       "      <td>98</td>\n",
       "      <td>Hunger Games,The:Hunger Games Trilogy</td>\n",
       "      <td>Collins, Suzanne</td>\n",
       "      <td>792187</td>\n",
       "      <td>Scholastic Ltd.</td>\n",
       "      <td>Young Adult Fiction</td>\n",
       "    </tr>\n",
       "    <tr>\n",
       "      <th>98</th>\n",
       "      <td>99</td>\n",
       "      <td>Lost Boy,The:A Foster Child's Search for the L...</td>\n",
       "      <td>Pelzer, Dave</td>\n",
       "      <td>791507</td>\n",
       "      <td>Orion</td>\n",
       "      <td>Biography: General</td>\n",
       "    </tr>\n",
       "    <tr>\n",
       "      <th>99</th>\n",
       "      <td>100</td>\n",
       "      <td>Jamie's Ministry of Food:Anyone Can Learn to C...</td>\n",
       "      <td>Oliver, Jamie</td>\n",
       "      <td>791095</td>\n",
       "      <td>Penguin</td>\n",
       "      <td>Food &amp; Drink: General</td>\n",
       "    </tr>\n",
       "    <tr>\n",
       "      <th>100</th>\n",
       "      <td>SOURCE: NIELSEN BOOK SCAN</td>\n",
       "      <td>SOURCE: NIELSEN BOOK SCAN</td>\n",
       "      <td>SOURCE: NIELSEN BOOK SCAN</td>\n",
       "      <td>SOURCE: NIELSEN BOOK SCAN</td>\n",
       "      <td>SOURCE: NIELSEN BOOK SCAN</td>\n",
       "      <td>SOURCE: NIELSEN BOOK SCAN</td>\n",
       "    </tr>\n",
       "  </tbody>\n",
       "</table>\n",
       "<p>101 rows × 6 columns</p>\n",
       "</div>"
      ],
      "text/plain": [
       "                          Rank  \\\n",
       "0                            1   \n",
       "1                            2   \n",
       "2                            3   \n",
       "3                            4   \n",
       "4                            5   \n",
       "..                         ...   \n",
       "96                          97   \n",
       "97                          98   \n",
       "98                          99   \n",
       "99                         100   \n",
       "100  SOURCE: NIELSEN BOOK SCAN   \n",
       "\n",
       "                                                 Title  \\\n",
       "0                                    Da Vinci Code,The   \n",
       "1                 Harry Potter and the Deathly Hallows   \n",
       "2             Harry Potter and the Philosopher's Stone   \n",
       "3            Harry Potter and the Order of the Phoenix   \n",
       "4                                 Fifty Shades of Grey   \n",
       "..                                                 ...   \n",
       "96                      Happy Days with the Naked Chef   \n",
       "97               Hunger Games,The:Hunger Games Trilogy   \n",
       "98   Lost Boy,The:A Foster Child's Search for the L...   \n",
       "99   Jamie's Ministry of Food:Anyone Can Learn to C...   \n",
       "100                          SOURCE: NIELSEN BOOK SCAN   \n",
       "\n",
       "                        Author               Volume Sales  \\\n",
       "0                   Brown, Dan                    5094805   \n",
       "1                Rowling, J.K.                    4475152   \n",
       "2                Rowling, J.K.                    4200654   \n",
       "3                Rowling, J.K.                    4179479   \n",
       "4                 James, E. L.                    3758936   \n",
       "..                         ...                        ...   \n",
       "96               Oliver, Jamie                     794201   \n",
       "97            Collins, Suzanne                     792187   \n",
       "98                Pelzer, Dave                     791507   \n",
       "99               Oliver, Jamie                     791095   \n",
       "100  SOURCE: NIELSEN BOOK SCAN  SOURCE: NIELSEN BOOK SCAN   \n",
       "\n",
       "                     Publisher                        Genre  \n",
       "0                   Transworld  Crime, Thriller & Adventure  \n",
       "1                   Bloomsbury           Children's Fiction  \n",
       "2                   Bloomsbury           Children's Fiction  \n",
       "3                   Bloomsbury           Children's Fiction  \n",
       "4                 Random House              Romance & Sagas  \n",
       "..                         ...                          ...  \n",
       "96                     Penguin        Food & Drink: General  \n",
       "97             Scholastic Ltd.          Young Adult Fiction  \n",
       "98                       Orion           Biography: General  \n",
       "99                     Penguin        Food & Drink: General  \n",
       "100  SOURCE: NIELSEN BOOK SCAN    SOURCE: NIELSEN BOOK SCAN  \n",
       "\n",
       "[101 rows x 6 columns]"
      ]
     },
     "execution_count": 4,
     "metadata": {},
     "output_type": "execute_result"
    }
   ],
   "source": [
    "df=d[0]\n",
    "df"
   ]
  },
  {
   "cell_type": "code",
   "execution_count": null,
   "metadata": {},
   "outputs": [],
   "source": []
  },
  {
   "cell_type": "code",
   "execution_count": null,
   "metadata": {},
   "outputs": [],
   "source": []
  },
  {
   "cell_type": "markdown",
   "metadata": {},
   "source": [
    "# 9. Scrape the details most watched tv series of all time from imdb.com.\n",
    "Url = https://www.imdb.com/list/ls095964455/\n",
    "You have to find the following details:\n",
    "A) Name\n",
    "B) Year span\n",
    "C) Genre\n",
    "D) Run time\n",
    "E) Ratings\n",
    "F) Votes"
   ]
  },
  {
   "cell_type": "code",
   "execution_count": 1,
   "metadata": {},
   "outputs": [],
   "source": [
    "# Importing Libraries\n",
    "import pandas as pd\n",
    "from bs4 import BeautifulSoup\n",
    "import requests\n",
    "import selenium\n",
    "from selenium import webdriver\n",
    "import time\n",
    "from selenium.webdriver.support.ui import WebDriverWait\n",
    "from selenium.webdriver.common.by import By\n",
    "from selenium.webdriver.support.ui import WebDriverWait\n",
    "from selenium.webdriver.support import expected_conditions as EC"
   ]
  },
  {
   "cell_type": "code",
   "execution_count": 2,
   "metadata": {},
   "outputs": [],
   "source": [
    "driver=webdriver.Chrome(r\"/home/sudhakar/Downloads/chromedriver\")\n",
    "time.sleep(5)\n"
   ]
  },
  {
   "cell_type": "code",
   "execution_count": 4,
   "metadata": {},
   "outputs": [],
   "source": [
    "driver.get(\"https://www.imdb.com/list/ls095964455/\" )\n",
    "time.sleep(5)"
   ]
  },
  {
   "cell_type": "code",
   "execution_count": 85,
   "metadata": {},
   "outputs": [],
   "source": [
    "names=driver.find_elements_by_xpath((\"//h3[@class='lister-item-header']/a\"))"
   ]
  },
  {
   "cell_type": "code",
   "execution_count": 95,
   "metadata": {},
   "outputs": [],
   "source": [
    "year_span=driver.find_elements_by_xpath(\"//span[@class='lister-item-year text-muted unbold']\")"
   ]
  },
  {
   "cell_type": "code",
   "execution_count": 96,
   "metadata": {},
   "outputs": [],
   "source": [
    "genre=driver.find_elements_by_xpath(\"//span[@class='genre']\")"
   ]
  },
  {
   "cell_type": "code",
   "execution_count": 97,
   "metadata": {},
   "outputs": [],
   "source": [
    "run_time=driver.find_elements_by_xpath(\"//span[@class='runtime']\")"
   ]
  },
  {
   "cell_type": "code",
   "execution_count": 107,
   "metadata": {},
   "outputs": [],
   "source": [
    "rating=driver.find_elements_by_xpath(\"//div[@class='ipl-rating-star small']/span[2]\")"
   ]
  },
  {
   "cell_type": "code",
   "execution_count": 99,
   "metadata": {},
   "outputs": [],
   "source": [
    "votes=driver.find_elements_by_xpath(\"//span[@name='nv']\")"
   ]
  },
  {
   "cell_type": "code",
   "execution_count": 86,
   "metadata": {},
   "outputs": [],
   "source": [
    "NAMES=[]\n",
    "for i in names:\n",
    "    NAMES.append(i.text)\n",
    "    "
   ]
  },
  {
   "cell_type": "code",
   "execution_count": 89,
   "metadata": {},
   "outputs": [],
   "source": [
    "YEAR=[]\n",
    "for i in year_span:\n",
    "    YEAR.append(i.text)"
   ]
  },
  {
   "cell_type": "code",
   "execution_count": 90,
   "metadata": {},
   "outputs": [],
   "source": [
    "GENRE=[]\n",
    "for i in genre:\n",
    "    GENRE.append(i.text)"
   ]
  },
  {
   "cell_type": "code",
   "execution_count": 92,
   "metadata": {},
   "outputs": [],
   "source": [
    "RUN_TIME=[]\n",
    "for i in run_time:\n",
    "    RUN_TIME.append(i.text)"
   ]
  },
  {
   "cell_type": "code",
   "execution_count": 108,
   "metadata": {},
   "outputs": [],
   "source": [
    "RATING=[]\n",
    "for i in rating:\n",
    "    RATING.append(i.text)"
   ]
  },
  {
   "cell_type": "code",
   "execution_count": 100,
   "metadata": {},
   "outputs": [],
   "source": [
    "VOTES=[]\n",
    "for i in votes:\n",
    "    VOTES.append(i.text)"
   ]
  },
  {
   "cell_type": "code",
   "execution_count": 105,
   "metadata": {},
   "outputs": [
    {
     "data": {
      "text/plain": [
       "100"
      ]
     },
     "execution_count": 105,
     "metadata": {},
     "output_type": "execute_result"
    }
   ],
   "source": [
    "len(YEAR)"
   ]
  },
  {
   "cell_type": "code",
   "execution_count": 104,
   "metadata": {},
   "outputs": [
    {
     "data": {
      "text/plain": [
       "100"
      ]
     },
     "execution_count": 104,
     "metadata": {},
     "output_type": "execute_result"
    }
   ],
   "source": [
    "len(GENRE)"
   ]
  },
  {
   "cell_type": "code",
   "execution_count": 103,
   "metadata": {},
   "outputs": [
    {
     "data": {
      "text/plain": [
       "100"
      ]
     },
     "execution_count": 103,
     "metadata": {},
     "output_type": "execute_result"
    }
   ],
   "source": [
    "len(RUN_TIME)"
   ]
  },
  {
   "cell_type": "code",
   "execution_count": 109,
   "metadata": {},
   "outputs": [
    {
     "data": {
      "text/plain": [
       "100"
      ]
     },
     "execution_count": 109,
     "metadata": {},
     "output_type": "execute_result"
    }
   ],
   "source": [
    "len(RATING)"
   ]
  },
  {
   "cell_type": "code",
   "execution_count": 87,
   "metadata": {},
   "outputs": [
    {
     "data": {
      "text/plain": [
       "100"
      ]
     },
     "execution_count": 87,
     "metadata": {},
     "output_type": "execute_result"
    }
   ],
   "source": [
    "len(NAMES)"
   ]
  },
  {
   "cell_type": "code",
   "execution_count": 101,
   "metadata": {},
   "outputs": [
    {
     "data": {
      "text/plain": [
       "100"
      ]
     },
     "execution_count": 101,
     "metadata": {},
     "output_type": "execute_result"
    }
   ],
   "source": [
    "len(VOTES)"
   ]
  },
  {
   "cell_type": "code",
   "execution_count": 111,
   "metadata": {},
   "outputs": [
    {
     "data": {
      "text/html": [
       "<div>\n",
       "<style scoped>\n",
       "    .dataframe tbody tr th:only-of-type {\n",
       "        vertical-align: middle;\n",
       "    }\n",
       "\n",
       "    .dataframe tbody tr th {\n",
       "        vertical-align: top;\n",
       "    }\n",
       "\n",
       "    .dataframe thead th {\n",
       "        text-align: right;\n",
       "    }\n",
       "</style>\n",
       "<table border=\"1\" class=\"dataframe\">\n",
       "  <thead>\n",
       "    <tr style=\"text-align: right;\">\n",
       "      <th></th>\n",
       "      <th>NAMES</th>\n",
       "      <th>YEAR</th>\n",
       "      <th>GENRE</th>\n",
       "      <th>RUN_TIME</th>\n",
       "      <th>RATING</th>\n",
       "      <th>VOTES</th>\n",
       "    </tr>\n",
       "  </thead>\n",
       "  <tbody>\n",
       "    <tr>\n",
       "      <th>0</th>\n",
       "      <td>Game of Thrones</td>\n",
       "      <td>(2011–2019)</td>\n",
       "      <td>Action, Adventure, Drama</td>\n",
       "      <td>57 min</td>\n",
       "      <td>9.3</td>\n",
       "      <td>1,768,586</td>\n",
       "    </tr>\n",
       "    <tr>\n",
       "      <th>1</th>\n",
       "      <td>Stranger Things</td>\n",
       "      <td>(2016– )</td>\n",
       "      <td>Drama, Fantasy, Horror</td>\n",
       "      <td>51 min</td>\n",
       "      <td>8.7</td>\n",
       "      <td>821,116</td>\n",
       "    </tr>\n",
       "    <tr>\n",
       "      <th>2</th>\n",
       "      <td>The Walking Dead</td>\n",
       "      <td>(2010– )</td>\n",
       "      <td>Drama, Horror, Thriller</td>\n",
       "      <td>44 min</td>\n",
       "      <td>8.2</td>\n",
       "      <td>852,836</td>\n",
       "    </tr>\n",
       "    <tr>\n",
       "      <th>3</th>\n",
       "      <td>13 Reasons Why</td>\n",
       "      <td>(2017–2020)</td>\n",
       "      <td>Drama, Mystery, Thriller</td>\n",
       "      <td>60 min</td>\n",
       "      <td>7.6</td>\n",
       "      <td>256,025</td>\n",
       "    </tr>\n",
       "    <tr>\n",
       "      <th>4</th>\n",
       "      <td>The 100</td>\n",
       "      <td>(2014–2020)</td>\n",
       "      <td>Drama, Mystery, Sci-Fi</td>\n",
       "      <td>43 min</td>\n",
       "      <td>7.6</td>\n",
       "      <td>216,238</td>\n",
       "    </tr>\n",
       "    <tr>\n",
       "      <th>...</th>\n",
       "      <td>...</td>\n",
       "      <td>...</td>\n",
       "      <td>...</td>\n",
       "      <td>...</td>\n",
       "      <td>...</td>\n",
       "      <td>...</td>\n",
       "    </tr>\n",
       "    <tr>\n",
       "      <th>95</th>\n",
       "      <td>Reign</td>\n",
       "      <td>(2013–2017)</td>\n",
       "      <td>Drama, Fantasy</td>\n",
       "      <td>42 min</td>\n",
       "      <td>7.5</td>\n",
       "      <td>43,551</td>\n",
       "    </tr>\n",
       "    <tr>\n",
       "      <th>96</th>\n",
       "      <td>A Series of Unfortunate Events</td>\n",
       "      <td>(2017–2019)</td>\n",
       "      <td>Adventure, Comedy, Drama</td>\n",
       "      <td>50 min</td>\n",
       "      <td>7.8</td>\n",
       "      <td>53,836</td>\n",
       "    </tr>\n",
       "    <tr>\n",
       "      <th>97</th>\n",
       "      <td>Criminal Minds</td>\n",
       "      <td>(2005–2020)</td>\n",
       "      <td>Crime, Drama, Mystery</td>\n",
       "      <td>42 min</td>\n",
       "      <td>8.1</td>\n",
       "      <td>161,034</td>\n",
       "    </tr>\n",
       "    <tr>\n",
       "      <th>98</th>\n",
       "      <td>Scream: The TV Series</td>\n",
       "      <td>(2015–2019)</td>\n",
       "      <td>Crime, Drama, Horror</td>\n",
       "      <td>45 min</td>\n",
       "      <td>7.2</td>\n",
       "      <td>34,074</td>\n",
       "    </tr>\n",
       "    <tr>\n",
       "      <th>99</th>\n",
       "      <td>The Haunting of Hill House</td>\n",
       "      <td>(2018)</td>\n",
       "      <td>Drama, Horror, Mystery</td>\n",
       "      <td>572 min</td>\n",
       "      <td>8.6</td>\n",
       "      <td>182,102</td>\n",
       "    </tr>\n",
       "  </tbody>\n",
       "</table>\n",
       "<p>100 rows × 6 columns</p>\n",
       "</div>"
      ],
      "text/plain": [
       "                             NAMES         YEAR                     GENRE  \\\n",
       "0                  Game of Thrones  (2011–2019)  Action, Adventure, Drama   \n",
       "1                  Stranger Things     (2016– )    Drama, Fantasy, Horror   \n",
       "2                 The Walking Dead     (2010– )   Drama, Horror, Thriller   \n",
       "3                   13 Reasons Why  (2017–2020)  Drama, Mystery, Thriller   \n",
       "4                          The 100  (2014–2020)    Drama, Mystery, Sci-Fi   \n",
       "..                             ...          ...                       ...   \n",
       "95                           Reign  (2013–2017)            Drama, Fantasy   \n",
       "96  A Series of Unfortunate Events  (2017–2019)  Adventure, Comedy, Drama   \n",
       "97                  Criminal Minds  (2005–2020)     Crime, Drama, Mystery   \n",
       "98           Scream: The TV Series  (2015–2019)      Crime, Drama, Horror   \n",
       "99      The Haunting of Hill House       (2018)    Drama, Horror, Mystery   \n",
       "\n",
       "   RUN_TIME RATING      VOTES  \n",
       "0    57 min    9.3  1,768,586  \n",
       "1    51 min    8.7    821,116  \n",
       "2    44 min    8.2    852,836  \n",
       "3    60 min    7.6    256,025  \n",
       "4    43 min    7.6    216,238  \n",
       "..      ...    ...        ...  \n",
       "95   42 min    7.5     43,551  \n",
       "96   50 min    7.8     53,836  \n",
       "97   42 min    8.1    161,034  \n",
       "98   45 min    7.2     34,074  \n",
       "99  572 min    8.6    182,102  \n",
       "\n",
       "[100 rows x 6 columns]"
      ]
     },
     "execution_count": 111,
     "metadata": {},
     "output_type": "execute_result"
    }
   ],
   "source": [
    "import pandas as pd\n",
    "IMBD_TV=pd.DataFrame({})\n",
    "IMBD_TV['NAMES']=NAMES\n",
    "IMBD_TV['YEAR']=YEAR\n",
    "IMBD_TV['GENRE']=GENRE\n",
    "IMBD_TV['RUN_TIME']=RUN_TIME\n",
    "IMBD_TV['RATING']=RATING\n",
    "IMBD_TV['VOTES']=VOTES\n",
    "IMBD_TV\n"
   ]
  },
  {
   "cell_type": "code",
   "execution_count": null,
   "metadata": {},
   "outputs": [],
   "source": []
  },
  {
   "cell_type": "markdown",
   "metadata": {},
   "source": [
    "# 10. Details of Datasets from UCI machine learning repositories.\n",
    "Url = https://archive.ics.uci.edu/\n",
    "You have to find the following details:\n",
    "A) Dataset name\n",
    "B) Data type\n",
    "C) Task\n",
    "D) Attribute type\n",
    "E) No of instances\n",
    "F) No of attribute\n",
    "G) Year\n",
    "Note: - from the home page you have to go to the ShowAllDataset page through code."
   ]
  },
  {
   "cell_type": "code",
   "execution_count": 18,
   "metadata": {},
   "outputs": [],
   "source": [
    "# Importing Libraries\n",
    "import pandas as pd\n",
    "from bs4 import BeautifulSoup\n",
    "import requests\n",
    "import selenium\n",
    "from selenium import webdriver\n",
    "import time\n",
    "from selenium.webdriver.support.ui import WebDriverWait\n",
    "from selenium.webdriver.common.by import By\n",
    "from selenium.webdriver.support.ui import WebDriverWait\n",
    "from selenium.webdriver.support import expected_conditions as EC"
   ]
  },
  {
   "cell_type": "code",
   "execution_count": 19,
   "metadata": {},
   "outputs": [],
   "source": [
    "driver=webdriver.Chrome(r\"/home/sudhakar/Downloads/chromedriver\")\n",
    "time.sleep(5)"
   ]
  },
  {
   "cell_type": "code",
   "execution_count": 20,
   "metadata": {},
   "outputs": [],
   "source": [
    "driver.get(\"https://archive.ics.uci.edu/ml/index.php\" )\n",
    "time.sleep(5)"
   ]
  },
  {
   "cell_type": "code",
   "execution_count": 21,
   "metadata": {},
   "outputs": [],
   "source": [
    "showallRepo=driver.find_element_by_xpath('/html/body/table[1]/tbody/tr/td[2]/span[2]/a/font/b').click()\n"
   ]
  },
  {
   "cell_type": "code",
   "execution_count": 22,
   "metadata": {},
   "outputs": [],
   "source": [
    "current_url=driver.current_url"
   ]
  },
  {
   "cell_type": "code",
   "execution_count": 27,
   "metadata": {},
   "outputs": [],
   "source": [
    "import pandas as pd\n",
    "d=pd.read_html(current_url)"
   ]
  },
  {
   "cell_type": "code",
   "execution_count": 28,
   "metadata": {},
   "outputs": [
    {
     "data": {
      "text/html": [
       "<div>\n",
       "<style scoped>\n",
       "    .dataframe tbody tr th:only-of-type {\n",
       "        vertical-align: middle;\n",
       "    }\n",
       "\n",
       "    .dataframe tbody tr th {\n",
       "        vertical-align: top;\n",
       "    }\n",
       "\n",
       "    .dataframe thead th {\n",
       "        text-align: right;\n",
       "    }\n",
       "</style>\n",
       "<table border=\"1\" class=\"dataframe\">\n",
       "  <thead>\n",
       "    <tr style=\"text-align: right;\">\n",
       "      <th></th>\n",
       "      <th>0</th>\n",
       "      <th>1</th>\n",
       "      <th>2</th>\n",
       "      <th>3</th>\n",
       "      <th>4</th>\n",
       "      <th>5</th>\n",
       "      <th>6</th>\n",
       "    </tr>\n",
       "  </thead>\n",
       "  <tbody>\n",
       "    <tr>\n",
       "      <th>0</th>\n",
       "      <td>Name</td>\n",
       "      <td>Data Types</td>\n",
       "      <td>Default Task</td>\n",
       "      <td>Attribute Types</td>\n",
       "      <td># Instances</td>\n",
       "      <td># Attributes</td>\n",
       "      <td>Year</td>\n",
       "    </tr>\n",
       "    <tr>\n",
       "      <th>1</th>\n",
       "      <td>Abalone</td>\n",
       "      <td>Multivariate</td>\n",
       "      <td>Classification</td>\n",
       "      <td>Categorical, Integer, Real</td>\n",
       "      <td>4177</td>\n",
       "      <td>8</td>\n",
       "      <td>1995</td>\n",
       "    </tr>\n",
       "    <tr>\n",
       "      <th>2</th>\n",
       "      <td>Adult</td>\n",
       "      <td>Multivariate</td>\n",
       "      <td>Classification</td>\n",
       "      <td>Categorical, Integer</td>\n",
       "      <td>48842</td>\n",
       "      <td>14</td>\n",
       "      <td>1996</td>\n",
       "    </tr>\n",
       "    <tr>\n",
       "      <th>3</th>\n",
       "      <td>Annealing</td>\n",
       "      <td>Multivariate</td>\n",
       "      <td>Classification</td>\n",
       "      <td>Categorical, Integer, Real</td>\n",
       "      <td>798</td>\n",
       "      <td>38</td>\n",
       "      <td>NaN</td>\n",
       "    </tr>\n",
       "    <tr>\n",
       "      <th>4</th>\n",
       "      <td>Anonymous Microsoft Web Data</td>\n",
       "      <td>NaN</td>\n",
       "      <td>Recommender-Systems</td>\n",
       "      <td>Categorical</td>\n",
       "      <td>37711</td>\n",
       "      <td>294</td>\n",
       "      <td>1998</td>\n",
       "    </tr>\n",
       "    <tr>\n",
       "      <th>...</th>\n",
       "      <td>...</td>\n",
       "      <td>...</td>\n",
       "      <td>...</td>\n",
       "      <td>...</td>\n",
       "      <td>...</td>\n",
       "      <td>...</td>\n",
       "      <td>...</td>\n",
       "    </tr>\n",
       "    <tr>\n",
       "      <th>555</th>\n",
       "      <td>IIWA14-R820-Gazebo-Dataset-10Trajectories</td>\n",
       "      <td>NaN</td>\n",
       "      <td>Regression</td>\n",
       "      <td>Integer</td>\n",
       "      <td>NaN</td>\n",
       "      <td>NaN</td>\n",
       "      <td>2020</td>\n",
       "    </tr>\n",
       "    <tr>\n",
       "      <th>556</th>\n",
       "      <td>Guitar Chords finger positions</td>\n",
       "      <td>Text</td>\n",
       "      <td>Classification</td>\n",
       "      <td>NaN</td>\n",
       "      <td>2633</td>\n",
       "      <td>5</td>\n",
       "      <td>2020</td>\n",
       "    </tr>\n",
       "    <tr>\n",
       "      <th>557</th>\n",
       "      <td>Russian Corpus of Biographical Texts</td>\n",
       "      <td>Text</td>\n",
       "      <td>Classification</td>\n",
       "      <td>NaN</td>\n",
       "      <td>200</td>\n",
       "      <td>2</td>\n",
       "      <td>2020</td>\n",
       "    </tr>\n",
       "    <tr>\n",
       "      <th>558</th>\n",
       "      <td>Codon usage</td>\n",
       "      <td>Multivariate</td>\n",
       "      <td>Classification, Clustering</td>\n",
       "      <td>NaN</td>\n",
       "      <td>13028</td>\n",
       "      <td>69</td>\n",
       "      <td>2020</td>\n",
       "    </tr>\n",
       "    <tr>\n",
       "      <th>559</th>\n",
       "      <td>Intelligent Media Accelerometer and Gyroscope ...</td>\n",
       "      <td>Time-Series</td>\n",
       "      <td>Classification</td>\n",
       "      <td>Real</td>\n",
       "      <td>800</td>\n",
       "      <td>9</td>\n",
       "      <td>2020</td>\n",
       "    </tr>\n",
       "  </tbody>\n",
       "</table>\n",
       "<p>560 rows × 7 columns</p>\n",
       "</div>"
      ],
      "text/plain": [
       "                                                     0             1  \\\n",
       "0                                                 Name    Data Types   \n",
       "1                                              Abalone  Multivariate   \n",
       "2                                                Adult  Multivariate   \n",
       "3                                            Annealing  Multivariate   \n",
       "4                         Anonymous Microsoft Web Data           NaN   \n",
       "..                                                 ...           ...   \n",
       "555          IIWA14-R820-Gazebo-Dataset-10Trajectories           NaN   \n",
       "556                     Guitar Chords finger positions          Text   \n",
       "557               Russian Corpus of Biographical Texts          Text   \n",
       "558                                        Codon usage  Multivariate   \n",
       "559  Intelligent Media Accelerometer and Gyroscope ...   Time-Series   \n",
       "\n",
       "                              2                           3            4  \\\n",
       "0                  Default Task             Attribute Types  # Instances   \n",
       "1                Classification  Categorical, Integer, Real         4177   \n",
       "2                Classification        Categorical, Integer        48842   \n",
       "3                Classification  Categorical, Integer, Real          798   \n",
       "4           Recommender-Systems                 Categorical        37711   \n",
       "..                          ...                         ...          ...   \n",
       "555                  Regression                     Integer          NaN   \n",
       "556              Classification                         NaN         2633   \n",
       "557              Classification                         NaN          200   \n",
       "558  Classification, Clustering                         NaN        13028   \n",
       "559              Classification                        Real          800   \n",
       "\n",
       "                5     6  \n",
       "0    # Attributes  Year  \n",
       "1               8  1995  \n",
       "2              14  1996  \n",
       "3              38   NaN  \n",
       "4             294  1998  \n",
       "..            ...   ...  \n",
       "555           NaN  2020  \n",
       "556             5  2020  \n",
       "557             2  2020  \n",
       "558            69  2020  \n",
       "559             9  2020  \n",
       "\n",
       "[560 rows x 7 columns]"
      ]
     },
     "execution_count": 28,
     "metadata": {},
     "output_type": "execute_result"
    }
   ],
   "source": [
    "df=d[5]\n",
    "df"
   ]
  },
  {
   "cell_type": "code",
   "execution_count": null,
   "metadata": {},
   "outputs": [],
   "source": []
  }
 ],
 "metadata": {
  "kernelspec": {
   "display_name": "Python 3",
   "language": "python",
   "name": "python3"
  },
  "language_info": {
   "codemirror_mode": {
    "name": "ipython",
    "version": 3
   },
   "file_extension": ".py",
   "mimetype": "text/x-python",
   "name": "python",
   "nbconvert_exporter": "python",
   "pygments_lexer": "ipython3",
   "version": "3.7.6"
  },
  "toc": {
   "base_numbering": 1,
   "nav_menu": {},
   "number_sections": true,
   "sideBar": true,
   "skip_h1_title": false,
   "title_cell": "Table of Contents",
   "title_sidebar": "Contents",
   "toc_cell": false,
   "toc_position": {},
   "toc_section_display": true,
   "toc_window_display": false
  }
 },
 "nbformat": 4,
 "nbformat_minor": 4
}
