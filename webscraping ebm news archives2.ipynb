{
 "cells": [
  {
   "cell_type": "markdown",
   "metadata": {},
   "source": [
    "# WEB SCRAPING EBM_NEWS FROM PAGE 670 TO 705"
   ]
  },
  {
   "cell_type": "code",
   "execution_count": 1,
   "metadata": {},
   "outputs": [],
   "source": [
    "# Importing Libraries\n",
    "import pandas as pd\n",
    "from bs4 import BeautifulSoup\n",
    "import requests\n",
    "import selenium\n",
    "from selenium import webdriver\n",
    "import time\n",
    "from selenium.webdriver.support.ui import WebDriverWait\n",
    "from selenium.webdriver.common.by import By\n",
    "from selenium.webdriver.support.ui import WebDriverWait\n",
    "from selenium.webdriver.support import expected_conditions as EC"
   ]
  },
  {
   "cell_type": "code",
   "execution_count": 2,
   "metadata": {},
   "outputs": [],
   "source": [
    "driver=webdriver.Chrome(r\"/home/sudhakar/Downloads/chromedriver\")\n",
    "time.sleep(5)"
   ]
  },
  {
   "cell_type": "code",
   "execution_count": 3,
   "metadata": {},
   "outputs": [],
   "source": [
    "    start_page=670\n",
    "    end_page=706\n",
    "    AUTHER=[]\n",
    "    DATE=[]\n",
    "    HEADLINE=[]\n",
    "    DISCRIPTION=[]\n",
    "    URLS=[]\n",
    "    for page in range(start_page,end_page):\n",
    "        \n",
    "        url = \"https://www.ebmnews.com/page/\" + str(page)\n",
    "        driver.get(url)\n",
    "        \n",
    "        author = driver.find_elements_by_xpath(\"//div[@class='post-meta']/a/i\")\n",
    "        for i in author:\n",
    "            AUTHER.append(i.text)\n",
    "        \n",
    "        date = driver.find_elements_by_xpath(\"//span[@class='time']/time\")\n",
    "        for j in date:\n",
    "            DATE.append(j.text)\n",
    "       \n",
    "        headline = driver.find_elements_by_xpath(\"//h2[@class='title']/a\")\n",
    "        for j in headline:\n",
    "            HEADLINE.append(j.text)\n",
    "       \n",
    "        discription = driver.find_elements_by_xpath(\"//div[@class='post-summary']\")\n",
    "        for j in discription:\n",
    "            DISCRIPTION.append(j.text)\n",
    "        prod_urls = driver.find_elements_by_xpath(\"//h2[@class='title']/a\")\n",
    "        for prod in prod_urls:\n",
    "            URLS.append(prod.get_attribute(\"href\"))"
   ]
  },
  {
   "cell_type": "code",
   "execution_count": 12,
   "metadata": {},
   "outputs": [],
   "source": [
    "    VERTICAL=[]\n",
    "    for url in URLS:\n",
    "        driver.get(url)\n",
    "        vertical = driver.find_elements_by_xpath(\"//div[@class='post-meta-wrap clearfix']/div/span[1]/a\")\n",
    "        for i in vertical:\n",
    "            VERTICAL.append(i.text)"
   ]
  },
  {
   "cell_type": "code",
   "execution_count": 16,
   "metadata": {},
   "outputs": [
    {
     "data": {
      "text/plain": [
       "(360, 360, 360, 360, 360, 360)"
      ]
     },
     "execution_count": 16,
     "metadata": {},
     "output_type": "execute_result"
    }
   ],
   "source": [
    "len(VERTICAL),len(URLS),len(DISCRIPTION),len(HEADLINE),len(AUTHER),len(DATE)"
   ]
  },
  {
   "cell_type": "code",
   "execution_count": 17,
   "metadata": {},
   "outputs": [
    {
     "data": {
      "text/html": [
       "<div>\n",
       "<style scoped>\n",
       "    .dataframe tbody tr th:only-of-type {\n",
       "        vertical-align: middle;\n",
       "    }\n",
       "\n",
       "    .dataframe tbody tr th {\n",
       "        vertical-align: top;\n",
       "    }\n",
       "\n",
       "    .dataframe thead th {\n",
       "        text-align: right;\n",
       "    }\n",
       "</style>\n",
       "<table border=\"1\" class=\"dataframe\">\n",
       "  <thead>\n",
       "    <tr style=\"text-align: right;\">\n",
       "      <th></th>\n",
       "      <th>VERTICAL</th>\n",
       "      <th>AUTHER</th>\n",
       "      <th>DATE</th>\n",
       "      <th>HEADLINE</th>\n",
       "      <th>DISCRIPTION</th>\n",
       "    </tr>\n",
       "  </thead>\n",
       "  <tbody>\n",
       "    <tr>\n",
       "      <th>0</th>\n",
       "      <td>WORLD</td>\n",
       "      <td>Reporter</td>\n",
       "      <td>Jul 9, 2020</td>\n",
       "      <td>US considering additional actions against Chin...</td>\n",
       "      <td>WASHINGTON: The United States is preparing to ...</td>\n",
       "    </tr>\n",
       "    <tr>\n",
       "      <th>1</th>\n",
       "      <td>WORLD</td>\n",
       "      <td>Reporter</td>\n",
       "      <td>Jul 9, 2020</td>\n",
       "      <td>Reopen or face possible federal aid cut: Trump...</td>\n",
       "      <td>WASHINGTON: President Donald Trump on Wednesda...</td>\n",
       "    </tr>\n",
       "    <tr>\n",
       "      <th>2</th>\n",
       "      <td>WORLD</td>\n",
       "      <td>Reporter</td>\n",
       "      <td>Jul 9, 2020</td>\n",
       "      <td>Global COVID-19 cases cross 12 million, US rem...</td>\n",
       "      <td>WASHINGTON: The overall number of global COVID...</td>\n",
       "    </tr>\n",
       "    <tr>\n",
       "      <th>3</th>\n",
       "      <td>CRIME</td>\n",
       "      <td>Reporter</td>\n",
       "      <td>Jul 9, 2020</td>\n",
       "      <td>IIT-Kanpur assistant professor kills self at c...</td>\n",
       "      <td>LUCKNOW: An assistant professor of computer sc...</td>\n",
       "    </tr>\n",
       "    <tr>\n",
       "      <th>4</th>\n",
       "      <td>NATIONAL</td>\n",
       "      <td>Reporter</td>\n",
       "      <td>Jul 9, 2020</td>\n",
       "      <td>Alarming rise in COVID cases forces Madhya Pra...</td>\n",
       "      <td>BHOPAL: Alarmed over the sudden rise in COVID-...</td>\n",
       "    </tr>\n",
       "    <tr>\n",
       "      <th>...</th>\n",
       "      <td>...</td>\n",
       "      <td>...</td>\n",
       "      <td>...</td>\n",
       "      <td>...</td>\n",
       "      <td>...</td>\n",
       "    </tr>\n",
       "    <tr>\n",
       "      <th>355</th>\n",
       "      <td>AUTOMOTIVE</td>\n",
       "      <td>Reporter</td>\n",
       "      <td>Jun 28, 2020</td>\n",
       "      <td>Nissan Sub-4-Meter Sedan In The Works</td>\n",
       "      <td>Japanese auto manufacturer Nissan announced it...</td>\n",
       "    </tr>\n",
       "    <tr>\n",
       "      <th>356</th>\n",
       "      <td>TECHNOLOGY</td>\n",
       "      <td>Reporter</td>\n",
       "      <td>Jun 28, 2020</td>\n",
       "      <td>Asus ROG Phone 3 Bags Bluetooth SIG Certification</td>\n",
       "      <td>Asus is all set to bring its third-generation ...</td>\n",
       "    </tr>\n",
       "    <tr>\n",
       "      <th>357</th>\n",
       "      <td>TECHNOLOGY</td>\n",
       "      <td>Reporter</td>\n",
       "      <td>Jun 28, 2020</td>\n",
       "      <td>Astronomers Discover Super Earths 11 Light-Yea...</td>\n",
       "      <td>Astronomers have been discovering exoplanets, ...</td>\n",
       "    </tr>\n",
       "    <tr>\n",
       "      <th>358</th>\n",
       "      <td>LIFESTYLE</td>\n",
       "      <td>Reporter</td>\n",
       "      <td>Jun 28, 2020</td>\n",
       "      <td>Foods That Help Manage Drug And Alcohol Cravings</td>\n",
       "      <td>Individuals who suffer from alcohol addiction ...</td>\n",
       "    </tr>\n",
       "    <tr>\n",
       "      <th>359</th>\n",
       "      <td>ENTERTAINMENT</td>\n",
       "      <td>Reporter</td>\n",
       "      <td>Jun 28, 2020</td>\n",
       "      <td>Vaariyamkunnan: Scriptwriter Ramees Withdraws ...</td>\n",
       "      <td>Vaariyamkunnan, the upcoming Prithviraj Sukuma...</td>\n",
       "    </tr>\n",
       "  </tbody>\n",
       "</table>\n",
       "<p>360 rows × 5 columns</p>\n",
       "</div>"
      ],
      "text/plain": [
       "          VERTICAL    AUTHER          DATE  \\\n",
       "0            WORLD  Reporter   Jul 9, 2020   \n",
       "1            WORLD  Reporter   Jul 9, 2020   \n",
       "2            WORLD  Reporter   Jul 9, 2020   \n",
       "3            CRIME  Reporter   Jul 9, 2020   \n",
       "4         NATIONAL  Reporter   Jul 9, 2020   \n",
       "..             ...       ...           ...   \n",
       "355     AUTOMOTIVE  Reporter  Jun 28, 2020   \n",
       "356     TECHNOLOGY  Reporter  Jun 28, 2020   \n",
       "357     TECHNOLOGY  Reporter  Jun 28, 2020   \n",
       "358      LIFESTYLE  Reporter  Jun 28, 2020   \n",
       "359  ENTERTAINMENT  Reporter  Jun 28, 2020   \n",
       "\n",
       "                                              HEADLINE  \\\n",
       "0    US considering additional actions against Chin...   \n",
       "1    Reopen or face possible federal aid cut: Trump...   \n",
       "2    Global COVID-19 cases cross 12 million, US rem...   \n",
       "3    IIT-Kanpur assistant professor kills self at c...   \n",
       "4    Alarming rise in COVID cases forces Madhya Pra...   \n",
       "..                                                 ...   \n",
       "355              Nissan Sub-4-Meter Sedan In The Works   \n",
       "356  Asus ROG Phone 3 Bags Bluetooth SIG Certification   \n",
       "357  Astronomers Discover Super Earths 11 Light-Yea...   \n",
       "358   Foods That Help Manage Drug And Alcohol Cravings   \n",
       "359  Vaariyamkunnan: Scriptwriter Ramees Withdraws ...   \n",
       "\n",
       "                                           DISCRIPTION  \n",
       "0    WASHINGTON: The United States is preparing to ...  \n",
       "1    WASHINGTON: President Donald Trump on Wednesda...  \n",
       "2    WASHINGTON: The overall number of global COVID...  \n",
       "3    LUCKNOW: An assistant professor of computer sc...  \n",
       "4    BHOPAL: Alarmed over the sudden rise in COVID-...  \n",
       "..                                                 ...  \n",
       "355  Japanese auto manufacturer Nissan announced it...  \n",
       "356  Asus is all set to bring its third-generation ...  \n",
       "357  Astronomers have been discovering exoplanets, ...  \n",
       "358  Individuals who suffer from alcohol addiction ...  \n",
       "359  Vaariyamkunnan, the upcoming Prithviraj Sukuma...  \n",
       "\n",
       "[360 rows x 5 columns]"
      ]
     },
     "execution_count": 17,
     "metadata": {},
     "output_type": "execute_result"
    }
   ],
   "source": [
    "import pandas as pd\n",
    "EBM_NEWS=pd.DataFrame({})\n",
    "EBM_NEWS['VERTICAL']=VERTICAL\n",
    "EBM_NEWS['AUTHER']=AUTHER\n",
    "\n",
    "EBM_NEWS['DATE']=DATE\n",
    "\n",
    "EBM_NEWS['HEADLINE']=HEADLINE\n",
    "EBM_NEWS['DISCRIPTION']=DISCRIPTION\n",
    "EBM_NEWS"
   ]
  },
  {
   "cell_type": "code",
   "execution_count": 18,
   "metadata": {},
   "outputs": [],
   "source": [
    "EBM_NEWS.to_csv(\"EBM_NEWS.csv\")"
   ]
  },
  {
   "cell_type": "code",
   "execution_count": null,
   "metadata": {},
   "outputs": [],
   "source": []
  },
  {
   "cell_type": "code",
   "execution_count": 20,
   "metadata": {},
   "outputs": [],
   "source": []
  },
  {
   "cell_type": "code",
   "execution_count": null,
   "metadata": {},
   "outputs": [],
   "source": []
  },
  {
   "cell_type": "code",
   "execution_count": null,
   "metadata": {},
   "outputs": [],
   "source": []
  },
  {
   "cell_type": "code",
   "execution_count": null,
   "metadata": {},
   "outputs": [],
   "source": []
  },
  {
   "cell_type": "code",
   "execution_count": null,
   "metadata": {},
   "outputs": [],
   "source": []
  },
  {
   "cell_type": "code",
   "execution_count": null,
   "metadata": {},
   "outputs": [],
   "source": []
  },
  {
   "cell_type": "code",
   "execution_count": null,
   "metadata": {},
   "outputs": [],
   "source": []
  },
  {
   "cell_type": "code",
   "execution_count": null,
   "metadata": {},
   "outputs": [],
   "source": []
  },
  {
   "cell_type": "code",
   "execution_count": null,
   "metadata": {},
   "outputs": [],
   "source": []
  },
  {
   "cell_type": "code",
   "execution_count": null,
   "metadata": {},
   "outputs": [],
   "source": []
  }
 ],
 "metadata": {
  "kernelspec": {
   "display_name": "Python 3",
   "language": "python",
   "name": "python3"
  },
  "language_info": {
   "codemirror_mode": {
    "name": "ipython",
    "version": 3
   },
   "file_extension": ".py",
   "mimetype": "text/x-python",
   "name": "python",
   "nbconvert_exporter": "python",
   "pygments_lexer": "ipython3",
   "version": "3.7.6"
  },
  "toc": {
   "base_numbering": 1,
   "nav_menu": {},
   "number_sections": true,
   "sideBar": true,
   "skip_h1_title": false,
   "title_cell": "Table of Contents",
   "title_sidebar": "Contents",
   "toc_cell": false,
   "toc_position": {},
   "toc_section_display": true,
   "toc_window_display": false
  }
 },
 "nbformat": 4,
 "nbformat_minor": 4
}
